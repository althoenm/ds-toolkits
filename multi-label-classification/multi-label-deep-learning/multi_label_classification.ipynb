{
 "cells": [
  {
   "cell_type": "code",
   "execution_count": 1,
   "id": "4417a751-5cdd-473c-9ebd-2dd8f0c8b44b",
   "metadata": {},
   "outputs": [
    {
     "name": "stdout",
     "output_type": "stream",
     "text": [
      "(1000, 10) (1000, 3)\n",
      "[ 3.  3.  6.  7.  8.  2. 11. 11.  1.  3.] [1 1 0]\n",
      "[7. 6. 4. 4. 6. 8. 3. 4. 6. 4.] [0 0 0]\n",
      "[ 5.  5. 13.  7.  6.  3.  6. 11.  4.  2.] [1 1 0]\n",
      "[1. 1. 5. 5. 7. 3. 4. 6. 4. 4.] [1 1 1]\n",
      "[ 4.  2.  3. 13.  7.  2.  4. 12.  1.  7.] [0 1 0]\n",
      "[ 4.  3.  3.  2.  5.  2.  3.  7.  2. 10.] [0 0 0]\n",
      "[ 3.  3.  3. 11.  6.  3.  4. 14.  1.  3.] [0 1 0]\n",
      "[ 2.  1.  7.  8.  4.  5. 10.  4.  6.  6.] [1 1 1]\n",
      "[ 5.  1.  9.  5.  3.  4. 11.  8.  1.  8.] [1 1 1]\n",
      "[ 2. 11.  7.  6.  2.  2.  9. 11.  9.  3.] [1 1 1]\n"
     ]
    }
   ],
   "source": [
    "# example of a multi-label classification task\n",
    "from sklearn.datasets import make_multilabel_classification\n",
    "# define dataset\n",
    "X, y = make_multilabel_classification(n_samples=1000, n_features=10, n_classes=3, n_labels=2, random_state=1)\n",
    "# summarize dataset shape\n",
    "print(X.shape, y.shape)\n",
    "# summarize first few examples\n",
    "for i in range(10):\n",
    "\tprint(X[i], y[i])"
   ]
  },
  {
   "cell_type": "code",
   "execution_count": 19,
   "id": "44e8a1c3-ed23-471e-b98e-d5ee95d5825e",
   "metadata": {},
   "outputs": [
    {
     "name": "stdout",
     "output_type": "stream",
     "text": [
      ">0.840\n",
      ">0.810\n",
      ">0.880\n",
      ">0.800\n",
      ">0.870\n",
      ">0.750\n",
      ">0.770\n",
      ">0.860\n",
      ">0.800\n",
      ">0.730\n",
      ">0.830\n",
      ">0.790\n",
      ">0.830\n",
      ">0.820\n",
      ">0.780\n",
      ">0.800\n",
      ">0.810\n",
      ">0.870\n",
      ">0.810\n",
      ">0.840\n",
      ">0.810\n",
      ">0.830\n",
      ">0.810\n",
      ">0.830\n",
      ">0.850\n",
      ">0.750\n",
      ">0.810\n",
      ">0.780\n",
      ">0.830\n",
      ">0.860\n",
      "Accuracy: 0.815 (0.036)\n"
     ]
    }
   ],
   "source": [
    "# mlp for multi-label classification\n",
    "from numpy import mean\n",
    "from numpy import std\n",
    "from sklearn.datasets import make_multilabel_classification\n",
    "from sklearn.model_selection import RepeatedKFold\n",
    "from tensorflow.keras.models import Sequential\n",
    "from tensorflow.keras.layers import Dense\n",
    "from sklearn.metrics import accuracy_score\n",
    " \n",
    "# get the dataset\n",
    "def get_dataset():\n",
    "\tX, y = make_multilabel_classification(n_samples=1000, n_features=10, n_classes=3, n_labels=2, random_state=1)\n",
    "\treturn X, y\n",
    " \n",
    "# get the model\n",
    "def get_model(n_inputs, n_outputs):\n",
    "    model = tf.keras.Sequential()\n",
    "    model.add(tf.keras.layers.Dense(20, input_dim=n_inputs, kernel_initializer='he_uniform', activation='relu'))\n",
    "    model.add(tf.keras.layers.Dense(n_outputs, activation='sigmoid'))\n",
    "    model.compile(loss='binary_crossentropy', optimizer='adam')\n",
    "    return model\n",
    "    \n",
    " \n",
    "# evaluate a model using repeated k-fold cross-validation\n",
    "def evaluate_model(X, y):\n",
    "\tresults = list()\n",
    "\tn_inputs, n_outputs = X.shape[1], y.shape[1]\n",
    "\t# define evaluation procedure\n",
    "\tcv = RepeatedKFold(n_splits=10, n_repeats=3, random_state=1)\n",
    "\t# enumerate folds\n",
    "\tfor train_ix, test_ix in cv.split(X):\n",
    "\t\t# prepare data\n",
    "\t\tX_train, X_test = X[train_ix], X[test_ix]\n",
    "\t\ty_train, y_test = y[train_ix], y[test_ix]\n",
    "\t\t# define model\n",
    "\t\tmodel = get_model(n_inputs, n_outputs)\n",
    "\t\t# fit model\n",
    "\t\tmodel.fit(X_train, y_train, verbose=0, epochs=100)\n",
    "\t\t# make a prediction on the test set\n",
    "\t\tyhat = model.predict(X_test)\n",
    "\t\t# round probabilities to class labels\n",
    "\t\tyhat = yhat.round()\n",
    "\t\t# calculate accuracy\n",
    "\t\tacc = accuracy_score(y_test, yhat)\n",
    "\t\t# store result\n",
    "\t\tprint('>%.3f' % acc)\n",
    "\t\tresults.append(acc)\n",
    "\treturn results\n",
    " \n",
    "# load dataset\n",
    "X, y = get_dataset()\n",
    "# evaluate model\n",
    "results = evaluate_model(X, y)\n",
    "# summarize performance\n",
    "print('Accuracy: %.3f (%.3f)' % (mean(results), std(results)))"
   ]
  }
 ],
 "metadata": {
  "kernelspec": {
   "display_name": "Python 3 (ipykernel)",
   "language": "python",
   "name": "python3"
  },
  "language_info": {
   "codemirror_mode": {
    "name": "ipython",
    "version": 3
   },
   "file_extension": ".py",
   "mimetype": "text/x-python",
   "name": "python",
   "nbconvert_exporter": "python",
   "pygments_lexer": "ipython3",
   "version": "3.8.8"
  }
 },
 "nbformat": 4,
 "nbformat_minor": 5
}
