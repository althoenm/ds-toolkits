{
 "cells": [
  {
   "cell_type": "markdown",
   "metadata": {},
   "source": [
    "# SI 618 HW 1 - Matteo Althoen #"
   ]
  },
  {
   "cell_type": "markdown",
   "metadata": {},
   "source": [
    "## Introduction ##"
   ]
  },
  {
   "cell_type": "markdown",
   "metadata": {},
   "source": [
    "**Q1:Mount drive and change directory to where ‘book_data.csv’ is located (0.5 point)**"
   ]
  },
  {
   "cell_type": "code",
   "execution_count": 1,
   "metadata": {},
   "outputs": [],
   "source": [
    "#Import Libraries\n",
    "import numpy as np\n",
    "import pandas as pd\n",
    "\n",
    "#Currently working in same directory as book_data so no directory change necessary"
   ]
  },
  {
   "cell_type": "markdown",
   "metadata": {},
   "source": [
    "**Q2: Load the dataset. (0.5 point)**"
   ]
  },
  {
   "cell_type": "code",
   "execution_count": 2,
   "metadata": {},
   "outputs": [],
   "source": [
    "df = pd.read_csv('book_data.csv')"
   ]
  },
  {
   "cell_type": "markdown",
   "metadata": {},
   "source": [
    "**Q3: How many books are there? (2 points)**\n"
   ]
  },
  {
   "cell_type": "code",
   "execution_count": 18,
   "metadata": {},
   "outputs": [
    {
     "data": {
      "text/plain": [
       "1058"
      ]
     },
     "execution_count": 18,
     "metadata": {},
     "output_type": "execute_result"
    }
   ],
   "source": [
    "#Counting total number of books,only counting books with same title and author once\n",
    "len(df[['book_title','book_authors']].drop_duplicates())"
   ]
  },
  {
   "cell_type": "markdown",
   "metadata": {},
   "source": [
    "**Q4: How many books have more than 1 author? (2 points)**"
   ]
  },
  {
   "cell_type": "code",
   "execution_count": 19,
   "metadata": {},
   "outputs": [
    {
     "data": {
      "text/plain": [
       "135"
      ]
     },
     "execution_count": 19,
     "metadata": {},
     "output_type": "execute_result"
    }
   ],
   "source": [
    "#Refer to question 13 for 'no_of_authors' logic\n",
    "np.sum(df['no_of_authors'] > 1)"
   ]
  },
  {
   "cell_type": "markdown",
   "metadata": {},
   "source": [
    "## Length ##"
   ]
  },
  {
   "cell_type": "markdown",
   "metadata": {},
   "source": [
    "**Q5 You will want to create a new column with the integer value of the number of pages. (If you remove rows in this process, please state why.) (15 points)**\n",
    "    Removed Rows with nan as page number. This was so they would not effect analyses done assuming that values are all integers. "
   ]
  },
  {
   "cell_type": "code",
   "execution_count": 20,
   "metadata": {},
   "outputs": [
    {
     "data": {
      "text/html": [
       "<div>\n",
       "<style scoped>\n",
       "    .dataframe tbody tr th:only-of-type {\n",
       "        vertical-align: middle;\n",
       "    }\n",
       "\n",
       "    .dataframe tbody tr th {\n",
       "        vertical-align: top;\n",
       "    }\n",
       "\n",
       "    .dataframe thead th {\n",
       "        text-align: right;\n",
       "    }\n",
       "</style>\n",
       "<table border=\"1\" class=\"dataframe\">\n",
       "  <thead>\n",
       "    <tr style=\"text-align: right;\">\n",
       "      <th></th>\n",
       "      <th>book_authors</th>\n",
       "      <th>book_desc</th>\n",
       "      <th>no_of_authors</th>\n",
       "      <th>book_edition</th>\n",
       "      <th>book_format</th>\n",
       "      <th>book_isbn</th>\n",
       "      <th>int_book_pages</th>\n",
       "      <th>book_pages</th>\n",
       "      <th>book_rating</th>\n",
       "      <th>dis_book_rating</th>\n",
       "      <th>book_rating_count</th>\n",
       "      <th>book_review_count</th>\n",
       "      <th>book_title</th>\n",
       "      <th>genres</th>\n",
       "      <th>image_url</th>\n",
       "    </tr>\n",
       "  </thead>\n",
       "  <tbody>\n",
       "    <tr>\n",
       "      <th>0</th>\n",
       "      <td>Kristin Hannah</td>\n",
       "      <td>Alaska, 1974.Unpredictable. Unforgiving. Untam...</td>\n",
       "      <td>1</td>\n",
       "      <td>NaN</td>\n",
       "      <td>Kindle Edition</td>\n",
       "      <td>NaN</td>\n",
       "      <td>435</td>\n",
       "      <td>435 pages</td>\n",
       "      <td>4.33</td>\n",
       "      <td>4</td>\n",
       "      <td>146505</td>\n",
       "      <td>17438</td>\n",
       "      <td>The Great Alone</td>\n",
       "      <td>Fiction|Historical|Historical Fiction|Audioboo...</td>\n",
       "      <td>https://images.gr-assets.com/books/1501852423l...</td>\n",
       "    </tr>\n",
       "    <tr>\n",
       "      <th>1</th>\n",
       "      <td>Madeline Miller</td>\n",
       "      <td>In the house of Helios, god of the sun and mig...</td>\n",
       "      <td>1</td>\n",
       "      <td>NaN</td>\n",
       "      <td>Hardcover</td>\n",
       "      <td>9.78e+12</td>\n",
       "      <td>393</td>\n",
       "      <td>393 pages</td>\n",
       "      <td>4.34</td>\n",
       "      <td>4</td>\n",
       "      <td>61357</td>\n",
       "      <td>9369</td>\n",
       "      <td>Circe</td>\n",
       "      <td>Fantasy|Fiction|Fantasy|Mythology|Historical|H...</td>\n",
       "      <td>https://images.gr-assets.com/books/1508879575l...</td>\n",
       "    </tr>\n",
       "    <tr>\n",
       "      <th>2</th>\n",
       "      <td>Holly Black</td>\n",
       "      <td>Of course I want to be like them. They’re beau...</td>\n",
       "      <td>1</td>\n",
       "      <td>NaN</td>\n",
       "      <td>Hardcover</td>\n",
       "      <td>9.78e+12</td>\n",
       "      <td>370</td>\n",
       "      <td>370 pages</td>\n",
       "      <td>4.18</td>\n",
       "      <td>4</td>\n",
       "      <td>62897</td>\n",
       "      <td>11948</td>\n",
       "      <td>The Cruel Prince</td>\n",
       "      <td>Fantasy|Young Adult|Fairies|Fae</td>\n",
       "      <td>https://images.gr-assets.com/books/1493047153l...</td>\n",
       "    </tr>\n",
       "    <tr>\n",
       "      <th>3</th>\n",
       "      <td>A.J. Finn</td>\n",
       "      <td>Anna Fox lives alone—a recluse in her New York...</td>\n",
       "      <td>1</td>\n",
       "      <td>NaN</td>\n",
       "      <td>Kindle Edition</td>\n",
       "      <td>NaN</td>\n",
       "      <td>449</td>\n",
       "      <td>449 pages</td>\n",
       "      <td>3.97</td>\n",
       "      <td>3</td>\n",
       "      <td>175678</td>\n",
       "      <td>20645</td>\n",
       "      <td>The Woman in the Window</td>\n",
       "      <td>Mystery|Thriller|Fiction|Suspense|Thriller|Mys...</td>\n",
       "      <td>https://images.gr-assets.com/books/1528225499l...</td>\n",
       "    </tr>\n",
       "    <tr>\n",
       "      <th>4</th>\n",
       "      <td>Tara Westover</td>\n",
       "      <td>An unforgettable memoir in the tradition of Th...</td>\n",
       "      <td>1</td>\n",
       "      <td>NaN</td>\n",
       "      <td>Hardcover</td>\n",
       "      <td>9.78e+12</td>\n",
       "      <td>334</td>\n",
       "      <td>334 pages</td>\n",
       "      <td>4.47</td>\n",
       "      <td>4</td>\n",
       "      <td>128337</td>\n",
       "      <td>16424</td>\n",
       "      <td>Educated</td>\n",
       "      <td>Nonfiction|Autobiography|Memoir|Biography</td>\n",
       "      <td>https://images.gr-assets.com/books/1506026635l...</td>\n",
       "    </tr>\n",
       "    <tr>\n",
       "      <th>5</th>\n",
       "      <td>Tomi Adeyemi</td>\n",
       "      <td>They killed my mother.They took our magic.They...</td>\n",
       "      <td>1</td>\n",
       "      <td>NaN</td>\n",
       "      <td>Hardcover</td>\n",
       "      <td>9.78e+12</td>\n",
       "      <td>525</td>\n",
       "      <td>525 pages</td>\n",
       "      <td>4.25</td>\n",
       "      <td>4</td>\n",
       "      <td>56789</td>\n",
       "      <td>12046</td>\n",
       "      <td>Children of Blood and Bone</td>\n",
       "      <td>Fantasy|Young Adult|Fiction</td>\n",
       "      <td>https://images.gr-assets.com/books/1516127989l...</td>\n",
       "    </tr>\n",
       "    <tr>\n",
       "      <th>6</th>\n",
       "      <td>Tayari Jones</td>\n",
       "      <td>Newlyweds Celestial and Roy are the embodiment...</td>\n",
       "      <td>1</td>\n",
       "      <td>NaN</td>\n",
       "      <td>Hardcover</td>\n",
       "      <td>9.78e+12</td>\n",
       "      <td>308</td>\n",
       "      <td>308 pages</td>\n",
       "      <td>4.01</td>\n",
       "      <td>4</td>\n",
       "      <td>91515</td>\n",
       "      <td>9836</td>\n",
       "      <td>An American Marriage</td>\n",
       "      <td>Fiction|Contemporary|Audiobook</td>\n",
       "      <td>https://images.gr-assets.com/books/1491493625l...</td>\n",
       "    </tr>\n",
       "    <tr>\n",
       "      <th>7</th>\n",
       "      <td>Michelle McNamara|Gillian Flynn|Patton Oswalt</td>\n",
       "      <td>A masterful true crime account of the Golden S...</td>\n",
       "      <td>3</td>\n",
       "      <td>NaN</td>\n",
       "      <td>ebook</td>\n",
       "      <td>9.78e+12</td>\n",
       "      <td>352</td>\n",
       "      <td>352 pages</td>\n",
       "      <td>4.22</td>\n",
       "      <td>4</td>\n",
       "      <td>60784</td>\n",
       "      <td>7148</td>\n",
       "      <td>I'll Be Gone in the Dark: One Woman's Obsessiv...</td>\n",
       "      <td>Nonfiction|Crime|True Crime|Mystery|Crime|Myst...</td>\n",
       "      <td>https://images.gr-assets.com/books/1499131009l...</td>\n",
       "    </tr>\n",
       "    <tr>\n",
       "      <th>8</th>\n",
       "      <td>Greer Hendricks|Sarah Pekkanen</td>\n",
       "      <td>When you read this book, you will make many as...</td>\n",
       "      <td>2</td>\n",
       "      <td>NaN</td>\n",
       "      <td>Hardcover</td>\n",
       "      <td>9.78e+12</td>\n",
       "      <td>346</td>\n",
       "      <td>346 pages</td>\n",
       "      <td>3.85</td>\n",
       "      <td>3</td>\n",
       "      <td>89835</td>\n",
       "      <td>11331</td>\n",
       "      <td>The Wife Between Us</td>\n",
       "      <td>Thriller|Fiction|Mystery|Suspense|Thriller|Mys...</td>\n",
       "      <td>https://images.gr-assets.com/books/1496862122l...</td>\n",
       "    </tr>\n",
       "    <tr>\n",
       "      <th>9</th>\n",
       "      <td>Neal Shusterman</td>\n",
       "      <td>Rowan has gone rogue, and has taken it upon hi...</td>\n",
       "      <td>1</td>\n",
       "      <td>NaN</td>\n",
       "      <td>Hardcover</td>\n",
       "      <td>9.78e+12</td>\n",
       "      <td>504</td>\n",
       "      <td>504 pages</td>\n",
       "      <td>4.53</td>\n",
       "      <td>4</td>\n",
       "      <td>22823</td>\n",
       "      <td>4620</td>\n",
       "      <td>Thunderhead</td>\n",
       "      <td>Young Adult|Science Fiction|Science Fiction|Dy...</td>\n",
       "      <td>https://images.gr-assets.com/books/1505658534l...</td>\n",
       "    </tr>\n",
       "  </tbody>\n",
       "</table>\n",
       "</div>"
      ],
      "text/plain": [
       "                                    book_authors  \\\n",
       "0                                 Kristin Hannah   \n",
       "1                                Madeline Miller   \n",
       "2                                    Holly Black   \n",
       "3                                      A.J. Finn   \n",
       "4                                  Tara Westover   \n",
       "5                                   Tomi Adeyemi   \n",
       "6                                   Tayari Jones   \n",
       "7  Michelle McNamara|Gillian Flynn|Patton Oswalt   \n",
       "8                 Greer Hendricks|Sarah Pekkanen   \n",
       "9                                Neal Shusterman   \n",
       "\n",
       "                                           book_desc no_of_authors  \\\n",
       "0  Alaska, 1974.Unpredictable. Unforgiving. Untam...             1   \n",
       "1  In the house of Helios, god of the sun and mig...             1   \n",
       "2  Of course I want to be like them. They’re beau...             1   \n",
       "3  Anna Fox lives alone—a recluse in her New York...             1   \n",
       "4  An unforgettable memoir in the tradition of Th...             1   \n",
       "5  They killed my mother.They took our magic.They...             1   \n",
       "6  Newlyweds Celestial and Roy are the embodiment...             1   \n",
       "7  A masterful true crime account of the Golden S...             3   \n",
       "8  When you read this book, you will make many as...             2   \n",
       "9  Rowan has gone rogue, and has taken it upon hi...             1   \n",
       "\n",
       "  book_edition     book_format book_isbn int_book_pages book_pages  \\\n",
       "0          NaN  Kindle Edition       NaN            435  435 pages   \n",
       "1          NaN       Hardcover  9.78e+12            393  393 pages   \n",
       "2          NaN       Hardcover  9.78e+12            370  370 pages   \n",
       "3          NaN  Kindle Edition       NaN            449  449 pages   \n",
       "4          NaN       Hardcover  9.78e+12            334  334 pages   \n",
       "5          NaN       Hardcover  9.78e+12            525  525 pages   \n",
       "6          NaN       Hardcover  9.78e+12            308  308 pages   \n",
       "7          NaN           ebook  9.78e+12            352  352 pages   \n",
       "8          NaN       Hardcover  9.78e+12            346  346 pages   \n",
       "9          NaN       Hardcover  9.78e+12            504  504 pages   \n",
       "\n",
       "  book_rating dis_book_rating book_rating_count book_review_count  \\\n",
       "0        4.33               4            146505             17438   \n",
       "1        4.34               4             61357              9369   \n",
       "2        4.18               4             62897             11948   \n",
       "3        3.97               3            175678             20645   \n",
       "4        4.47               4            128337             16424   \n",
       "5        4.25               4             56789             12046   \n",
       "6        4.01               4             91515              9836   \n",
       "7        4.22               4             60784              7148   \n",
       "8        3.85               3             89835             11331   \n",
       "9        4.53               4             22823              4620   \n",
       "\n",
       "                                          book_title  \\\n",
       "0                                    The Great Alone   \n",
       "1                                              Circe   \n",
       "2                                   The Cruel Prince   \n",
       "3                            The Woman in the Window   \n",
       "4                                           Educated   \n",
       "5                         Children of Blood and Bone   \n",
       "6                               An American Marriage   \n",
       "7  I'll Be Gone in the Dark: One Woman's Obsessiv...   \n",
       "8                                The Wife Between Us   \n",
       "9                                        Thunderhead   \n",
       "\n",
       "                                              genres  \\\n",
       "0  Fiction|Historical|Historical Fiction|Audioboo...   \n",
       "1  Fantasy|Fiction|Fantasy|Mythology|Historical|H...   \n",
       "2                    Fantasy|Young Adult|Fairies|Fae   \n",
       "3  Mystery|Thriller|Fiction|Suspense|Thriller|Mys...   \n",
       "4          Nonfiction|Autobiography|Memoir|Biography   \n",
       "5                        Fantasy|Young Adult|Fiction   \n",
       "6                     Fiction|Contemporary|Audiobook   \n",
       "7  Nonfiction|Crime|True Crime|Mystery|Crime|Myst...   \n",
       "8  Thriller|Fiction|Mystery|Suspense|Thriller|Mys...   \n",
       "9  Young Adult|Science Fiction|Science Fiction|Dy...   \n",
       "\n",
       "                                           image_url  \n",
       "0  https://images.gr-assets.com/books/1501852423l...  \n",
       "1  https://images.gr-assets.com/books/1508879575l...  \n",
       "2  https://images.gr-assets.com/books/1493047153l...  \n",
       "3  https://images.gr-assets.com/books/1528225499l...  \n",
       "4  https://images.gr-assets.com/books/1506026635l...  \n",
       "5  https://images.gr-assets.com/books/1516127989l...  \n",
       "6  https://images.gr-assets.com/books/1491493625l...  \n",
       "7  https://images.gr-assets.com/books/1499131009l...  \n",
       "8  https://images.gr-assets.com/books/1496862122l...  \n",
       "9  https://images.gr-assets.com/books/1505658534l...  "
      ]
     },
     "execution_count": 20,
     "metadata": {},
     "output_type": "execute_result"
    }
   ],
   "source": [
    "str_pages = df['book_pages']\n",
    "page_numbers = []\n",
    "\n",
    "#Seperate page numeric value from string and append to new page_number list of integers.\n",
    "for page in str_pages:\n",
    "    str_pg = str(page)\n",
    "    if str_pg != 'nan':\n",
    "        page_num = int(str_pg.replace(\" pages\",\"\"))\n",
    "    else:\n",
    "        page_num = 'nan'\n",
    "    page_numbers.append(page_num)\n",
    "\n",
    "#Insert page_number list into new column int_book_pages\n",
    "df.insert(6,\"int_book_pages\", page_numbers, True)\n",
    "\n",
    "#Drop duplicate columns (covers if insert run multiple times)\n",
    "df = df.T.drop_duplicates().T\n",
    "\n",
    "#Remove rows with nan values for book pages\n",
    "df = df[df.int_book_pages != 'nan']\n",
    "\n",
    "df.head(10) #notice presence of new column :)\n"
   ]
  },
  {
   "cell_type": "code",
   "execution_count": null,
   "metadata": {},
   "outputs": [],
   "source": []
  },
  {
   "cell_type": "markdown",
   "metadata": {},
   "source": [
    "**Q6 What is the average number of pages? (5 points)**"
   ]
  },
  {
   "cell_type": "code",
   "execution_count": 21,
   "metadata": {},
   "outputs": [
    {
     "data": {
      "text/plain": [
       "327.9000933706816"
      ]
     },
     "execution_count": 21,
     "metadata": {},
     "output_type": "execute_result"
    }
   ],
   "source": [
    "df['int_book_pages'].mean()"
   ]
  },
  {
   "cell_type": "markdown",
   "metadata": {},
   "source": [
    "**Q7 What is the median number of pages? (5 points)**"
   ]
  },
  {
   "cell_type": "code",
   "execution_count": 22,
   "metadata": {},
   "outputs": [
    {
     "data": {
      "text/plain": [
       "328.0"
      ]
     },
     "execution_count": 22,
     "metadata": {},
     "output_type": "execute_result"
    }
   ],
   "source": [
    "df['int_book_pages'].median()"
   ]
  },
  {
   "cell_type": "markdown",
   "metadata": {},
   "source": [
    "**Q8: Does having more than 1 author result in a longer book on average? What is the average number of pages for books written by a single author? What is it for when there are at least two authors?**"
   ]
  },
  {
   "cell_type": "code",
   "execution_count": 23,
   "metadata": {},
   "outputs": [
    {
     "data": {
      "text/plain": [
       "int_book_pages    334.227564\n",
       "dtype: float64"
      ]
     },
     "execution_count": 23,
     "metadata": {},
     "output_type": "execute_result"
    }
   ],
   "source": [
    "# 1 author author average length\n",
    "df[df[\"no_of_authors\"] == 1][['int_book_pages']].mean()\n",
    "\n"
   ]
  },
  {
   "cell_type": "code",
   "execution_count": 24,
   "metadata": {},
   "outputs": [
    {
     "data": {
      "text/plain": [
       "int_book_pages    284.02963\n",
       "dtype: float64"
      ]
     },
     "execution_count": 24,
     "metadata": {},
     "output_type": "execute_result"
    }
   ],
   "source": [
    "#Mult authors average length\n",
    "df[df[\"no_of_authors\"] > 1][['int_book_pages']].mean()"
   ]
  },
  {
   "cell_type": "markdown",
   "metadata": {},
   "source": [
    "# Ratings #"
   ]
  },
  {
   "cell_type": "markdown",
   "metadata": {},
   "source": [
    "**Q9: How many books have at least a rating of 4.5? (2.5 points)**"
   ]
  },
  {
   "cell_type": "code",
   "execution_count": 9,
   "metadata": {},
   "outputs": [
    {
     "data": {
      "text/plain": [
       "67"
      ]
     },
     "execution_count": 9,
     "metadata": {},
     "output_type": "execute_result"
    }
   ],
   "source": [
    "df_ratings= df[\"book_rating\"].astype(float)\n",
    "\n",
    "df[df_ratings >= 4.5]['book_rating'].count()"
   ]
  },
  {
   "cell_type": "markdown",
   "metadata": {},
   "source": [
    "**Q10 How about at most a rating of 4.25? (2.5 points)**"
   ]
  },
  {
   "cell_type": "code",
   "execution_count": 10,
   "metadata": {},
   "outputs": [
    {
     "data": {
      "text/plain": [
       "856"
      ]
     },
     "execution_count": 10,
     "metadata": {},
     "output_type": "execute_result"
    }
   ],
   "source": [
    "df[df_ratings <= 4.25]['book_rating'].count()"
   ]
  },
  {
   "cell_type": "markdown",
   "metadata": {},
   "source": [
    "**Q11 Discretize the ratings. (1,2,3,4,5). (15 points)**"
   ]
  },
  {
   "cell_type": "code",
   "execution_count": 7,
   "metadata": {},
   "outputs": [
    {
     "data": {
      "text/plain": [
       "0       4\n",
       "1       4\n",
       "2       4\n",
       "3       3\n",
       "4       4\n",
       "       ..\n",
       "1136    3\n",
       "1137    3\n",
       "1138    3\n",
       "1139    3\n",
       "1140    3\n",
       "Name: ratings, Length: 1141, dtype: int64"
      ]
     },
     "execution_count": 7,
     "metadata": {},
     "output_type": "execute_result"
    }
   ],
   "source": [
    "book_rating= df['book_rating']\n",
    "\n",
    "dis_rating = np.digitize(book_rating,[1,2,3,4,5])\n",
    "\n",
    "dis_rating_series = pd.Series(dis_rating, name = 'ratings')\n",
    "\n",
    "dis_rating_series\n",
    "\n"
   ]
  },
  {
   "cell_type": "markdown",
   "metadata": {},
   "source": [
    "**Q12: For each of the discretized ratings (1,2,3,4,5), what is the average number of ratings? (5 points)**"
   ]
  },
  {
   "cell_type": "code",
   "execution_count": 11,
   "metadata": {},
   "outputs": [
    {
     "data": {
      "text/plain": [
       "dis_book_rating\n",
       "2    1448.666667\n",
       "3    5817.557652\n",
       "4    5705.286810\n",
       "5       2.555556\n",
       "Name: book_rating_count, dtype: float64"
      ]
     },
     "execution_count": 11,
     "metadata": {},
     "output_type": "execute_result"
    }
   ],
   "source": [
    "#Insert discretized rating into df\n",
    "df.insert(8, \"dis_book_rating\", dis_rating, True)\n",
    "\n",
    "#Remove duplicate columns\n",
    "df = df.T.drop_duplicates().T\n",
    "\n",
    "#Numericise and group on discretized bookrating\n",
    "grouped12 = pd.to_numeric(df['book_rating_count']).groupby(df['dis_book_rating'])\n",
    "\n",
    "#Find average number of ratings for each discratized group \n",
    "grouped12.mean()\n"
   ]
  },
  {
   "cell_type": "markdown",
   "metadata": {},
   "source": [
    "**Q13: How about the average number of authors? (5 points)**"
   ]
  },
  {
   "cell_type": "code",
   "execution_count": 14,
   "metadata": {},
   "outputs": [
    {
     "data": {
      "text/plain": [
       "dis_book_rating\n",
       "2    1.333333\n",
       "3    1.224319\n",
       "4    1.311350\n",
       "5    1.000000\n",
       "Name: no_of_authors, dtype: float64"
      ]
     },
     "execution_count": 14,
     "metadata": {},
     "output_type": "execute_result"
    }
   ],
   "source": [
    "authors = df['book_authors']\n",
    "number_of_authors = []\n",
    "\n",
    "#Find number of authors by counting number of pipes in field and adding 1\n",
    "for author in authors:\n",
    "    auth_num = (author.count('|') + 1)\n",
    "    number_of_authors.append(auth_num)\n",
    "\n",
    "#Insert column for number of authors in dataframe\n",
    "df.insert(2,\"no_of_authors\",number_of_authors,True)\n",
    "df = df.T.drop_duplicates().T\n",
    "\n",
    "#Find average number of authors for each discretized rating \n",
    "grouped13 = pd.to_numeric(df['no_of_authors']).groupby(df['dis_book_rating'])\n",
    "grouped13.mean()\n",
    "#df.head(10)"
   ]
  },
  {
   "cell_type": "markdown",
   "metadata": {},
   "source": [
    "## Genres ##"
   ]
  },
  {
   "cell_type": "markdown",
   "metadata": {},
   "source": [
    "**Q14: Create a new DataFrame, exploding the rows with multiple genres such that it is one row per genre/book. (15 points)**"
   ]
  },
  {
   "cell_type": "code",
   "execution_count": 48,
   "metadata": {},
   "outputs": [
    {
     "data": {
      "text/html": [
       "<div>\n",
       "<style scoped>\n",
       "    .dataframe tbody tr th:only-of-type {\n",
       "        vertical-align: middle;\n",
       "    }\n",
       "\n",
       "    .dataframe tbody tr th {\n",
       "        vertical-align: top;\n",
       "    }\n",
       "\n",
       "    .dataframe thead th {\n",
       "        text-align: right;\n",
       "    }\n",
       "</style>\n",
       "<table border=\"1\" class=\"dataframe\">\n",
       "  <thead>\n",
       "    <tr style=\"text-align: right;\">\n",
       "      <th></th>\n",
       "      <th>book_authors</th>\n",
       "      <th>book_desc</th>\n",
       "      <th>no_of_authors</th>\n",
       "      <th>book_edition</th>\n",
       "      <th>book_format</th>\n",
       "      <th>book_isbn</th>\n",
       "      <th>int_book_pages</th>\n",
       "      <th>book_pages</th>\n",
       "      <th>book_rating</th>\n",
       "      <th>dis_book_rating</th>\n",
       "      <th>book_rating_count</th>\n",
       "      <th>book_review_count</th>\n",
       "      <th>book_title</th>\n",
       "      <th>genres</th>\n",
       "      <th>list_genres</th>\n",
       "      <th>image_url</th>\n",
       "    </tr>\n",
       "  </thead>\n",
       "  <tbody>\n",
       "    <tr>\n",
       "      <th>0</th>\n",
       "      <td>Kristin Hannah</td>\n",
       "      <td>Alaska, 1974.Unpredictable. Unforgiving. Untam...</td>\n",
       "      <td>1</td>\n",
       "      <td>NaN</td>\n",
       "      <td>Kindle Edition</td>\n",
       "      <td>NaN</td>\n",
       "      <td>435</td>\n",
       "      <td>435 pages</td>\n",
       "      <td>4.33</td>\n",
       "      <td>4</td>\n",
       "      <td>146505</td>\n",
       "      <td>17438</td>\n",
       "      <td>The Great Alone</td>\n",
       "      <td>Fiction|Historical|Historical Fiction|Audioboo...</td>\n",
       "      <td>Fiction</td>\n",
       "      <td>https://images.gr-assets.com/books/1501852423l...</td>\n",
       "    </tr>\n",
       "    <tr>\n",
       "      <th>0</th>\n",
       "      <td>Kristin Hannah</td>\n",
       "      <td>Alaska, 1974.Unpredictable. Unforgiving. Untam...</td>\n",
       "      <td>1</td>\n",
       "      <td>NaN</td>\n",
       "      <td>Kindle Edition</td>\n",
       "      <td>NaN</td>\n",
       "      <td>435</td>\n",
       "      <td>435 pages</td>\n",
       "      <td>4.33</td>\n",
       "      <td>4</td>\n",
       "      <td>146505</td>\n",
       "      <td>17438</td>\n",
       "      <td>The Great Alone</td>\n",
       "      <td>Fiction|Historical|Historical Fiction|Audioboo...</td>\n",
       "      <td>Historical</td>\n",
       "      <td>https://images.gr-assets.com/books/1501852423l...</td>\n",
       "    </tr>\n",
       "    <tr>\n",
       "      <th>0</th>\n",
       "      <td>Kristin Hannah</td>\n",
       "      <td>Alaska, 1974.Unpredictable. Unforgiving. Untam...</td>\n",
       "      <td>1</td>\n",
       "      <td>NaN</td>\n",
       "      <td>Kindle Edition</td>\n",
       "      <td>NaN</td>\n",
       "      <td>435</td>\n",
       "      <td>435 pages</td>\n",
       "      <td>4.33</td>\n",
       "      <td>4</td>\n",
       "      <td>146505</td>\n",
       "      <td>17438</td>\n",
       "      <td>The Great Alone</td>\n",
       "      <td>Fiction|Historical|Historical Fiction|Audioboo...</td>\n",
       "      <td>Historical Fiction</td>\n",
       "      <td>https://images.gr-assets.com/books/1501852423l...</td>\n",
       "    </tr>\n",
       "    <tr>\n",
       "      <th>0</th>\n",
       "      <td>Kristin Hannah</td>\n",
       "      <td>Alaska, 1974.Unpredictable. Unforgiving. Untam...</td>\n",
       "      <td>1</td>\n",
       "      <td>NaN</td>\n",
       "      <td>Kindle Edition</td>\n",
       "      <td>NaN</td>\n",
       "      <td>435</td>\n",
       "      <td>435 pages</td>\n",
       "      <td>4.33</td>\n",
       "      <td>4</td>\n",
       "      <td>146505</td>\n",
       "      <td>17438</td>\n",
       "      <td>The Great Alone</td>\n",
       "      <td>Fiction|Historical|Historical Fiction|Audioboo...</td>\n",
       "      <td>Audiobook</td>\n",
       "      <td>https://images.gr-assets.com/books/1501852423l...</td>\n",
       "    </tr>\n",
       "    <tr>\n",
       "      <th>0</th>\n",
       "      <td>Kristin Hannah</td>\n",
       "      <td>Alaska, 1974.Unpredictable. Unforgiving. Untam...</td>\n",
       "      <td>1</td>\n",
       "      <td>NaN</td>\n",
       "      <td>Kindle Edition</td>\n",
       "      <td>NaN</td>\n",
       "      <td>435</td>\n",
       "      <td>435 pages</td>\n",
       "      <td>4.33</td>\n",
       "      <td>4</td>\n",
       "      <td>146505</td>\n",
       "      <td>17438</td>\n",
       "      <td>The Great Alone</td>\n",
       "      <td>Fiction|Historical|Historical Fiction|Audioboo...</td>\n",
       "      <td>Historical</td>\n",
       "      <td>https://images.gr-assets.com/books/1501852423l...</td>\n",
       "    </tr>\n",
       "    <tr>\n",
       "      <th>...</th>\n",
       "      <td>...</td>\n",
       "      <td>...</td>\n",
       "      <td>...</td>\n",
       "      <td>...</td>\n",
       "      <td>...</td>\n",
       "      <td>...</td>\n",
       "      <td>...</td>\n",
       "      <td>...</td>\n",
       "      <td>...</td>\n",
       "      <td>...</td>\n",
       "      <td>...</td>\n",
       "      <td>...</td>\n",
       "      <td>...</td>\n",
       "      <td>...</td>\n",
       "      <td>...</td>\n",
       "      <td>...</td>\n",
       "    </tr>\n",
       "    <tr>\n",
       "      <th>1140</th>\n",
       "      <td>Nisha Sharma</td>\n",
       "      <td>Winnie Mehta was never really convinced that R...</td>\n",
       "      <td>1</td>\n",
       "      <td>NaN</td>\n",
       "      <td>Hardcover</td>\n",
       "      <td>9.78e+12</td>\n",
       "      <td>304</td>\n",
       "      <td>304 pages</td>\n",
       "      <td>3.64</td>\n",
       "      <td>3</td>\n",
       "      <td>1322</td>\n",
       "      <td>395</td>\n",
       "      <td>My So-Called Bollywood Life</td>\n",
       "      <td>Young Adult|Contemporary|Romance|Fiction|Young...</td>\n",
       "      <td>Contemporary</td>\n",
       "      <td>https://images.gr-assets.com/books/1510586092l...</td>\n",
       "    </tr>\n",
       "    <tr>\n",
       "      <th>1140</th>\n",
       "      <td>Nisha Sharma</td>\n",
       "      <td>Winnie Mehta was never really convinced that R...</td>\n",
       "      <td>1</td>\n",
       "      <td>NaN</td>\n",
       "      <td>Hardcover</td>\n",
       "      <td>9.78e+12</td>\n",
       "      <td>304</td>\n",
       "      <td>304 pages</td>\n",
       "      <td>3.64</td>\n",
       "      <td>3</td>\n",
       "      <td>1322</td>\n",
       "      <td>395</td>\n",
       "      <td>My So-Called Bollywood Life</td>\n",
       "      <td>Young Adult|Contemporary|Romance|Fiction|Young...</td>\n",
       "      <td>Romance</td>\n",
       "      <td>https://images.gr-assets.com/books/1510586092l...</td>\n",
       "    </tr>\n",
       "    <tr>\n",
       "      <th>1140</th>\n",
       "      <td>Nisha Sharma</td>\n",
       "      <td>Winnie Mehta was never really convinced that R...</td>\n",
       "      <td>1</td>\n",
       "      <td>NaN</td>\n",
       "      <td>Hardcover</td>\n",
       "      <td>9.78e+12</td>\n",
       "      <td>304</td>\n",
       "      <td>304 pages</td>\n",
       "      <td>3.64</td>\n",
       "      <td>3</td>\n",
       "      <td>1322</td>\n",
       "      <td>395</td>\n",
       "      <td>My So-Called Bollywood Life</td>\n",
       "      <td>Young Adult|Contemporary|Romance|Fiction|Young...</td>\n",
       "      <td>Fiction</td>\n",
       "      <td>https://images.gr-assets.com/books/1510586092l...</td>\n",
       "    </tr>\n",
       "    <tr>\n",
       "      <th>1140</th>\n",
       "      <td>Nisha Sharma</td>\n",
       "      <td>Winnie Mehta was never really convinced that R...</td>\n",
       "      <td>1</td>\n",
       "      <td>NaN</td>\n",
       "      <td>Hardcover</td>\n",
       "      <td>9.78e+12</td>\n",
       "      <td>304</td>\n",
       "      <td>304 pages</td>\n",
       "      <td>3.64</td>\n",
       "      <td>3</td>\n",
       "      <td>1322</td>\n",
       "      <td>395</td>\n",
       "      <td>My So-Called Bollywood Life</td>\n",
       "      <td>Young Adult|Contemporary|Romance|Fiction|Young...</td>\n",
       "      <td>Young Adult</td>\n",
       "      <td>https://images.gr-assets.com/books/1510586092l...</td>\n",
       "    </tr>\n",
       "    <tr>\n",
       "      <th>1140</th>\n",
       "      <td>Nisha Sharma</td>\n",
       "      <td>Winnie Mehta was never really convinced that R...</td>\n",
       "      <td>1</td>\n",
       "      <td>NaN</td>\n",
       "      <td>Hardcover</td>\n",
       "      <td>9.78e+12</td>\n",
       "      <td>304</td>\n",
       "      <td>304 pages</td>\n",
       "      <td>3.64</td>\n",
       "      <td>3</td>\n",
       "      <td>1322</td>\n",
       "      <td>395</td>\n",
       "      <td>My So-Called Bollywood Life</td>\n",
       "      <td>Young Adult|Contemporary|Romance|Fiction|Young...</td>\n",
       "      <td>Young Adult Contemporary</td>\n",
       "      <td>https://images.gr-assets.com/books/1510586092l...</td>\n",
       "    </tr>\n",
       "  </tbody>\n",
       "</table>\n",
       "<p>6252 rows × 16 columns</p>\n",
       "</div>"
      ],
      "text/plain": [
       "        book_authors                                          book_desc  \\\n",
       "0     Kristin Hannah  Alaska, 1974.Unpredictable. Unforgiving. Untam...   \n",
       "0     Kristin Hannah  Alaska, 1974.Unpredictable. Unforgiving. Untam...   \n",
       "0     Kristin Hannah  Alaska, 1974.Unpredictable. Unforgiving. Untam...   \n",
       "0     Kristin Hannah  Alaska, 1974.Unpredictable. Unforgiving. Untam...   \n",
       "0     Kristin Hannah  Alaska, 1974.Unpredictable. Unforgiving. Untam...   \n",
       "...              ...                                                ...   \n",
       "1140    Nisha Sharma  Winnie Mehta was never really convinced that R...   \n",
       "1140    Nisha Sharma  Winnie Mehta was never really convinced that R...   \n",
       "1140    Nisha Sharma  Winnie Mehta was never really convinced that R...   \n",
       "1140    Nisha Sharma  Winnie Mehta was never really convinced that R...   \n",
       "1140    Nisha Sharma  Winnie Mehta was never really convinced that R...   \n",
       "\n",
       "     no_of_authors book_edition     book_format book_isbn int_book_pages  \\\n",
       "0                1          NaN  Kindle Edition       NaN            435   \n",
       "0                1          NaN  Kindle Edition       NaN            435   \n",
       "0                1          NaN  Kindle Edition       NaN            435   \n",
       "0                1          NaN  Kindle Edition       NaN            435   \n",
       "0                1          NaN  Kindle Edition       NaN            435   \n",
       "...            ...          ...             ...       ...            ...   \n",
       "1140             1          NaN       Hardcover  9.78e+12            304   \n",
       "1140             1          NaN       Hardcover  9.78e+12            304   \n",
       "1140             1          NaN       Hardcover  9.78e+12            304   \n",
       "1140             1          NaN       Hardcover  9.78e+12            304   \n",
       "1140             1          NaN       Hardcover  9.78e+12            304   \n",
       "\n",
       "     book_pages book_rating dis_book_rating book_rating_count  \\\n",
       "0     435 pages        4.33               4            146505   \n",
       "0     435 pages        4.33               4            146505   \n",
       "0     435 pages        4.33               4            146505   \n",
       "0     435 pages        4.33               4            146505   \n",
       "0     435 pages        4.33               4            146505   \n",
       "...         ...         ...             ...               ...   \n",
       "1140  304 pages        3.64               3              1322   \n",
       "1140  304 pages        3.64               3              1322   \n",
       "1140  304 pages        3.64               3              1322   \n",
       "1140  304 pages        3.64               3              1322   \n",
       "1140  304 pages        3.64               3              1322   \n",
       "\n",
       "     book_review_count                   book_title  \\\n",
       "0                17438              The Great Alone   \n",
       "0                17438              The Great Alone   \n",
       "0                17438              The Great Alone   \n",
       "0                17438              The Great Alone   \n",
       "0                17438              The Great Alone   \n",
       "...                ...                          ...   \n",
       "1140               395  My So-Called Bollywood Life   \n",
       "1140               395  My So-Called Bollywood Life   \n",
       "1140               395  My So-Called Bollywood Life   \n",
       "1140               395  My So-Called Bollywood Life   \n",
       "1140               395  My So-Called Bollywood Life   \n",
       "\n",
       "                                                 genres  \\\n",
       "0     Fiction|Historical|Historical Fiction|Audioboo...   \n",
       "0     Fiction|Historical|Historical Fiction|Audioboo...   \n",
       "0     Fiction|Historical|Historical Fiction|Audioboo...   \n",
       "0     Fiction|Historical|Historical Fiction|Audioboo...   \n",
       "0     Fiction|Historical|Historical Fiction|Audioboo...   \n",
       "...                                                 ...   \n",
       "1140  Young Adult|Contemporary|Romance|Fiction|Young...   \n",
       "1140  Young Adult|Contemporary|Romance|Fiction|Young...   \n",
       "1140  Young Adult|Contemporary|Romance|Fiction|Young...   \n",
       "1140  Young Adult|Contemporary|Romance|Fiction|Young...   \n",
       "1140  Young Adult|Contemporary|Romance|Fiction|Young...   \n",
       "\n",
       "                   list_genres  \\\n",
       "0                      Fiction   \n",
       "0                   Historical   \n",
       "0           Historical Fiction   \n",
       "0                    Audiobook   \n",
       "0                   Historical   \n",
       "...                        ...   \n",
       "1140              Contemporary   \n",
       "1140                   Romance   \n",
       "1140                   Fiction   \n",
       "1140               Young Adult   \n",
       "1140  Young Adult Contemporary   \n",
       "\n",
       "                                              image_url  \n",
       "0     https://images.gr-assets.com/books/1501852423l...  \n",
       "0     https://images.gr-assets.com/books/1501852423l...  \n",
       "0     https://images.gr-assets.com/books/1501852423l...  \n",
       "0     https://images.gr-assets.com/books/1501852423l...  \n",
       "0     https://images.gr-assets.com/books/1501852423l...  \n",
       "...                                                 ...  \n",
       "1140  https://images.gr-assets.com/books/1510586092l...  \n",
       "1140  https://images.gr-assets.com/books/1510586092l...  \n",
       "1140  https://images.gr-assets.com/books/1510586092l...  \n",
       "1140  https://images.gr-assets.com/books/1510586092l...  \n",
       "1140  https://images.gr-assets.com/books/1510586092l...  \n",
       "\n",
       "[6252 rows x 16 columns]"
      ]
     },
     "execution_count": 48,
     "metadata": {},
     "output_type": "execute_result"
    }
   ],
   "source": [
    "genres = df['genres']\n",
    "genre_list = []\n",
    "\n",
    "#Split multiple genre into lists, append list of genres to genre list\n",
    "for genre in genres:\n",
    "    str_genre = str(genre)\n",
    "    split = str_genre.split(\"|\")\n",
    "    genre_list.append(split)\n",
    "\n",
    "#Insert new column with list of columns\n",
    "df.insert(14,\"list_genres\",genre_list,True)\n",
    "df = df.loc[:,~df.columns.duplicated()]\n",
    "\n",
    "#Explode out genres to one genre per book\n",
    "df_explode = df.explode('list_genres')\n",
    "\n",
    "df_explode\n",
    "\n",
    "\n"
   ]
  },
  {
   "cell_type": "markdown",
   "metadata": {},
   "source": [
    "**Q15: What is the average rating of books from different genres? What is the median? (10 points)**"
   ]
  },
  {
   "cell_type": "code",
   "execution_count": 68,
   "metadata": {},
   "outputs": [
    {
     "data": {
      "text/plain": [
       "list_genres\n",
       "16th Century    4.130000\n",
       "20th Century    4.000000\n",
       "Abandoned       3.557692\n",
       "Abuse           4.395000\n",
       "Academic        4.190000\n",
       "Name: book_rating, dtype: float64"
      ]
     },
     "execution_count": 68,
     "metadata": {},
     "output_type": "execute_result"
    }
   ],
   "source": [
    "#Average rating per genre\n",
    "df_explode['book_rating'] = df['book_rating'].astype(float)\n",
    "\n",
    "df_genre_rating = df_explode.groupby('list_genres')['book_rating'].mean()\n",
    "df_genre_rating.head()"
   ]
  },
  {
   "cell_type": "code",
   "execution_count": 69,
   "metadata": {},
   "outputs": [
    {
     "data": {
      "text/plain": [
       "list_genres\n",
       "16th Century    4.13\n",
       "20th Century    4.00\n",
       "Abandoned       3.63\n",
       "Abuse           4.30\n",
       "Academic        4.11\n",
       "Name: book_rating, dtype: float64"
      ]
     },
     "execution_count": 69,
     "metadata": {},
     "output_type": "execute_result"
    }
   ],
   "source": [
    "#Median rating per genre\n",
    "df_explode['book_rating'] = df['book_rating'].astype(float)\n",
    "\n",
    "df_genre_rating = df_explode.groupby('list_genres')['book_rating'].median()\n",
    "df_genre_rating.head()"
   ]
  },
  {
   "cell_type": "markdown",
   "metadata": {},
   "source": [
    "**Q16: What is the average length of books from different genres? What is the median?**\n"
   ]
  },
  {
   "cell_type": "code",
   "execution_count": 71,
   "metadata": {},
   "outputs": [
    {
     "data": {
      "text/plain": [
       "list_genres\n",
       "16th Century    560.000000\n",
       "20th Century    256.000000\n",
       "Abandoned       343.923065\n",
       "Abuse           359.000000\n",
       "Academic        335.833344\n",
       "Name: int_book_pages, dtype: float32"
      ]
     },
     "execution_count": 71,
     "metadata": {},
     "output_type": "execute_result"
    }
   ],
   "source": [
    "#Average length\n",
    "\n",
    "df_explode['int_book_pages'] = pd.to_numeric(df['int_book_pages'], downcast='float')\n",
    "\n",
    "df_genre_length = df_explode.groupby('list_genres')['int_book_pages'].mean()\n",
    "df_genre_length.head()"
   ]
  },
  {
   "cell_type": "code",
   "execution_count": 72,
   "metadata": {},
   "outputs": [
    {
     "data": {
      "text/plain": [
       "list_genres\n",
       "16th Century    560.0\n",
       "20th Century    256.0\n",
       "Abandoned       308.0\n",
       "Abuse           349.0\n",
       "Academic        329.5\n",
       "Name: int_book_pages, dtype: float32"
      ]
     },
     "execution_count": 72,
     "metadata": {},
     "output_type": "execute_result"
    }
   ],
   "source": [
    "#Median Length\n",
    "\n",
    "df_explode['int_book_pages'] = pd.to_numeric(df['int_book_pages'], downcast='float')\n",
    "\n",
    "df_genre_length = df_explode.groupby('list_genres')['int_book_pages'].median()\n",
    "df_genre_length.head()"
   ]
  }
 ],
 "metadata": {
  "kernelspec": {
   "display_name": "Python 3",
   "language": "python",
   "name": "python3"
  },
  "language_info": {
   "codemirror_mode": {
    "name": "ipython",
    "version": 3
   },
   "file_extension": ".py",
   "mimetype": "text/x-python",
   "name": "python",
   "nbconvert_exporter": "python",
   "pygments_lexer": "ipython3",
   "version": "3.7.7"
  }
 },
 "nbformat": 4,
 "nbformat_minor": 4
}
