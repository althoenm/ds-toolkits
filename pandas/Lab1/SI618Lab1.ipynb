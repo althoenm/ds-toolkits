{
 "cells": [
  {
   "cell_type": "markdown",
   "metadata": {
    "colab_type": "text",
    "id": "dguwViJJOY0p"
   },
   "source": [
    "Initialize the lab by mounting the colab notebook to your google drive"
   ]
  },
  {
   "cell_type": "code",
   "execution_count": null,
   "metadata": {
    "colab": {},
    "colab_type": "code",
    "id": "iqV36vu-HJzu"
   },
   "outputs": [],
   "source": [
    "from google.colab import drive"
   ]
  },
  {
   "cell_type": "code",
   "execution_count": null,
   "metadata": {
    "colab": {
     "base_uri": "https://localhost:8080/",
     "height": 34
    },
    "colab_type": "code",
    "id": "98ayKAUAHQTJ",
    "outputId": "f6d31a42-d811-4c4a-c4db-5ef4aed97509"
   },
   "outputs": [],
   "source": [
    "drive.mount('/content/drive')"
   ]
  },
  {
   "cell_type": "markdown",
   "metadata": {
    "colab_type": "text",
    "id": "2Ih6uQjLSrXG"
   },
   "source": [
    "Example of Google Drive directory change"
   ]
  },
  {
   "cell_type": "code",
   "execution_count": null,
   "metadata": {
    "colab": {},
    "colab_type": "code",
    "id": "Xq4y8NFoSq-7"
   },
   "outputs": [],
   "source": [
    "%cd '/content/drive/My Drive/SI618/Labs/Lab1/Lab1'"
   ]
  },
  {
   "cell_type": "code",
   "execution_count": null,
   "metadata": {
    "colab": {},
    "colab_type": "code",
    "id": "ObYM_yxDhrEv"
   },
   "outputs": [],
   "source": [
    "%pwd"
   ]
  },
  {
   "cell_type": "code",
   "execution_count": null,
   "metadata": {
    "colab": {},
    "colab_type": "code",
    "id": "21-yWpl8iQpU"
   },
   "outputs": [],
   "source": [
    "comics_df = pd.read_csv('comic_characters.csv')\n",
    "comics_df     "
   ]
  },
  {
   "cell_type": "markdown",
   "metadata": {
    "colab_type": "text",
    "id": "xcOAx8qBSwPW"
   },
   "source": [
    "<font color='red'>To-do:</font> Insert a code cell and change your directory to your 618 materials in your google drive"
   ]
  },
  {
   "cell_type": "code",
   "execution_count": null,
   "metadata": {
    "colab": {
     "base_uri": "https://localhost:8080/",
     "height": 68
    },
    "colab_type": "code",
    "id": "WXN592P0YC2F",
    "outputId": "9eede2f3-e3a7-4061-fde4-09280be0aabb"
   },
   "outputs": [],
   "source": [
    "%cd '/content/drive/My Drive/SI618/Labs/Lab1/Lab1'\n",
    "\n"
   ]
  },
  {
   "cell_type": "code",
   "execution_count": null,
   "metadata": {
    "colab": {
     "base_uri": "https://localhost:8080/",
     "height": 51
    },
    "colab_type": "code",
    "id": "Kz1hCBDPZNam",
    "outputId": "5609c8a3-9e66-4b60-ba31-1e80066a539d"
   },
   "outputs": [],
   "source": [
    "%ls"
   ]
  },
  {
   "cell_type": "markdown",
   "metadata": {
    "colab_type": "text",
    "id": "UaRmwPBIHG__"
   },
   "source": [
    "Let's start by important the appropriate libraries."
   ]
  },
  {
   "cell_type": "code",
   "execution_count": null,
   "metadata": {
    "colab": {},
    "colab_type": "code",
    "id": "0uJMELq4HHAA"
   },
   "outputs": [],
   "source": [
    "import pandas as pd"
   ]
  },
  {
   "cell_type": "code",
   "execution_count": null,
   "metadata": {
    "colab": {},
    "colab_type": "code",
    "id": "35t6XAEMHHAE"
   },
   "outputs": [],
   "source": [
    "import numpy as np"
   ]
  },
  {
   "cell_type": "markdown",
   "metadata": {
    "colab_type": "text",
    "id": "rauHXHs6HHAG"
   },
   "source": [
    "<font color='red'>To-do:</font> Insert a cell in markdown mode and write \"This is a markdown example\" in italics."
   ]
  },
  {
   "cell_type": "markdown",
   "metadata": {},
   "source": [
    "*This is a markdown example*"
   ]
  },
  {
   "cell_type": "markdown",
   "metadata": {
    "colab_type": "text",
    "id": "bX_yr320HHAH"
   },
   "source": [
    "### Initialization\n",
    "You can create a Series by passing a list of values. By default, pandas will create an integer index."
   ]
  },
  {
   "cell_type": "code",
   "execution_count": null,
   "metadata": {
    "colab": {},
    "colab_type": "code",
    "id": "hSJCGO4VHHAH"
   },
   "outputs": [],
   "source": [
    "s = pd.Series([1,3,5,np.nan,6,8])\n",
    "s"
   ]
  },
  {
   "cell_type": "markdown",
   "metadata": {
    "colab_type": "text",
    "id": "TY8H5T-iHHAK"
   },
   "source": [
    "Let's create another Series"
   ]
  },
  {
   "cell_type": "code",
   "execution_count": null,
   "metadata": {
    "colab": {},
    "colab_type": "code",
    "id": "d57c85YGHHAL"
   },
   "outputs": [],
   "source": [
    "s2 = pd.Series([\"1\", \"10\", \"3\", \"44\"])"
   ]
  },
  {
   "cell_type": "code",
   "execution_count": null,
   "metadata": {
    "colab": {},
    "colab_type": "code",
    "id": "uY-3JU4ClO44"
   },
   "outputs": [],
   "source": [
    "s3 = pd.Series([\"3\",\"4\",\"5\"])\n",
    "s3"
   ]
  },
  {
   "cell_type": "markdown",
   "metadata": {
    "colab_type": "text",
    "id": "JTurILs3HHAN"
   },
   "source": [
    "<font color='red'>To-do:</font> Insert a new cell above this one and create a new series called s3. You can choose its datatype, size, and elements. Display the result."
   ]
  },
  {
   "cell_type": "markdown",
   "metadata": {
    "colab_type": "text",
    "id": "YoPn6AnhHHAN"
   },
   "source": [
    "<font color='red'>To-do:</font> If you aim to store integers, string is an inefficient data type. Let's convert this series to the appropriate data type and store the result in s4. Display s4."
   ]
  },
  {
   "cell_type": "code",
   "execution_count": null,
   "metadata": {
    "colab": {},
    "colab_type": "code",
    "id": "Uo0eaedRHHAO"
   },
   "outputs": [],
   "source": [
    "s4 = s3.astype(int) \n",
    "s4"
   ]
  },
  {
   "cell_type": "markdown",
   "metadata": {
    "colab_type": "text",
    "id": "1GlcepW2HHAQ"
   },
   "source": [
    "You can also use pandas to create a series of datetime objects. Let’s make one for the week beginning January 25th, 2015:"
   ]
  },
  {
   "cell_type": "code",
   "execution_count": null,
   "metadata": {
    "colab": {},
    "colab_type": "code",
    "id": "kOdLRoooHHAQ"
   },
   "outputs": [],
   "source": [
    "dates = pd.date_range('20150125',periods=7)\n",
    "dates"
   ]
  },
  {
   "cell_type": "markdown",
   "metadata": {
    "colab_type": "text",
    "id": "cql9Av61HHAX"
   },
   "source": [
    "<font color='red'>To-do:</font> Insert a new cell below this one and create a new dates2 DatetimeIndex object that starts June 20, 2020, ends with September June 25, 2020 and has five periods. Display the result."
   ]
  },
  {
   "cell_type": "code",
   "execution_count": null,
   "metadata": {
    "colab": {},
    "colab_type": "code",
    "id": "72xqQX1rm8aH"
   },
   "outputs": [],
   "source": [
    "dates2 = pd.date_range('20200620', periods=6)\n",
    "dates2\n"
   ]
  },
  {
   "cell_type": "markdown",
   "metadata": {
    "colab_type": "text",
    "id": "Ob_gpJ-FHHAY"
   },
   "source": [
    "Now we’ll create a DataFrame using the dates array as our index, fill it with some random values using numpy, and give the columns some labels."
   ]
  },
  {
   "cell_type": "code",
   "execution_count": null,
   "metadata": {
    "colab": {},
    "colab_type": "code",
    "id": "GQ9d4DLlHHAY",
    "scrolled": true
   },
   "outputs": [],
   "source": [
    "df = pd.DataFrame(np.random.randn(7,4), index=dates, columns=['col1','col2','col4','col3'])\n",
    "df"
   ]
  },
  {
   "cell_type": "markdown",
   "metadata": {
    "colab_type": "text",
    "id": "A6PY_w0yHHAa"
   },
   "source": [
    "<font color='red'>To-do:</font> Now create df2 that uses dates2 as its index. Use the same set of columns ('col1','col2','col4','col3')."
   ]
  },
  {
   "cell_type": "code",
   "execution_count": null,
   "metadata": {
    "colab": {},
    "colab_type": "code",
    "id": "kdPdoKoXHHAb"
   },
   "outputs": [],
   "source": [
    "df2 = pd.DataFrame(np.random.randn(6,4), index=dates2, columns=['col1','col2','col4','col3'])\n",
    "df2"
   ]
  },
  {
   "cell_type": "markdown",
   "metadata": {
    "colab_type": "text",
    "id": "ZKrh94UeHHAd"
   },
   "source": [
    "It can also be useful to know how to create a DataFrame from a dict of objects. This comes in particularly handy when working with JSON-like structures."
   ]
  },
  {
   "cell_type": "code",
   "execution_count": null,
   "metadata": {
    "colab": {},
    "colab_type": "code",
    "id": "L-qXzxyHHHAd"
   },
   "outputs": [],
   "source": [
    "df3 = pd.DataFrame({ 'A' : 1.,\n",
    "                            'B' : pd.Timestamp('20130102'),\n",
    "                            'C' : pd.Series(1,index=list(range(4)),dtype='float32'),\n",
    "                            'D' : np.array([3] * 4,dtype='int32'),\n",
    "                            'E' : pd.Categorical([\"test\",\"train\",\"test\",\"train\"]),\n",
    "                            'F' : 'foo' })\n",
    "df3"
   ]
  },
  {
   "cell_type": "markdown",
   "metadata": {
    "colab_type": "text",
    "id": "5ywg8vDDHHAf"
   },
   "source": [
    "<font color='red'>To-do:</font> Below we are trying to create another DataFrame df4. But there are some mistakes. Correct these mistakes to make sure the code compiles. Do not edit column c2."
   ]
  },
  {
   "cell_type": "code",
   "execution_count": null,
   "metadata": {
    "colab": {},
    "colab_type": "code",
    "id": "VAfZft52HHAg"
   },
   "outputs": [],
   "source": [
    "df4 = pd.DataFrame({ \"c1\" : [1,2,3,4],\n",
    "                       \"c2\": [1,3,3,\"book\"],\n",
    "                       \"c3\": [\"True\",\"False\",\"True\",\"False\"]})\n",
    "df4"
   ]
  },
  {
   "cell_type": "markdown",
   "metadata": {
    "colab_type": "text",
    "id": "D_pu2sc0HHAi"
   },
   "source": [
    "<font color='red'>To-do:</font> Print out the datatypes of columns in df4. "
   ]
  },
  {
   "cell_type": "code",
   "execution_count": null,
   "metadata": {
    "colab": {},
    "colab_type": "code",
    "id": "OXO9eT-wHHAi"
   },
   "outputs": [],
   "source": [
    "df4.dtypes"
   ]
  },
  {
   "cell_type": "markdown",
   "metadata": {
    "colab_type": "text",
    "id": "BNVKHXcIHHAk"
   },
   "source": [
    "What do you see for c2? You can see that pandas tries to find a common object type. This is great but this flexibility can also result in runtime errors.  Make sure you are careful with the use of data types."
   ]
  },
  {
   "cell_type": "markdown",
   "metadata": {
    "colab_type": "text",
    "id": "aJeR4iMlHHAl"
   },
   "source": [
    "### Exploring data in a DataFrame\n",
    "We can access the data types of each column in a DataFrame as follows:"
   ]
  },
  {
   "cell_type": "code",
   "execution_count": null,
   "metadata": {
    "colab": {},
    "colab_type": "code",
    "id": "RIC3x8N9HHAl"
   },
   "outputs": [],
   "source": [
    "df.index"
   ]
  },
  {
   "cell_type": "markdown",
   "metadata": {
    "colab_type": "text",
    "id": "UtLbE0zvHHAn"
   },
   "source": [
    "A few other basic operations:"
   ]
  },
  {
   "cell_type": "code",
   "execution_count": null,
   "metadata": {
    "colab": {},
    "colab_type": "code",
    "id": "bJZAPg0DHHAo"
   },
   "outputs": [],
   "source": [
    "df.values"
   ]
  },
  {
   "cell_type": "code",
   "execution_count": null,
   "metadata": {
    "colab": {},
    "colab_type": "code",
    "id": "qil-w8YCHHAq"
   },
   "outputs": [],
   "source": [
    "df.describe()"
   ]
  },
  {
   "cell_type": "markdown",
   "metadata": {
    "colab_type": "text",
    "id": "qEWuL5wnHHAr"
   },
   "source": [
    "<font color='red'>To-do:</font> Print the column names for df."
   ]
  },
  {
   "cell_type": "code",
   "execution_count": null,
   "metadata": {
    "colab": {},
    "colab_type": "code",
    "id": "Fsei0xDNHHAs"
   },
   "outputs": [],
   "source": [
    "list(df.columns)\n"
   ]
  },
  {
   "cell_type": "markdown",
   "metadata": {
    "colab_type": "text",
    "id": "GOVC4HKqHHAu"
   },
   "source": [
    "### Some basic data transformations\n",
    "DataFrames have a built-in transpose"
   ]
  },
  {
   "cell_type": "code",
   "execution_count": null,
   "metadata": {
    "colab": {},
    "colab_type": "code",
    "id": "RL7Z_072HHAv"
   },
   "outputs": [],
   "source": [
    "df.T"
   ]
  },
  {
   "cell_type": "markdown",
   "metadata": {
    "colab_type": "text",
    "id": "jErQq0vHHHAw"
   },
   "source": [
    "We can also sort a DataFrame along a given data dimension. For example, we might want to sort by the values in the second column:"
   ]
  },
  {
   "cell_type": "code",
   "execution_count": null,
   "metadata": {
    "colab": {},
    "colab_type": "code",
    "id": "aC0hVhBFHHAx"
   },
   "outputs": [],
   "source": [
    "df.sort_values(by=['col2'])"
   ]
  },
  {
   "cell_type": "markdown",
   "metadata": {
    "colab_type": "text",
    "id": "B_0T4Ok4HHAy"
   },
   "source": [
    "We can also sort the rows (axis = 0) by their index values:"
   ]
  },
  {
   "cell_type": "code",
   "execution_count": null,
   "metadata": {
    "colab": {},
    "colab_type": "code",
    "id": "WqP8nN7_HHAz"
   },
   "outputs": [],
   "source": [
    "df.sort_index(axis=0, ascending=False)"
   ]
  },
  {
   "cell_type": "markdown",
   "metadata": {
    "colab_type": "text",
    "id": "0gb7EG6hHHA0"
   },
   "source": [
    "<font color='red'>To-do:</font> Sort df according to column header values using df.sort_index."
   ]
  },
  {
   "cell_type": "code",
   "execution_count": null,
   "metadata": {
    "colab": {},
    "colab_type": "code",
    "id": "ECfV26-5HHA1"
   },
   "outputs": [],
   "source": [
    "df.sort_index(1, ascending=True)\n"
   ]
  },
  {
   "cell_type": "markdown",
   "metadata": {
    "colab_type": "text",
    "id": "LVdBWp1gHHA2"
   },
   "source": [
    "### Selection\n",
    "To select only only the first few rows of a DataFrame, use the .head() function, or tail to get the last few rows. These functions by default return 5 rows but you can change that."
   ]
  },
  {
   "cell_type": "code",
   "execution_count": null,
   "metadata": {
    "colab": {},
    "colab_type": "code",
    "id": "R9kmWDYdHHA3"
   },
   "outputs": [],
   "source": [
    "df.head()"
   ]
  },
  {
   "cell_type": "markdown",
   "metadata": {
    "colab_type": "text",
    "id": "5IL5xxUYHHA5"
   },
   "source": [
    "<font color='red'>To-do:</font> Get the last 2 rows in df."
   ]
  },
  {
   "cell_type": "code",
   "execution_count": null,
   "metadata": {
    "colab": {},
    "colab_type": "code",
    "id": "-g89CZo8HHA5"
   },
   "outputs": [],
   "source": [
    "df.tail(n=2)"
   ]
  },
  {
   "cell_type": "markdown",
   "metadata": {
    "colab_type": "text",
    "id": "SWXlNsy3HHA8"
   },
   "source": [
    "Selecting a single column yields a Series, equivalent to df.col1:"
   ]
  },
  {
   "cell_type": "code",
   "execution_count": null,
   "metadata": {
    "colab": {},
    "colab_type": "code",
    "id": "3kNgIBojHHA8"
   },
   "outputs": [],
   "source": [
    "df['col1']"
   ]
  },
  {
   "cell_type": "markdown",
   "metadata": {
    "colab_type": "text",
    "id": "PVRf0HhWHHA-"
   },
   "source": [
    "We can also select a subset of the rows using slicing. You can select either by integer indexing or by value:"
   ]
  },
  {
   "cell_type": "code",
   "execution_count": null,
   "metadata": {
    "colab": {},
    "colab_type": "code",
    "id": "Bd0k5p9SHHA-"
   },
   "outputs": [],
   "source": [
    "df[1:3]"
   ]
  },
  {
   "cell_type": "code",
   "execution_count": null,
   "metadata": {
    "colab": {},
    "colab_type": "code",
    "id": "MSLNeSCzHHBB"
   },
   "outputs": [],
   "source": [
    "df['20150127':'20150130']"
   ]
  },
  {
   "cell_type": "markdown",
   "metadata": {
    "colab_type": "text",
    "id": "TtnVrvMyHHBC"
   },
   "source": [
    "To select more than one column at a time, try .loc[]):"
   ]
  },
  {
   "cell_type": "code",
   "execution_count": null,
   "metadata": {
    "colab": {},
    "colab_type": "code",
    "id": "agH8HN2jHHBD"
   },
   "outputs": [],
   "source": [
    "df.loc[:,['col2','col4']]"
   ]
  },
  {
   "cell_type": "markdown",
   "metadata": {
    "colab_type": "text",
    "id": "3DZ6lhpyHHBE"
   },
   "source": [
    "You can select on rows and columns at the same time:"
   ]
  },
  {
   "cell_type": "markdown",
   "metadata": {
    "colab_type": "text",
    "id": "ciPpCKP9HHBF"
   },
   "source": [
    "<font color='red'>To-do:</font> You can select on rows and columns at the same time. Select rows from '20150125' through '20150127' and columns col2, col3, and col4."
   ]
  },
  {
   "cell_type": "code",
   "execution_count": null,
   "metadata": {
    "colab": {},
    "colab_type": "code",
    "id": "K0MYYCH2HHBF"
   },
   "outputs": [],
   "source": [
    "df['20150125':'20150127'].loc[:,['col2', 'col3', 'col4']]\n"
   ]
  },
  {
   "cell_type": "markdown",
   "metadata": {
    "colab_type": "text",
    "id": "US3lDBrhHHBH"
   },
   "source": [
    "You can also use boolean indexing to select subset of a dataframe that satisfies a requirement"
   ]
  },
  {
   "cell_type": "code",
   "execution_count": null,
   "metadata": {
    "colab": {},
    "colab_type": "code",
    "id": "7M48fVvKHHBI"
   },
   "outputs": [],
   "source": [
    "df[df['col1'] > 0]"
   ]
  },
  {
   "cell_type": "markdown",
   "metadata": {
    "colab_type": "text",
    "id": "Jc6StviHHHBK"
   },
   "source": [
    "<font color='red'>To-do:</font> Now select the rows where both col2 and col3 are greater than zero."
   ]
  },
  {
   "cell_type": "code",
   "execution_count": null,
   "metadata": {
    "colab": {},
    "colab_type": "code",
    "id": "lt3MEFBwHHBK"
   },
   "outputs": [],
   "source": [
    "df[df > 0].loc[:,['col2','col3']]"
   ]
  },
  {
   "cell_type": "code",
   "execution_count": null,
   "metadata": {
    "colab": {},
    "colab_type": "code",
    "id": "zjSR6A1AHHBM"
   },
   "outputs": [],
   "source": [
    "nonneg_only = df[df > 0]"
   ]
  },
  {
   "cell_type": "code",
   "execution_count": null,
   "metadata": {
    "colab": {},
    "colab_type": "code",
    "id": "226qDtgfHHBO"
   },
   "outputs": [],
   "source": [
    "nonneg_only"
   ]
  },
  {
   "cell_type": "markdown",
   "metadata": {
    "colab_type": "text",
    "id": "39MDJ0STHHBQ"
   },
   "source": [
    "You can drop rows with missing values as such:"
   ]
  },
  {
   "cell_type": "code",
   "execution_count": null,
   "metadata": {
    "colab": {},
    "colab_type": "code",
    "id": "DJzd_hSoHHBQ"
   },
   "outputs": [],
   "source": [
    "nonneg_only.dropna()"
   ]
  },
  {
   "cell_type": "markdown",
   "metadata": {
    "colab_type": "text",
    "id": "PkU96VGxHHBS"
   },
   "source": [
    "There were no rows with no missing values (most likely, these are random numbers after all...) and therefore the result is an empty dataframe. You can instead assign a default value (here, 0) to the NaN values"
   ]
  },
  {
   "cell_type": "code",
   "execution_count": null,
   "metadata": {
    "colab": {},
    "colab_type": "code",
    "id": "DbOfTN5XHHBS"
   },
   "outputs": [],
   "source": [
    "nonneg_only.fillna(value=0)"
   ]
  },
  {
   "cell_type": "markdown",
   "metadata": {
    "colab_type": "text",
    "id": "bNdngGqNHHBU"
   },
   "source": [
    "You can also do filtering using non-numeric values:"
   ]
  },
  {
   "cell_type": "code",
   "execution_count": null,
   "metadata": {
    "colab": {},
    "colab_type": "code",
    "id": "46zRyU79HHBU"
   },
   "outputs": [],
   "source": [
    "df_c = df.copy()\n",
    "df_c['color'] = ['red', 'blue', 'red', 'red', 'blue', 'green', 'green' ]\n",
    "df_c"
   ]
  },
  {
   "cell_type": "code",
   "execution_count": null,
   "metadata": {
    "colab": {},
    "colab_type": "code",
    "id": "jM-LyZt_HHBW"
   },
   "outputs": [],
   "source": [
    "df_c[df_c['color'].isin(['red','blue'])]"
   ]
  },
  {
   "cell_type": "markdown",
   "metadata": {
    "colab_type": "text",
    "id": "NzZKRK51HHBX"
   },
   "source": [
    "### Combining DataFrames\n",
    "You can combine DataFrame objects using simple concatenation (provided they have the same columns):"
   ]
  },
  {
   "cell_type": "code",
   "execution_count": null,
   "metadata": {
    "colab": {},
    "colab_type": "code",
    "id": "vbKejz08HHBY"
   },
   "outputs": [],
   "source": [
    "frame_one = pd.DataFrame(np.random.randn(5, 4))\n",
    "frame_one"
   ]
  },
  {
   "cell_type": "code",
   "execution_count": null,
   "metadata": {
    "colab": {},
    "colab_type": "code",
    "id": "e_nh6EXrHHBa"
   },
   "outputs": [],
   "source": [
    "frame_two = pd.DataFrame(np.random.randn(5, 4))\n",
    "frame_two"
   ]
  },
  {
   "cell_type": "code",
   "execution_count": null,
   "metadata": {
    "colab": {},
    "colab_type": "code",
    "id": "PRa25ftkHHBd"
   },
   "outputs": [],
   "source": [
    "pd.concat([frame_one, frame_two])"
   ]
  },
  {
   "cell_type": "markdown",
   "metadata": {
    "colab_type": "text",
    "id": "87_G0AnHHHBg"
   },
   "source": [
    "<font color='red'>To-do:</font> Now concatenate along the other axis."
   ]
  },
  {
   "cell_type": "code",
   "execution_count": null,
   "metadata": {
    "colab": {},
    "colab_type": "code",
    "id": "nMgQLoenHHBg"
   },
   "outputs": [],
   "source": [
    "pd.concat([frame_one, frame_two], axis=1)"
   ]
  },
  {
   "cell_type": "markdown",
   "metadata": {
    "colab_type": "text",
    "id": "jqIYzwulHHBi"
   },
   "source": [
    "<font color='red'>To-do:</font> Do you see an issue here? What do you think we need to do to avoid this problem?"
   ]
  },
  {
   "cell_type": "markdown",
   "metadata": {
    "colab_type": "text",
    "id": "dUnkXHj5MPcF"
   },
   "source": [
    "Issue: The numeric row names repeat themselves, need to ignore index\n",
    "\n",
    "\n",
    "\n",
    "\n"
   ]
  },
  {
   "cell_type": "code",
   "execution_count": null,
   "metadata": {
    "colab": {},
    "colab_type": "code",
    "id": "gJ2gjqWBHHBj"
   },
   "outputs": [],
   "source": [
    "pd.concat([frame_one, frame_two], axis=1, ignore_index=True)"
   ]
  },
  {
   "cell_type": "markdown",
   "metadata": {
    "colab_type": "text",
    "id": "xyYl5_QPHHBk"
   },
   "source": [
    "You can also perform SQL-like merge operations"
   ]
  },
  {
   "cell_type": "code",
   "execution_count": null,
   "metadata": {
    "colab": {},
    "colab_type": "code",
    "id": "f36cuxibHHBl"
   },
   "outputs": [],
   "source": [
    "left = pd.DataFrame({'key': ['foo', 'bar'], 'lval': [1, 2]})\n",
    "left"
   ]
  },
  {
   "cell_type": "code",
   "execution_count": null,
   "metadata": {
    "colab": {},
    "colab_type": "code",
    "id": "yngHF153HHBn"
   },
   "outputs": [],
   "source": [
    "right = pd.DataFrame({'key': ['foo', 'foo', 'bar'], 'rval': [3, 4, 5]}) \n",
    "right"
   ]
  },
  {
   "cell_type": "code",
   "execution_count": null,
   "metadata": {
    "colab": {},
    "colab_type": "code",
    "id": "_uz8e877HHBo"
   },
   "outputs": [],
   "source": [
    "pd.merge(left, right, on='key')"
   ]
  },
  {
   "cell_type": "markdown",
   "metadata": {
    "colab_type": "text",
    "id": "UnWyHv8MHHBq"
   },
   "source": [
    "### Grouping\n",
    "Sometimes you will want to group and summarize a DataFrame for a more efficient computation. This is one of the strengths of pandas and DataFrames."
   ]
  },
  {
   "cell_type": "code",
   "execution_count": null,
   "metadata": {
    "colab": {},
    "colab_type": "code",
    "id": "yNQvjylqHHBr"
   },
   "outputs": [],
   "source": [
    "foo_bar = pd.DataFrame({'A' : ['foo', 'bar', 'foo', 'bar','foo', 'bar', 'foo', 'foo'],\n",
    "                                   'B' : ['one', 'one', 'two', 'three', 'two', 'two', 'one', 'three'],\n",
    "                                   'C' : np.random.randn(8),\n",
    "                                   'D' : np.random.randn(8)})\n",
    "foo_bar"
   ]
  },
  {
   "cell_type": "code",
   "execution_count": null,
   "metadata": {
    "colab": {},
    "colab_type": "code",
    "id": "7TAP_WjBHHBt"
   },
   "outputs": [],
   "source": [
    "grouped = foo_bar.groupby('A').sum()\n",
    "grouped"
   ]
  },
  {
   "cell_type": "markdown",
   "metadata": {
    "colab_type": "text",
    "id": "XdVjCstAHHBx"
   },
   "source": [
    "<font color='red'>To-do:</font> What happened to column B? Because sum oepration cannot be applied to datatype string, the column was dropped here. Now use both columns to perform the operation for each possible A, B pair. Assin this to \"grouped\" and display it."
   ]
  },
  {
   "cell_type": "code",
   "execution_count": null,
   "metadata": {
    "colab": {},
    "colab_type": "code",
    "id": "3TGPfdBfHHBx"
   },
   "outputs": [],
   "source": [
    "grouped = foo_bar.groupby(['A','B']).sum()\n",
    "grouped"
   ]
  },
  {
   "cell_type": "markdown",
   "metadata": {
    "colab_type": "text",
    "id": "UjXcI_dsHHBz"
   },
   "source": [
    "The .stack() function can be used to compress a level in the DataFrame’s columns:"
   ]
  },
  {
   "cell_type": "code",
   "execution_count": null,
   "metadata": {
    "colab": {},
    "colab_type": "code",
    "id": "XIxqhS8xHHBz"
   },
   "outputs": [],
   "source": [
    "stacked = grouped.stack()\n",
    "stacked"
   ]
  },
  {
   "cell_type": "code",
   "execution_count": null,
   "metadata": {
    "colab": {},
    "colab_type": "code",
    "id": "myz4X-wMHHB3"
   },
   "outputs": [],
   "source": [
    "stacked.unstack()"
   ]
  },
  {
   "cell_type": "markdown",
   "metadata": {
    "colab_type": "text",
    "id": "TvydXdleHHB4"
   },
   "source": [
    "## Reading from/Writing to files\n",
    "You can write a dataframe to file as follows:"
   ]
  },
  {
   "cell_type": "code",
   "execution_count": null,
   "metadata": {
    "colab": {},
    "colab_type": "code",
    "id": "bBsM5pvGHHB4"
   },
   "outputs": [],
   "source": [
    "grouped.to_csv('grouped.csv')"
   ]
  },
  {
   "cell_type": "markdown",
   "metadata": {
    "colab_type": "text",
    "id": "Tl5FKshRHHB6"
   },
   "source": [
    "<font color='red'>To-do:</font> Now write this same DataFrame to a JSON file."
   ]
  },
  {
   "cell_type": "code",
   "execution_count": null,
   "metadata": {
    "colab": {},
    "colab_type": "code",
    "id": "wqt4Fps7HHB6"
   },
   "outputs": [],
   "source": [
    "grouped.to_json('grouped.json')"
   ]
  },
  {
   "cell_type": "markdown",
   "metadata": {
    "colab_type": "text",
    "id": "E9x210mrHHB8"
   },
   "source": [
    "And you can read as follows:"
   ]
  },
  {
   "cell_type": "code",
   "execution_count": null,
   "metadata": {
    "colab": {},
    "colab_type": "code",
    "id": "KAaO3uM5HHB8"
   },
   "outputs": [],
   "source": [
    "new_frame = pd.read_csv('grouped.csv')\n"
   ]
  },
  {
   "cell_type": "code",
   "execution_count": null,
   "metadata": {
    "colab": {},
    "colab_type": "code",
    "id": "nHCA7EIkHHB9"
   },
   "outputs": [],
   "source": [
    "new_frame.head()"
   ]
  },
  {
   "cell_type": "markdown",
   "metadata": {
    "colab_type": "text",
    "id": "6NIZjgmDHHB-"
   },
   "source": [
    "Let's now work with a relatively more complex and bigger file"
   ]
  },
  {
   "cell_type": "code",
   "execution_count": null,
   "metadata": {
    "colab": {},
    "colab_type": "code",
    "id": "vSDS4cq9HHB_"
   },
   "outputs": [],
   "source": [
    "comics_df = pd.read_csv('comic_characters.csv')\n",
    "comics_df"
   ]
  },
  {
   "cell_type": "code",
   "execution_count": null,
   "metadata": {
    "colab": {},
    "colab_type": "code",
    "id": "8pG2DJ6fHHCB"
   },
   "outputs": [],
   "source": [
    "comic_df = pd.read_csv('comic_characters.csv',\n",
    "parse_dates=['date'], dayfirst=False, index_col='id')\n",
    "comic_df"
   ]
  },
  {
   "cell_type": "markdown",
   "metadata": {
    "colab_type": "text",
    "id": "ZmmKoZMCHHCD"
   },
   "source": [
    "The goal of this lab was to provide a high level introduction to pandas. There is so much more to it. You can/should practice more. We will cover more in lecture #2."
   ]
  }
 ],
 "metadata": {
  "colab": {
   "collapsed_sections": [],
   "name": "SI618Lab1.ipynb",
   "provenance": []
  },
  "kernelspec": {
   "display_name": "Python 3",
   "language": "python",
   "name": "python3"
  },
  "language_info": {
   "codemirror_mode": {
    "name": "ipython",
    "version": 3
   },
   "file_extension": ".py",
   "mimetype": "text/x-python",
   "name": "python",
   "nbconvert_exporter": "python",
   "pygments_lexer": "ipython3",
   "version": "3.7.7"
  }
 },
 "nbformat": 4,
 "nbformat_minor": 1
}
