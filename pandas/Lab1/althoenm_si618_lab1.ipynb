{
 "cells": [
  {
   "cell_type": "markdown",
   "metadata": {
    "colab_type": "text",
    "id": "dguwViJJOY0p"
   },
   "source": [
    "Initialize the lab by mounting the colab notebook to your google drive"
   ]
  },
  {
   "cell_type": "code",
   "execution_count": null,
   "metadata": {
    "colab": {},
    "colab_type": "code",
    "id": "iqV36vu-HJzu"
   },
   "outputs": [],
   "source": [
    "from google.colab import drive"
   ]
  },
  {
   "cell_type": "code",
   "execution_count": null,
   "metadata": {
    "colab": {
     "base_uri": "https://localhost:8080/",
     "height": 34
    },
    "colab_type": "code",
    "executionInfo": {
     "elapsed": 1465,
     "status": "ok",
     "timestamp": 1598921450148,
     "user": {
      "displayName": "Matteo Althoen",
      "photoUrl": "https://lh3.googleusercontent.com/a-/AOh14GjPSPRSvtrouBaCYKVohr_lWlKVUrcrI9ppoapoQQ=s64",
      "userId": "08073588379347548325"
     },
     "user_tz": 240
    },
    "id": "98ayKAUAHQTJ",
    "outputId": "eac09448-755d-4c23-b280-a1bf75d5f7a6"
   },
   "outputs": [
    {
     "name": "stdout",
     "output_type": "stream",
     "text": [
      "Drive already mounted at /content/drive; to attempt to forcibly remount, call drive.mount(\"/content/drive\", force_remount=True).\n"
     ]
    }
   ],
   "source": [
    "drive.mount('/content/drive')"
   ]
  },
  {
   "cell_type": "markdown",
   "metadata": {
    "colab_type": "text",
    "id": "2Ih6uQjLSrXG"
   },
   "source": [
    "Example of Google Drive directory change"
   ]
  },
  {
   "cell_type": "code",
   "execution_count": null,
   "metadata": {
    "colab": {
     "base_uri": "https://localhost:8080/",
     "height": 34
    },
    "colab_type": "code",
    "executionInfo": {
     "elapsed": 1451,
     "status": "ok",
     "timestamp": 1598921450149,
     "user": {
      "displayName": "Matteo Althoen",
      "photoUrl": "https://lh3.googleusercontent.com/a-/AOh14GjPSPRSvtrouBaCYKVohr_lWlKVUrcrI9ppoapoQQ=s64",
      "userId": "08073588379347548325"
     },
     "user_tz": 240
    },
    "id": "Xq4y8NFoSq-7",
    "outputId": "392c8df3-b8b4-4f54-f235-be27677491a2"
   },
   "outputs": [
    {
     "name": "stdout",
     "output_type": "stream",
     "text": [
      "/content/drive/My Drive/SI618/Labs/Lab1/Lab1\n"
     ]
    }
   ],
   "source": [
    "%cd '/content/drive/My Drive/SI618/Labs/Lab1/Lab1'"
   ]
  },
  {
   "cell_type": "code",
   "execution_count": null,
   "metadata": {
    "colab": {
     "base_uri": "https://localhost:8080/",
     "height": 35
    },
    "colab_type": "code",
    "executionInfo": {
     "elapsed": 1437,
     "status": "ok",
     "timestamp": 1598921450149,
     "user": {
      "displayName": "Matteo Althoen",
      "photoUrl": "https://lh3.googleusercontent.com/a-/AOh14GjPSPRSvtrouBaCYKVohr_lWlKVUrcrI9ppoapoQQ=s64",
      "userId": "08073588379347548325"
     },
     "user_tz": 240
    },
    "id": "ObYM_yxDhrEv",
    "outputId": "69df0aa0-a475-4e4f-b5c6-1c21c7aae180"
   },
   "outputs": [
    {
     "data": {
      "application/vnd.google.colaboratory.intrinsic+json": {
       "type": "string"
      },
      "text/plain": [
       "'/content/drive/My Drive/SI618/Labs/Lab1/Lab1'"
      ]
     },
     "execution_count": 75,
     "metadata": {
      "tags": []
     },
     "output_type": "execute_result"
    }
   ],
   "source": [
    "%pwd"
   ]
  },
  {
   "cell_type": "code",
   "execution_count": null,
   "metadata": {
    "colab": {
     "base_uri": "https://localhost:8080/",
     "height": 419
    },
    "colab_type": "code",
    "executionInfo": {
     "elapsed": 1421,
     "status": "ok",
     "timestamp": 1598921450150,
     "user": {
      "displayName": "Matteo Althoen",
      "photoUrl": "https://lh3.googleusercontent.com/a-/AOh14GjPSPRSvtrouBaCYKVohr_lWlKVUrcrI9ppoapoQQ=s64",
      "userId": "08073588379347548325"
     },
     "user_tz": 240
    },
    "id": "21-yWpl8iQpU",
    "outputId": "bb605d8a-c6cc-4557-ce8c-229cc2a65552"
   },
   "outputs": [
    {
     "data": {
      "text/html": [
       "<div>\n",
       "<style scoped>\n",
       "    .dataframe tbody tr th:only-of-type {\n",
       "        vertical-align: middle;\n",
       "    }\n",
       "\n",
       "    .dataframe tbody tr th {\n",
       "        vertical-align: top;\n",
       "    }\n",
       "\n",
       "    .dataframe thead th {\n",
       "        text-align: right;\n",
       "    }\n",
       "</style>\n",
       "<table border=\"1\" class=\"dataframe\">\n",
       "  <thead>\n",
       "    <tr style=\"text-align: right;\">\n",
       "      <th></th>\n",
       "      <th>id</th>\n",
       "      <th>publisher</th>\n",
       "      <th>name</th>\n",
       "      <th>Identity</th>\n",
       "      <th>align</th>\n",
       "      <th>eye</th>\n",
       "      <th>hair</th>\n",
       "      <th>sex</th>\n",
       "      <th>alive</th>\n",
       "      <th>appearances</th>\n",
       "      <th>first_appearance</th>\n",
       "      <th>month</th>\n",
       "      <th>year</th>\n",
       "      <th>date</th>\n",
       "    </tr>\n",
       "  </thead>\n",
       "  <tbody>\n",
       "    <tr>\n",
       "      <th>0</th>\n",
       "      <td>1</td>\n",
       "      <td>Marvel</td>\n",
       "      <td>Spider-Man (Peter Parker)</td>\n",
       "      <td>Secret Identity</td>\n",
       "      <td>Good Characters</td>\n",
       "      <td>Hazel Eyes</td>\n",
       "      <td>Brown Hair</td>\n",
       "      <td>Male Characters</td>\n",
       "      <td>Living Characters</td>\n",
       "      <td>4043.0</td>\n",
       "      <td>1962, August</td>\n",
       "      <td>August</td>\n",
       "      <td>1962.0</td>\n",
       "      <td>8/1/1962</td>\n",
       "    </tr>\n",
       "    <tr>\n",
       "      <th>1</th>\n",
       "      <td>2</td>\n",
       "      <td>Marvel</td>\n",
       "      <td>Captain America (Steven Rogers)</td>\n",
       "      <td>Public Identity</td>\n",
       "      <td>Good Characters</td>\n",
       "      <td>Blue Eyes</td>\n",
       "      <td>White Hair</td>\n",
       "      <td>Male Characters</td>\n",
       "      <td>Living Characters</td>\n",
       "      <td>3360.0</td>\n",
       "      <td>1941, March</td>\n",
       "      <td>March</td>\n",
       "      <td>1941.0</td>\n",
       "      <td>3/1/1941</td>\n",
       "    </tr>\n",
       "    <tr>\n",
       "      <th>2</th>\n",
       "      <td>3</td>\n",
       "      <td>Marvel</td>\n",
       "      <td>Wolverine (James \\\"Logan\\\" Howlett)</td>\n",
       "      <td>Public Identity</td>\n",
       "      <td>Neutral Characters</td>\n",
       "      <td>Blue Eyes</td>\n",
       "      <td>Black Hair</td>\n",
       "      <td>Male Characters</td>\n",
       "      <td>Living Characters</td>\n",
       "      <td>3061.0</td>\n",
       "      <td>1974, October</td>\n",
       "      <td>October</td>\n",
       "      <td>1974.0</td>\n",
       "      <td>10/1/1974</td>\n",
       "    </tr>\n",
       "    <tr>\n",
       "      <th>3</th>\n",
       "      <td>4</td>\n",
       "      <td>Marvel</td>\n",
       "      <td>Iron Man (Anthony \\\"Tony\\\" Stark)</td>\n",
       "      <td>Public Identity</td>\n",
       "      <td>Good Characters</td>\n",
       "      <td>Blue Eyes</td>\n",
       "      <td>Black Hair</td>\n",
       "      <td>Male Characters</td>\n",
       "      <td>Living Characters</td>\n",
       "      <td>2961.0</td>\n",
       "      <td>1963, March</td>\n",
       "      <td>March</td>\n",
       "      <td>1963.0</td>\n",
       "      <td>3/1/1963</td>\n",
       "    </tr>\n",
       "    <tr>\n",
       "      <th>4</th>\n",
       "      <td>5</td>\n",
       "      <td>Marvel</td>\n",
       "      <td>Thor (Thor Odinson)</td>\n",
       "      <td>No Dual Identity</td>\n",
       "      <td>Good Characters</td>\n",
       "      <td>Blue Eyes</td>\n",
       "      <td>Blond Hair</td>\n",
       "      <td>Male Characters</td>\n",
       "      <td>Living Characters</td>\n",
       "      <td>2258.0</td>\n",
       "      <td>1950, November</td>\n",
       "      <td>November</td>\n",
       "      <td>1950.0</td>\n",
       "      <td>11/1/1950</td>\n",
       "    </tr>\n",
       "    <tr>\n",
       "      <th>...</th>\n",
       "      <td>...</td>\n",
       "      <td>...</td>\n",
       "      <td>...</td>\n",
       "      <td>...</td>\n",
       "      <td>...</td>\n",
       "      <td>...</td>\n",
       "      <td>...</td>\n",
       "      <td>...</td>\n",
       "      <td>...</td>\n",
       "      <td>...</td>\n",
       "      <td>...</td>\n",
       "      <td>...</td>\n",
       "      <td>...</td>\n",
       "      <td>...</td>\n",
       "    </tr>\n",
       "    <tr>\n",
       "      <th>23267</th>\n",
       "      <td>23268</td>\n",
       "      <td>DC</td>\n",
       "      <td>Nadine West (New Earth)</td>\n",
       "      <td>Public Identity</td>\n",
       "      <td>Good Characters</td>\n",
       "      <td>NaN</td>\n",
       "      <td>NaN</td>\n",
       "      <td>Female Characters</td>\n",
       "      <td>Living Characters</td>\n",
       "      <td>NaN</td>\n",
       "      <td>NaN</td>\n",
       "      <td>1</td>\n",
       "      <td>NaN</td>\n",
       "      <td>NaN</td>\n",
       "    </tr>\n",
       "    <tr>\n",
       "      <th>23268</th>\n",
       "      <td>23269</td>\n",
       "      <td>DC</td>\n",
       "      <td>Warren Harding (New Earth)</td>\n",
       "      <td>Public Identity</td>\n",
       "      <td>Good Characters</td>\n",
       "      <td>NaN</td>\n",
       "      <td>NaN</td>\n",
       "      <td>Male Characters</td>\n",
       "      <td>Living Characters</td>\n",
       "      <td>NaN</td>\n",
       "      <td>NaN</td>\n",
       "      <td>1</td>\n",
       "      <td>NaN</td>\n",
       "      <td>NaN</td>\n",
       "    </tr>\n",
       "    <tr>\n",
       "      <th>23269</th>\n",
       "      <td>23270</td>\n",
       "      <td>DC</td>\n",
       "      <td>William Harrison (New Earth)</td>\n",
       "      <td>Public Identity</td>\n",
       "      <td>Good Characters</td>\n",
       "      <td>NaN</td>\n",
       "      <td>NaN</td>\n",
       "      <td>Male Characters</td>\n",
       "      <td>Living Characters</td>\n",
       "      <td>NaN</td>\n",
       "      <td>NaN</td>\n",
       "      <td>1</td>\n",
       "      <td>NaN</td>\n",
       "      <td>NaN</td>\n",
       "    </tr>\n",
       "    <tr>\n",
       "      <th>23270</th>\n",
       "      <td>23271</td>\n",
       "      <td>DC</td>\n",
       "      <td>William McKinley (New Earth)</td>\n",
       "      <td>Public Identity</td>\n",
       "      <td>Good Characters</td>\n",
       "      <td>NaN</td>\n",
       "      <td>NaN</td>\n",
       "      <td>Male Characters</td>\n",
       "      <td>Living Characters</td>\n",
       "      <td>NaN</td>\n",
       "      <td>NaN</td>\n",
       "      <td>1</td>\n",
       "      <td>NaN</td>\n",
       "      <td>NaN</td>\n",
       "    </tr>\n",
       "    <tr>\n",
       "      <th>23271</th>\n",
       "      <td>23272</td>\n",
       "      <td>DC</td>\n",
       "      <td>Mookie (New Earth)</td>\n",
       "      <td>Public Identity</td>\n",
       "      <td>Bad Characters</td>\n",
       "      <td>Blue Eyes</td>\n",
       "      <td>Blond Hair</td>\n",
       "      <td>Male Characters</td>\n",
       "      <td>Living Characters</td>\n",
       "      <td>NaN</td>\n",
       "      <td>NaN</td>\n",
       "      <td>1</td>\n",
       "      <td>NaN</td>\n",
       "      <td>NaN</td>\n",
       "    </tr>\n",
       "  </tbody>\n",
       "</table>\n",
       "<p>23272 rows × 14 columns</p>\n",
       "</div>"
      ],
      "text/plain": [
       "          id publisher  ...    year       date\n",
       "0          1    Marvel  ...  1962.0   8/1/1962\n",
       "1          2    Marvel  ...  1941.0   3/1/1941\n",
       "2          3    Marvel  ...  1974.0  10/1/1974\n",
       "3          4    Marvel  ...  1963.0   3/1/1963\n",
       "4          5    Marvel  ...  1950.0  11/1/1950\n",
       "...      ...       ...  ...     ...        ...\n",
       "23267  23268        DC  ...     NaN        NaN\n",
       "23268  23269        DC  ...     NaN        NaN\n",
       "23269  23270        DC  ...     NaN        NaN\n",
       "23270  23271        DC  ...     NaN        NaN\n",
       "23271  23272        DC  ...     NaN        NaN\n",
       "\n",
       "[23272 rows x 14 columns]"
      ]
     },
     "execution_count": 76,
     "metadata": {
      "tags": []
     },
     "output_type": "execute_result"
    }
   ],
   "source": [
    "comics_df = pd.read_csv('comic_characters.csv')\n",
    "comics_df     "
   ]
  },
  {
   "cell_type": "markdown",
   "metadata": {
    "colab_type": "text",
    "id": "xcOAx8qBSwPW"
   },
   "source": [
    "<font color='red'>To-do:</font> Insert a code cell and change your directory to your 618 materials in your google drive"
   ]
  },
  {
   "cell_type": "code",
   "execution_count": 1,
   "metadata": {},
   "outputs": [
    {
     "data": {
      "text/plain": [
       "'C:\\\\Users\\\\matte\\\\Documents\\\\Fall_2020\\\\SI618\\\\Labs\\\\Lab1'"
      ]
     },
     "execution_count": 1,
     "metadata": {},
     "output_type": "execute_result"
    }
   ],
   "source": [
    "%pwd"
   ]
  },
  {
   "cell_type": "markdown",
   "metadata": {
    "colab_type": "text",
    "id": "UaRmwPBIHG__"
   },
   "source": [
    "Let's start by important the appropriate libraries."
   ]
  },
  {
   "cell_type": "code",
   "execution_count": null,
   "metadata": {
    "colab": {},
    "colab_type": "code",
    "id": "0uJMELq4HHAA"
   },
   "outputs": [],
   "source": [
    "import pandas as pd"
   ]
  },
  {
   "cell_type": "code",
   "execution_count": null,
   "metadata": {
    "colab": {},
    "colab_type": "code",
    "id": "35t6XAEMHHAE"
   },
   "outputs": [],
   "source": [
    "import numpy as np"
   ]
  },
  {
   "cell_type": "markdown",
   "metadata": {
    "colab_type": "text",
    "id": "rauHXHs6HHAG"
   },
   "source": [
    "<font color='red'>To-do:</font> Insert a cell in markdown mode and write \"This is a markdown example\" in italics."
   ]
  },
  {
   "cell_type": "markdown",
   "metadata": {},
   "source": [
    "*This is a markdown example*"
   ]
  },
  {
   "cell_type": "markdown",
   "metadata": {
    "colab_type": "text",
    "id": "bX_yr320HHAH"
   },
   "source": [
    "### Initialization\n",
    "You can create a Series by passing a list of values. By default, pandas will create an integer index."
   ]
  },
  {
   "cell_type": "code",
   "execution_count": null,
   "metadata": {
    "colab": {
     "base_uri": "https://localhost:8080/",
     "height": 136
    },
    "colab_type": "code",
    "executionInfo": {
     "elapsed": 1623,
     "status": "ok",
     "timestamp": 1598921450373,
     "user": {
      "displayName": "Matteo Althoen",
      "photoUrl": "https://lh3.googleusercontent.com/a-/AOh14GjPSPRSvtrouBaCYKVohr_lWlKVUrcrI9ppoapoQQ=s64",
      "userId": "08073588379347548325"
     },
     "user_tz": 240
    },
    "id": "hSJCGO4VHHAH",
    "outputId": "cb838cfd-f3f5-494d-97c9-b3d4f21c89de"
   },
   "outputs": [
    {
     "data": {
      "text/plain": [
       "0    1.0\n",
       "1    3.0\n",
       "2    5.0\n",
       "3    NaN\n",
       "4    6.0\n",
       "5    8.0\n",
       "dtype: float64"
      ]
     },
     "execution_count": 79,
     "metadata": {
      "tags": []
     },
     "output_type": "execute_result"
    }
   ],
   "source": [
    "s = pd.Series([1,3,5,np.nan,6,8])\n",
    "s"
   ]
  },
  {
   "cell_type": "markdown",
   "metadata": {
    "colab_type": "text",
    "id": "TY8H5T-iHHAK"
   },
   "source": [
    "Let's create another Series"
   ]
  },
  {
   "cell_type": "code",
   "execution_count": null,
   "metadata": {
    "colab": {},
    "colab_type": "code",
    "id": "d57c85YGHHAL"
   },
   "outputs": [],
   "source": [
    "s2 = pd.Series([\"1\", \"10\", \"3\", \"44\"])"
   ]
  },
  {
   "cell_type": "code",
   "execution_count": null,
   "metadata": {
    "colab": {
     "base_uri": "https://localhost:8080/",
     "height": 85
    },
    "colab_type": "code",
    "executionInfo": {
     "elapsed": 1606,
     "status": "ok",
     "timestamp": 1598921450375,
     "user": {
      "displayName": "Matteo Althoen",
      "photoUrl": "https://lh3.googleusercontent.com/a-/AOh14GjPSPRSvtrouBaCYKVohr_lWlKVUrcrI9ppoapoQQ=s64",
      "userId": "08073588379347548325"
     },
     "user_tz": 240
    },
    "id": "uY-3JU4ClO44",
    "outputId": "574037e7-4933-4f7e-e3a6-3608edd818e8"
   },
   "outputs": [
    {
     "data": {
      "text/plain": [
       "0    3\n",
       "1    4\n",
       "2    5\n",
       "dtype: object"
      ]
     },
     "execution_count": 81,
     "metadata": {
      "tags": []
     },
     "output_type": "execute_result"
    }
   ],
   "source": [
    "s3 = pd.Series([\"3\",\"4\",\"5\"])\n",
    "s3"
   ]
  },
  {
   "cell_type": "markdown",
   "metadata": {
    "colab_type": "text",
    "id": "JTurILs3HHAN"
   },
   "source": [
    "<font color='red'>To-do:</font> Insert a new cell above this one and create a new series called s3. You can choose its datatype, size, and elements. Display the result."
   ]
  },
  {
   "cell_type": "markdown",
   "metadata": {
    "colab_type": "text",
    "id": "YoPn6AnhHHAN"
   },
   "source": [
    "<font color='red'>To-do:</font> If you aim to store integers, string is an inefficient data type. Let's convert this series to the appropriate data type and store the result in s4. Display s4."
   ]
  },
  {
   "cell_type": "code",
   "execution_count": null,
   "metadata": {
    "colab": {
     "base_uri": "https://localhost:8080/",
     "height": 85
    },
    "colab_type": "code",
    "executionInfo": {
     "elapsed": 1590,
     "status": "ok",
     "timestamp": 1598921450375,
     "user": {
      "displayName": "Matteo Althoen",
      "photoUrl": "https://lh3.googleusercontent.com/a-/AOh14GjPSPRSvtrouBaCYKVohr_lWlKVUrcrI9ppoapoQQ=s64",
      "userId": "08073588379347548325"
     },
     "user_tz": 240
    },
    "id": "Uo0eaedRHHAO",
    "outputId": "cafdc24a-5cf4-4f17-f9b0-75afb4631ed1"
   },
   "outputs": [
    {
     "data": {
      "text/plain": [
       "0    3\n",
       "1    4\n",
       "2    5\n",
       "dtype: int64"
      ]
     },
     "execution_count": 82,
     "metadata": {
      "tags": []
     },
     "output_type": "execute_result"
    }
   ],
   "source": [
    "s4 = s3.astype(int) \n",
    "s4"
   ]
  },
  {
   "cell_type": "markdown",
   "metadata": {
    "colab_type": "text",
    "id": "1GlcepW2HHAQ"
   },
   "source": [
    "You can also use pandas to create a series of datetime objects. Let’s make one for the week beginning January 25th, 2015:"
   ]
  },
  {
   "cell_type": "code",
   "execution_count": null,
   "metadata": {
    "colab": {
     "base_uri": "https://localhost:8080/",
     "height": 68
    },
    "colab_type": "code",
    "executionInfo": {
     "elapsed": 1572,
     "status": "ok",
     "timestamp": 1598921450376,
     "user": {
      "displayName": "Matteo Althoen",
      "photoUrl": "https://lh3.googleusercontent.com/a-/AOh14GjPSPRSvtrouBaCYKVohr_lWlKVUrcrI9ppoapoQQ=s64",
      "userId": "08073588379347548325"
     },
     "user_tz": 240
    },
    "id": "kOdLRoooHHAQ",
    "outputId": "71007e50-8f15-4767-e8e8-696ddada33f2"
   },
   "outputs": [
    {
     "data": {
      "text/plain": [
       "DatetimeIndex(['2015-01-25', '2015-01-26', '2015-01-27', '2015-01-28',\n",
       "               '2015-01-29', '2015-01-30', '2015-01-31'],\n",
       "              dtype='datetime64[ns]', freq='D')"
      ]
     },
     "execution_count": 83,
     "metadata": {
      "tags": []
     },
     "output_type": "execute_result"
    }
   ],
   "source": [
    "dates = pd.date_range('20150125',periods=7)\n",
    "dates"
   ]
  },
  {
   "cell_type": "markdown",
   "metadata": {
    "colab_type": "text",
    "id": "cql9Av61HHAX"
   },
   "source": [
    "<font color='red'>To-do:</font> Insert a new cell below this one and create a new dates2 DatetimeIndex object that starts June 20, 2020, ends with September June 25, 2020 and has five periods. Display the result."
   ]
  },
  {
   "cell_type": "code",
   "execution_count": null,
   "metadata": {
    "colab": {
     "base_uri": "https://localhost:8080/",
     "height": 68
    },
    "colab_type": "code",
    "executionInfo": {
     "elapsed": 1553,
     "status": "ok",
     "timestamp": 1598921450376,
     "user": {
      "displayName": "Matteo Althoen",
      "photoUrl": "https://lh3.googleusercontent.com/a-/AOh14GjPSPRSvtrouBaCYKVohr_lWlKVUrcrI9ppoapoQQ=s64",
      "userId": "08073588379347548325"
     },
     "user_tz": 240
    },
    "id": "72xqQX1rm8aH",
    "outputId": "35012162-d37b-4ad5-93ab-6bd8d0f2d06c"
   },
   "outputs": [
    {
     "data": {
      "text/plain": [
       "DatetimeIndex(['2020-06-20', '2020-06-21', '2020-06-22', '2020-06-23',\n",
       "               '2020-06-24', '2020-06-25'],\n",
       "              dtype='datetime64[ns]', freq='D')"
      ]
     },
     "execution_count": 84,
     "metadata": {
      "tags": []
     },
     "output_type": "execute_result"
    }
   ],
   "source": [
    "dates2 = pd.date_range('20200620', periods=6)\n",
    "dates2\n"
   ]
  },
  {
   "cell_type": "markdown",
   "metadata": {
    "colab_type": "text",
    "id": "Ob_gpJ-FHHAY"
   },
   "source": [
    "Now we’ll create a DataFrame using the dates array as our index, fill it with some random values using numpy, and give the columns some labels."
   ]
  },
  {
   "cell_type": "code",
   "execution_count": null,
   "metadata": {
    "colab": {
     "base_uri": "https://localhost:8080/",
     "height": 266
    },
    "colab_type": "code",
    "executionInfo": {
     "elapsed": 1535,
     "status": "ok",
     "timestamp": 1598921450377,
     "user": {
      "displayName": "Matteo Althoen",
      "photoUrl": "https://lh3.googleusercontent.com/a-/AOh14GjPSPRSvtrouBaCYKVohr_lWlKVUrcrI9ppoapoQQ=s64",
      "userId": "08073588379347548325"
     },
     "user_tz": 240
    },
    "id": "GQ9d4DLlHHAY",
    "outputId": "2ed57826-f781-4dee-9943-8916156ac5f4",
    "scrolled": true
   },
   "outputs": [
    {
     "data": {
      "text/html": [
       "<div>\n",
       "<style scoped>\n",
       "    .dataframe tbody tr th:only-of-type {\n",
       "        vertical-align: middle;\n",
       "    }\n",
       "\n",
       "    .dataframe tbody tr th {\n",
       "        vertical-align: top;\n",
       "    }\n",
       "\n",
       "    .dataframe thead th {\n",
       "        text-align: right;\n",
       "    }\n",
       "</style>\n",
       "<table border=\"1\" class=\"dataframe\">\n",
       "  <thead>\n",
       "    <tr style=\"text-align: right;\">\n",
       "      <th></th>\n",
       "      <th>col1</th>\n",
       "      <th>col2</th>\n",
       "      <th>col4</th>\n",
       "      <th>col3</th>\n",
       "    </tr>\n",
       "  </thead>\n",
       "  <tbody>\n",
       "    <tr>\n",
       "      <th>2015-01-25</th>\n",
       "      <td>1.564875</td>\n",
       "      <td>-0.725519</td>\n",
       "      <td>-0.057454</td>\n",
       "      <td>1.354353</td>\n",
       "    </tr>\n",
       "    <tr>\n",
       "      <th>2015-01-26</th>\n",
       "      <td>-0.960898</td>\n",
       "      <td>1.079153</td>\n",
       "      <td>-0.604003</td>\n",
       "      <td>-0.374604</td>\n",
       "    </tr>\n",
       "    <tr>\n",
       "      <th>2015-01-27</th>\n",
       "      <td>0.126515</td>\n",
       "      <td>-0.039990</td>\n",
       "      <td>0.980736</td>\n",
       "      <td>-0.024053</td>\n",
       "    </tr>\n",
       "    <tr>\n",
       "      <th>2015-01-28</th>\n",
       "      <td>0.274226</td>\n",
       "      <td>-1.205027</td>\n",
       "      <td>0.208078</td>\n",
       "      <td>-0.397373</td>\n",
       "    </tr>\n",
       "    <tr>\n",
       "      <th>2015-01-29</th>\n",
       "      <td>-0.656086</td>\n",
       "      <td>1.297950</td>\n",
       "      <td>-1.106321</td>\n",
       "      <td>-0.425682</td>\n",
       "    </tr>\n",
       "    <tr>\n",
       "      <th>2015-01-30</th>\n",
       "      <td>-1.108514</td>\n",
       "      <td>2.036246</td>\n",
       "      <td>-0.897039</td>\n",
       "      <td>0.510048</td>\n",
       "    </tr>\n",
       "    <tr>\n",
       "      <th>2015-01-31</th>\n",
       "      <td>1.447753</td>\n",
       "      <td>0.678568</td>\n",
       "      <td>0.891840</td>\n",
       "      <td>-1.391308</td>\n",
       "    </tr>\n",
       "  </tbody>\n",
       "</table>\n",
       "</div>"
      ],
      "text/plain": [
       "                col1      col2      col4      col3\n",
       "2015-01-25  1.564875 -0.725519 -0.057454  1.354353\n",
       "2015-01-26 -0.960898  1.079153 -0.604003 -0.374604\n",
       "2015-01-27  0.126515 -0.039990  0.980736 -0.024053\n",
       "2015-01-28  0.274226 -1.205027  0.208078 -0.397373\n",
       "2015-01-29 -0.656086  1.297950 -1.106321 -0.425682\n",
       "2015-01-30 -1.108514  2.036246 -0.897039  0.510048\n",
       "2015-01-31  1.447753  0.678568  0.891840 -1.391308"
      ]
     },
     "execution_count": 85,
     "metadata": {
      "tags": []
     },
     "output_type": "execute_result"
    }
   ],
   "source": [
    "df = pd.DataFrame(np.random.randn(7,4), index=dates, columns=['col1','col2','col4','col3'])\n",
    "df"
   ]
  },
  {
   "cell_type": "markdown",
   "metadata": {
    "colab_type": "text",
    "id": "A6PY_w0yHHAa"
   },
   "source": [
    "<font color='red'>To-do:</font> Now create df2 that uses dates2 as its index. Use the same set of columns ('col1','col2','col4','col3')."
   ]
  },
  {
   "cell_type": "code",
   "execution_count": null,
   "metadata": {
    "colab": {
     "base_uri": "https://localhost:8080/",
     "height": 235
    },
    "colab_type": "code",
    "executionInfo": {
     "elapsed": 1518,
     "status": "ok",
     "timestamp": 1598921450377,
     "user": {
      "displayName": "Matteo Althoen",
      "photoUrl": "https://lh3.googleusercontent.com/a-/AOh14GjPSPRSvtrouBaCYKVohr_lWlKVUrcrI9ppoapoQQ=s64",
      "userId": "08073588379347548325"
     },
     "user_tz": 240
    },
    "id": "kdPdoKoXHHAb",
    "outputId": "760fbc5f-6013-488d-a725-2a30e1556156"
   },
   "outputs": [
    {
     "data": {
      "text/html": [
       "<div>\n",
       "<style scoped>\n",
       "    .dataframe tbody tr th:only-of-type {\n",
       "        vertical-align: middle;\n",
       "    }\n",
       "\n",
       "    .dataframe tbody tr th {\n",
       "        vertical-align: top;\n",
       "    }\n",
       "\n",
       "    .dataframe thead th {\n",
       "        text-align: right;\n",
       "    }\n",
       "</style>\n",
       "<table border=\"1\" class=\"dataframe\">\n",
       "  <thead>\n",
       "    <tr style=\"text-align: right;\">\n",
       "      <th></th>\n",
       "      <th>col1</th>\n",
       "      <th>col2</th>\n",
       "      <th>col4</th>\n",
       "      <th>col3</th>\n",
       "    </tr>\n",
       "  </thead>\n",
       "  <tbody>\n",
       "    <tr>\n",
       "      <th>2020-06-20</th>\n",
       "      <td>-0.948846</td>\n",
       "      <td>-0.190776</td>\n",
       "      <td>0.501428</td>\n",
       "      <td>0.337071</td>\n",
       "    </tr>\n",
       "    <tr>\n",
       "      <th>2020-06-21</th>\n",
       "      <td>-1.738417</td>\n",
       "      <td>1.301884</td>\n",
       "      <td>0.315584</td>\n",
       "      <td>-0.128826</td>\n",
       "    </tr>\n",
       "    <tr>\n",
       "      <th>2020-06-22</th>\n",
       "      <td>-0.218879</td>\n",
       "      <td>0.778140</td>\n",
       "      <td>0.351289</td>\n",
       "      <td>1.266331</td>\n",
       "    </tr>\n",
       "    <tr>\n",
       "      <th>2020-06-23</th>\n",
       "      <td>-0.943901</td>\n",
       "      <td>0.516603</td>\n",
       "      <td>-0.973039</td>\n",
       "      <td>-1.060605</td>\n",
       "    </tr>\n",
       "    <tr>\n",
       "      <th>2020-06-24</th>\n",
       "      <td>1.649108</td>\n",
       "      <td>1.079079</td>\n",
       "      <td>0.195677</td>\n",
       "      <td>1.664510</td>\n",
       "    </tr>\n",
       "    <tr>\n",
       "      <th>2020-06-25</th>\n",
       "      <td>-0.870948</td>\n",
       "      <td>0.549581</td>\n",
       "      <td>0.283376</td>\n",
       "      <td>0.178529</td>\n",
       "    </tr>\n",
       "  </tbody>\n",
       "</table>\n",
       "</div>"
      ],
      "text/plain": [
       "                col1      col2      col4      col3\n",
       "2020-06-20 -0.948846 -0.190776  0.501428  0.337071\n",
       "2020-06-21 -1.738417  1.301884  0.315584 -0.128826\n",
       "2020-06-22 -0.218879  0.778140  0.351289  1.266331\n",
       "2020-06-23 -0.943901  0.516603 -0.973039 -1.060605\n",
       "2020-06-24  1.649108  1.079079  0.195677  1.664510\n",
       "2020-06-25 -0.870948  0.549581  0.283376  0.178529"
      ]
     },
     "execution_count": 86,
     "metadata": {
      "tags": []
     },
     "output_type": "execute_result"
    }
   ],
   "source": [
    "df2 = pd.DataFrame(np.random.randn(6,4), index=dates2, columns=['col1','col2','col4','col3'])\n",
    "df2"
   ]
  },
  {
   "cell_type": "markdown",
   "metadata": {
    "colab_type": "text",
    "id": "ZKrh94UeHHAd"
   },
   "source": [
    "It can also be useful to know how to create a DataFrame from a dict of objects. This comes in particularly handy when working with JSON-like structures."
   ]
  },
  {
   "cell_type": "code",
   "execution_count": null,
   "metadata": {
    "colab": {
     "base_uri": "https://localhost:8080/",
     "height": 173
    },
    "colab_type": "code",
    "executionInfo": {
     "elapsed": 1500,
     "status": "ok",
     "timestamp": 1598921450378,
     "user": {
      "displayName": "Matteo Althoen",
      "photoUrl": "https://lh3.googleusercontent.com/a-/AOh14GjPSPRSvtrouBaCYKVohr_lWlKVUrcrI9ppoapoQQ=s64",
      "userId": "08073588379347548325"
     },
     "user_tz": 240
    },
    "id": "L-qXzxyHHHAd",
    "outputId": "f956ad86-d8c8-4fc2-8c92-65b1723a70b4"
   },
   "outputs": [
    {
     "data": {
      "text/html": [
       "<div>\n",
       "<style scoped>\n",
       "    .dataframe tbody tr th:only-of-type {\n",
       "        vertical-align: middle;\n",
       "    }\n",
       "\n",
       "    .dataframe tbody tr th {\n",
       "        vertical-align: top;\n",
       "    }\n",
       "\n",
       "    .dataframe thead th {\n",
       "        text-align: right;\n",
       "    }\n",
       "</style>\n",
       "<table border=\"1\" class=\"dataframe\">\n",
       "  <thead>\n",
       "    <tr style=\"text-align: right;\">\n",
       "      <th></th>\n",
       "      <th>A</th>\n",
       "      <th>B</th>\n",
       "      <th>C</th>\n",
       "      <th>D</th>\n",
       "      <th>E</th>\n",
       "      <th>F</th>\n",
       "    </tr>\n",
       "  </thead>\n",
       "  <tbody>\n",
       "    <tr>\n",
       "      <th>0</th>\n",
       "      <td>1.0</td>\n",
       "      <td>2013-01-02</td>\n",
       "      <td>1.0</td>\n",
       "      <td>3</td>\n",
       "      <td>test</td>\n",
       "      <td>foo</td>\n",
       "    </tr>\n",
       "    <tr>\n",
       "      <th>1</th>\n",
       "      <td>1.0</td>\n",
       "      <td>2013-01-02</td>\n",
       "      <td>1.0</td>\n",
       "      <td>3</td>\n",
       "      <td>train</td>\n",
       "      <td>foo</td>\n",
       "    </tr>\n",
       "    <tr>\n",
       "      <th>2</th>\n",
       "      <td>1.0</td>\n",
       "      <td>2013-01-02</td>\n",
       "      <td>1.0</td>\n",
       "      <td>3</td>\n",
       "      <td>test</td>\n",
       "      <td>foo</td>\n",
       "    </tr>\n",
       "    <tr>\n",
       "      <th>3</th>\n",
       "      <td>1.0</td>\n",
       "      <td>2013-01-02</td>\n",
       "      <td>1.0</td>\n",
       "      <td>3</td>\n",
       "      <td>train</td>\n",
       "      <td>foo</td>\n",
       "    </tr>\n",
       "  </tbody>\n",
       "</table>\n",
       "</div>"
      ],
      "text/plain": [
       "     A          B    C  D      E    F\n",
       "0  1.0 2013-01-02  1.0  3   test  foo\n",
       "1  1.0 2013-01-02  1.0  3  train  foo\n",
       "2  1.0 2013-01-02  1.0  3   test  foo\n",
       "3  1.0 2013-01-02  1.0  3  train  foo"
      ]
     },
     "execution_count": 87,
     "metadata": {
      "tags": []
     },
     "output_type": "execute_result"
    }
   ],
   "source": [
    "df3 = pd.DataFrame({ 'A' : 1.,\n",
    "                            'B' : pd.Timestamp('20130102'),\n",
    "                            'C' : pd.Series(1,index=list(range(4)),dtype='float32'),\n",
    "                            'D' : np.array([3] * 4,dtype='int32'),\n",
    "                            'E' : pd.Categorical([\"test\",\"train\",\"test\",\"train\"]),\n",
    "                            'F' : 'foo' })\n",
    "df3"
   ]
  },
  {
   "cell_type": "markdown",
   "metadata": {
    "colab_type": "text",
    "id": "5ywg8vDDHHAf"
   },
   "source": [
    "<font color='red'>To-do:</font> Below we are trying to create another DataFrame df4. But there are some mistakes. Correct these mistakes to make sure the code compiles. Do not edit column c2."
   ]
  },
  {
   "cell_type": "code",
   "execution_count": null,
   "metadata": {
    "colab": {
     "base_uri": "https://localhost:8080/",
     "height": 173
    },
    "colab_type": "code",
    "executionInfo": {
     "elapsed": 1481,
     "status": "ok",
     "timestamp": 1598921450378,
     "user": {
      "displayName": "Matteo Althoen",
      "photoUrl": "https://lh3.googleusercontent.com/a-/AOh14GjPSPRSvtrouBaCYKVohr_lWlKVUrcrI9ppoapoQQ=s64",
      "userId": "08073588379347548325"
     },
     "user_tz": 240
    },
    "id": "VAfZft52HHAg",
    "outputId": "5b6ea14f-304e-45d5-e4e0-6197d111b867"
   },
   "outputs": [
    {
     "data": {
      "text/html": [
       "<div>\n",
       "<style scoped>\n",
       "    .dataframe tbody tr th:only-of-type {\n",
       "        vertical-align: middle;\n",
       "    }\n",
       "\n",
       "    .dataframe tbody tr th {\n",
       "        vertical-align: top;\n",
       "    }\n",
       "\n",
       "    .dataframe thead th {\n",
       "        text-align: right;\n",
       "    }\n",
       "</style>\n",
       "<table border=\"1\" class=\"dataframe\">\n",
       "  <thead>\n",
       "    <tr style=\"text-align: right;\">\n",
       "      <th></th>\n",
       "      <th>c1</th>\n",
       "      <th>c2</th>\n",
       "      <th>c3</th>\n",
       "    </tr>\n",
       "  </thead>\n",
       "  <tbody>\n",
       "    <tr>\n",
       "      <th>0</th>\n",
       "      <td>1</td>\n",
       "      <td>1</td>\n",
       "      <td>True</td>\n",
       "    </tr>\n",
       "    <tr>\n",
       "      <th>1</th>\n",
       "      <td>2</td>\n",
       "      <td>3</td>\n",
       "      <td>False</td>\n",
       "    </tr>\n",
       "    <tr>\n",
       "      <th>2</th>\n",
       "      <td>3</td>\n",
       "      <td>3</td>\n",
       "      <td>True</td>\n",
       "    </tr>\n",
       "    <tr>\n",
       "      <th>3</th>\n",
       "      <td>4</td>\n",
       "      <td>book</td>\n",
       "      <td>False</td>\n",
       "    </tr>\n",
       "  </tbody>\n",
       "</table>\n",
       "</div>"
      ],
      "text/plain": [
       "   c1    c2     c3\n",
       "0   1     1   True\n",
       "1   2     3  False\n",
       "2   3     3   True\n",
       "3   4  book  False"
      ]
     },
     "execution_count": 88,
     "metadata": {
      "tags": []
     },
     "output_type": "execute_result"
    }
   ],
   "source": [
    "df4 = pd.DataFrame({ \"c1\" : [1,2,3,4],\n",
    "                       \"c2\": [1,3,3,\"book\"],\n",
    "                       \"c3\": [\"True\",\"False\",\"True\",\"False\"]})\n",
    "df4"
   ]
  },
  {
   "cell_type": "markdown",
   "metadata": {
    "colab_type": "text",
    "id": "D_pu2sc0HHAi"
   },
   "source": [
    "<font color='red'>To-do:</font> Print out the datatypes of columns in df4. "
   ]
  },
  {
   "cell_type": "code",
   "execution_count": null,
   "metadata": {
    "colab": {
     "base_uri": "https://localhost:8080/",
     "height": 85
    },
    "colab_type": "code",
    "executionInfo": {
     "elapsed": 1463,
     "status": "ok",
     "timestamp": 1598921450379,
     "user": {
      "displayName": "Matteo Althoen",
      "photoUrl": "https://lh3.googleusercontent.com/a-/AOh14GjPSPRSvtrouBaCYKVohr_lWlKVUrcrI9ppoapoQQ=s64",
      "userId": "08073588379347548325"
     },
     "user_tz": 240
    },
    "id": "OXO9eT-wHHAi",
    "outputId": "6764cc57-ac81-4e8a-e30e-a78ecca47f49"
   },
   "outputs": [
    {
     "data": {
      "text/plain": [
       "c1     int64\n",
       "c2    object\n",
       "c3    object\n",
       "dtype: object"
      ]
     },
     "execution_count": 89,
     "metadata": {
      "tags": []
     },
     "output_type": "execute_result"
    }
   ],
   "source": [
    "df4.dtypes"
   ]
  },
  {
   "cell_type": "markdown",
   "metadata": {
    "colab_type": "text",
    "id": "BNVKHXcIHHAk"
   },
   "source": [
    "What do you see for c2? You can see that pandas tries to find a common object type. This is great but this flexibility can also result in runtime errors.  Make sure you are careful with the use of data types."
   ]
  },
  {
   "cell_type": "markdown",
   "metadata": {
    "colab_type": "text",
    "id": "aJeR4iMlHHAl"
   },
   "source": [
    "### Exploring data in a DataFrame\n",
    "We can access the data types of each column in a DataFrame as follows:"
   ]
  },
  {
   "cell_type": "code",
   "execution_count": null,
   "metadata": {
    "colab": {
     "base_uri": "https://localhost:8080/",
     "height": 68
    },
    "colab_type": "code",
    "executionInfo": {
     "elapsed": 1751,
     "status": "ok",
     "timestamp": 1598921450685,
     "user": {
      "displayName": "Matteo Althoen",
      "photoUrl": "https://lh3.googleusercontent.com/a-/AOh14GjPSPRSvtrouBaCYKVohr_lWlKVUrcrI9ppoapoQQ=s64",
      "userId": "08073588379347548325"
     },
     "user_tz": 240
    },
    "id": "RIC3x8N9HHAl",
    "outputId": "8e6ee6d8-ed46-49a1-fdb5-ed1df1ce37a5"
   },
   "outputs": [
    {
     "data": {
      "text/plain": [
       "DatetimeIndex(['2015-01-25', '2015-01-26', '2015-01-27', '2015-01-28',\n",
       "               '2015-01-29', '2015-01-30', '2015-01-31'],\n",
       "              dtype='datetime64[ns]', freq='D')"
      ]
     },
     "execution_count": 90,
     "metadata": {
      "tags": []
     },
     "output_type": "execute_result"
    }
   ],
   "source": [
    "df.index"
   ]
  },
  {
   "cell_type": "markdown",
   "metadata": {
    "colab_type": "text",
    "id": "UtLbE0zvHHAn"
   },
   "source": [
    "A few other basic operations:"
   ]
  },
  {
   "cell_type": "code",
   "execution_count": null,
   "metadata": {
    "colab": {
     "base_uri": "https://localhost:8080/",
     "height": 136
    },
    "colab_type": "code",
    "executionInfo": {
     "elapsed": 1737,
     "status": "ok",
     "timestamp": 1598921450686,
     "user": {
      "displayName": "Matteo Althoen",
      "photoUrl": "https://lh3.googleusercontent.com/a-/AOh14GjPSPRSvtrouBaCYKVohr_lWlKVUrcrI9ppoapoQQ=s64",
      "userId": "08073588379347548325"
     },
     "user_tz": 240
    },
    "id": "bJZAPg0DHHAo",
    "outputId": "61544d04-4dbb-46f4-da33-14428fdb4cd6"
   },
   "outputs": [
    {
     "data": {
      "text/plain": [
       "array([[ 1.56487455, -0.72551907, -0.05745362,  1.35435328],\n",
       "       [-0.96089847,  1.07915346, -0.60400323, -0.37460446],\n",
       "       [ 0.12651508, -0.03999034,  0.98073562, -0.02405304],\n",
       "       [ 0.27422632, -1.205027  ,  0.20807768, -0.39737255],\n",
       "       [-0.65608606,  1.29794976, -1.1063212 , -0.4256824 ],\n",
       "       [-1.10851404,  2.03624558, -0.89703854,  0.51004774],\n",
       "       [ 1.4477534 ,  0.67856796,  0.8918402 , -1.39130815]])"
      ]
     },
     "execution_count": 91,
     "metadata": {
      "tags": []
     },
     "output_type": "execute_result"
    }
   ],
   "source": [
    "df.values"
   ]
  },
  {
   "cell_type": "code",
   "execution_count": null,
   "metadata": {
    "colab": {
     "base_uri": "https://localhost:8080/",
     "height": 297
    },
    "colab_type": "code",
    "executionInfo": {
     "elapsed": 1721,
     "status": "ok",
     "timestamp": 1598921450687,
     "user": {
      "displayName": "Matteo Althoen",
      "photoUrl": "https://lh3.googleusercontent.com/a-/AOh14GjPSPRSvtrouBaCYKVohr_lWlKVUrcrI9ppoapoQQ=s64",
      "userId": "08073588379347548325"
     },
     "user_tz": 240
    },
    "id": "qil-w8YCHHAq",
    "outputId": "e528ba4d-e722-4a50-c227-137fc0ee16d6"
   },
   "outputs": [
    {
     "data": {
      "text/html": [
       "<div>\n",
       "<style scoped>\n",
       "    .dataframe tbody tr th:only-of-type {\n",
       "        vertical-align: middle;\n",
       "    }\n",
       "\n",
       "    .dataframe tbody tr th {\n",
       "        vertical-align: top;\n",
       "    }\n",
       "\n",
       "    .dataframe thead th {\n",
       "        text-align: right;\n",
       "    }\n",
       "</style>\n",
       "<table border=\"1\" class=\"dataframe\">\n",
       "  <thead>\n",
       "    <tr style=\"text-align: right;\">\n",
       "      <th></th>\n",
       "      <th>col1</th>\n",
       "      <th>col2</th>\n",
       "      <th>col4</th>\n",
       "      <th>col3</th>\n",
       "    </tr>\n",
       "  </thead>\n",
       "  <tbody>\n",
       "    <tr>\n",
       "      <th>count</th>\n",
       "      <td>7.000000</td>\n",
       "      <td>7.000000</td>\n",
       "      <td>7.000000</td>\n",
       "      <td>7.000000</td>\n",
       "    </tr>\n",
       "    <tr>\n",
       "      <th>mean</th>\n",
       "      <td>0.098267</td>\n",
       "      <td>0.445911</td>\n",
       "      <td>-0.083452</td>\n",
       "      <td>-0.106946</td>\n",
       "    </tr>\n",
       "    <tr>\n",
       "      <th>std</th>\n",
       "      <td>1.091712</td>\n",
       "      <td>1.157886</td>\n",
       "      <td>0.831516</td>\n",
       "      <td>0.859274</td>\n",
       "    </tr>\n",
       "    <tr>\n",
       "      <th>min</th>\n",
       "      <td>-1.108514</td>\n",
       "      <td>-1.205027</td>\n",
       "      <td>-1.106321</td>\n",
       "      <td>-1.391308</td>\n",
       "    </tr>\n",
       "    <tr>\n",
       "      <th>25%</th>\n",
       "      <td>-0.808492</td>\n",
       "      <td>-0.382755</td>\n",
       "      <td>-0.750521</td>\n",
       "      <td>-0.411527</td>\n",
       "    </tr>\n",
       "    <tr>\n",
       "      <th>50%</th>\n",
       "      <td>0.126515</td>\n",
       "      <td>0.678568</td>\n",
       "      <td>-0.057454</td>\n",
       "      <td>-0.374604</td>\n",
       "    </tr>\n",
       "    <tr>\n",
       "      <th>75%</th>\n",
       "      <td>0.860990</td>\n",
       "      <td>1.188552</td>\n",
       "      <td>0.549959</td>\n",
       "      <td>0.242997</td>\n",
       "    </tr>\n",
       "    <tr>\n",
       "      <th>max</th>\n",
       "      <td>1.564875</td>\n",
       "      <td>2.036246</td>\n",
       "      <td>0.980736</td>\n",
       "      <td>1.354353</td>\n",
       "    </tr>\n",
       "  </tbody>\n",
       "</table>\n",
       "</div>"
      ],
      "text/plain": [
       "           col1      col2      col4      col3\n",
       "count  7.000000  7.000000  7.000000  7.000000\n",
       "mean   0.098267  0.445911 -0.083452 -0.106946\n",
       "std    1.091712  1.157886  0.831516  0.859274\n",
       "min   -1.108514 -1.205027 -1.106321 -1.391308\n",
       "25%   -0.808492 -0.382755 -0.750521 -0.411527\n",
       "50%    0.126515  0.678568 -0.057454 -0.374604\n",
       "75%    0.860990  1.188552  0.549959  0.242997\n",
       "max    1.564875  2.036246  0.980736  1.354353"
      ]
     },
     "execution_count": 92,
     "metadata": {
      "tags": []
     },
     "output_type": "execute_result"
    }
   ],
   "source": [
    "df.describe()"
   ]
  },
  {
   "cell_type": "markdown",
   "metadata": {
    "colab_type": "text",
    "id": "qEWuL5wnHHAr"
   },
   "source": [
    "<font color='red'>To-do:</font> Print the column names for df."
   ]
  },
  {
   "cell_type": "code",
   "execution_count": null,
   "metadata": {
    "colab": {
     "base_uri": "https://localhost:8080/",
     "height": 34
    },
    "colab_type": "code",
    "executionInfo": {
     "elapsed": 1704,
     "status": "ok",
     "timestamp": 1598921450688,
     "user": {
      "displayName": "Matteo Althoen",
      "photoUrl": "https://lh3.googleusercontent.com/a-/AOh14GjPSPRSvtrouBaCYKVohr_lWlKVUrcrI9ppoapoQQ=s64",
      "userId": "08073588379347548325"
     },
     "user_tz": 240
    },
    "id": "Fsei0xDNHHAs",
    "outputId": "72bd6a51-21c7-468d-a330-7adb2f119ecc"
   },
   "outputs": [
    {
     "data": {
      "text/plain": [
       "['col1', 'col2', 'col4', 'col3']"
      ]
     },
     "execution_count": 93,
     "metadata": {
      "tags": []
     },
     "output_type": "execute_result"
    }
   ],
   "source": [
    "list(df.columns)\n"
   ]
  },
  {
   "cell_type": "markdown",
   "metadata": {
    "colab_type": "text",
    "id": "GOVC4HKqHHAu"
   },
   "source": [
    "### Some basic data transformations\n",
    "DataFrames have a built-in transpose"
   ]
  },
  {
   "cell_type": "code",
   "execution_count": null,
   "metadata": {
    "colab": {
     "base_uri": "https://localhost:8080/",
     "height": 173
    },
    "colab_type": "code",
    "executionInfo": {
     "elapsed": 1685,
     "status": "ok",
     "timestamp": 1598921450688,
     "user": {
      "displayName": "Matteo Althoen",
      "photoUrl": "https://lh3.googleusercontent.com/a-/AOh14GjPSPRSvtrouBaCYKVohr_lWlKVUrcrI9ppoapoQQ=s64",
      "userId": "08073588379347548325"
     },
     "user_tz": 240
    },
    "id": "RL7Z_072HHAv",
    "outputId": "c57d1271-4fda-40df-be5b-c89fa1ba71ce"
   },
   "outputs": [
    {
     "data": {
      "text/html": [
       "<div>\n",
       "<style scoped>\n",
       "    .dataframe tbody tr th:only-of-type {\n",
       "        vertical-align: middle;\n",
       "    }\n",
       "\n",
       "    .dataframe tbody tr th {\n",
       "        vertical-align: top;\n",
       "    }\n",
       "\n",
       "    .dataframe thead th {\n",
       "        text-align: right;\n",
       "    }\n",
       "</style>\n",
       "<table border=\"1\" class=\"dataframe\">\n",
       "  <thead>\n",
       "    <tr style=\"text-align: right;\">\n",
       "      <th></th>\n",
       "      <th>2015-01-25</th>\n",
       "      <th>2015-01-26</th>\n",
       "      <th>2015-01-27</th>\n",
       "      <th>2015-01-28</th>\n",
       "      <th>2015-01-29</th>\n",
       "      <th>2015-01-30</th>\n",
       "      <th>2015-01-31</th>\n",
       "    </tr>\n",
       "  </thead>\n",
       "  <tbody>\n",
       "    <tr>\n",
       "      <th>col1</th>\n",
       "      <td>1.564875</td>\n",
       "      <td>-0.960898</td>\n",
       "      <td>0.126515</td>\n",
       "      <td>0.274226</td>\n",
       "      <td>-0.656086</td>\n",
       "      <td>-1.108514</td>\n",
       "      <td>1.447753</td>\n",
       "    </tr>\n",
       "    <tr>\n",
       "      <th>col2</th>\n",
       "      <td>-0.725519</td>\n",
       "      <td>1.079153</td>\n",
       "      <td>-0.039990</td>\n",
       "      <td>-1.205027</td>\n",
       "      <td>1.297950</td>\n",
       "      <td>2.036246</td>\n",
       "      <td>0.678568</td>\n",
       "    </tr>\n",
       "    <tr>\n",
       "      <th>col4</th>\n",
       "      <td>-0.057454</td>\n",
       "      <td>-0.604003</td>\n",
       "      <td>0.980736</td>\n",
       "      <td>0.208078</td>\n",
       "      <td>-1.106321</td>\n",
       "      <td>-0.897039</td>\n",
       "      <td>0.891840</td>\n",
       "    </tr>\n",
       "    <tr>\n",
       "      <th>col3</th>\n",
       "      <td>1.354353</td>\n",
       "      <td>-0.374604</td>\n",
       "      <td>-0.024053</td>\n",
       "      <td>-0.397373</td>\n",
       "      <td>-0.425682</td>\n",
       "      <td>0.510048</td>\n",
       "      <td>-1.391308</td>\n",
       "    </tr>\n",
       "  </tbody>\n",
       "</table>\n",
       "</div>"
      ],
      "text/plain": [
       "      2015-01-25  2015-01-26  2015-01-27  ...  2015-01-29  2015-01-30  2015-01-31\n",
       "col1    1.564875   -0.960898    0.126515  ...   -0.656086   -1.108514    1.447753\n",
       "col2   -0.725519    1.079153   -0.039990  ...    1.297950    2.036246    0.678568\n",
       "col4   -0.057454   -0.604003    0.980736  ...   -1.106321   -0.897039    0.891840\n",
       "col3    1.354353   -0.374604   -0.024053  ...   -0.425682    0.510048   -1.391308\n",
       "\n",
       "[4 rows x 7 columns]"
      ]
     },
     "execution_count": 94,
     "metadata": {
      "tags": []
     },
     "output_type": "execute_result"
    }
   ],
   "source": [
    "df.T"
   ]
  },
  {
   "cell_type": "markdown",
   "metadata": {
    "colab_type": "text",
    "id": "jErQq0vHHHAw"
   },
   "source": [
    "We can also sort a DataFrame along a given data dimension. For example, we might want to sort by the values in the second column:"
   ]
  },
  {
   "cell_type": "code",
   "execution_count": null,
   "metadata": {
    "colab": {
     "base_uri": "https://localhost:8080/",
     "height": 266
    },
    "colab_type": "code",
    "executionInfo": {
     "elapsed": 1668,
     "status": "ok",
     "timestamp": 1598921450689,
     "user": {
      "displayName": "Matteo Althoen",
      "photoUrl": "https://lh3.googleusercontent.com/a-/AOh14GjPSPRSvtrouBaCYKVohr_lWlKVUrcrI9ppoapoQQ=s64",
      "userId": "08073588379347548325"
     },
     "user_tz": 240
    },
    "id": "aC0hVhBFHHAx",
    "outputId": "6a9828e2-fb18-42a8-9cd0-4966fb388ae3"
   },
   "outputs": [
    {
     "data": {
      "text/html": [
       "<div>\n",
       "<style scoped>\n",
       "    .dataframe tbody tr th:only-of-type {\n",
       "        vertical-align: middle;\n",
       "    }\n",
       "\n",
       "    .dataframe tbody tr th {\n",
       "        vertical-align: top;\n",
       "    }\n",
       "\n",
       "    .dataframe thead th {\n",
       "        text-align: right;\n",
       "    }\n",
       "</style>\n",
       "<table border=\"1\" class=\"dataframe\">\n",
       "  <thead>\n",
       "    <tr style=\"text-align: right;\">\n",
       "      <th></th>\n",
       "      <th>col1</th>\n",
       "      <th>col2</th>\n",
       "      <th>col4</th>\n",
       "      <th>col3</th>\n",
       "    </tr>\n",
       "  </thead>\n",
       "  <tbody>\n",
       "    <tr>\n",
       "      <th>2015-01-28</th>\n",
       "      <td>0.274226</td>\n",
       "      <td>-1.205027</td>\n",
       "      <td>0.208078</td>\n",
       "      <td>-0.397373</td>\n",
       "    </tr>\n",
       "    <tr>\n",
       "      <th>2015-01-25</th>\n",
       "      <td>1.564875</td>\n",
       "      <td>-0.725519</td>\n",
       "      <td>-0.057454</td>\n",
       "      <td>1.354353</td>\n",
       "    </tr>\n",
       "    <tr>\n",
       "      <th>2015-01-27</th>\n",
       "      <td>0.126515</td>\n",
       "      <td>-0.039990</td>\n",
       "      <td>0.980736</td>\n",
       "      <td>-0.024053</td>\n",
       "    </tr>\n",
       "    <tr>\n",
       "      <th>2015-01-31</th>\n",
       "      <td>1.447753</td>\n",
       "      <td>0.678568</td>\n",
       "      <td>0.891840</td>\n",
       "      <td>-1.391308</td>\n",
       "    </tr>\n",
       "    <tr>\n",
       "      <th>2015-01-26</th>\n",
       "      <td>-0.960898</td>\n",
       "      <td>1.079153</td>\n",
       "      <td>-0.604003</td>\n",
       "      <td>-0.374604</td>\n",
       "    </tr>\n",
       "    <tr>\n",
       "      <th>2015-01-29</th>\n",
       "      <td>-0.656086</td>\n",
       "      <td>1.297950</td>\n",
       "      <td>-1.106321</td>\n",
       "      <td>-0.425682</td>\n",
       "    </tr>\n",
       "    <tr>\n",
       "      <th>2015-01-30</th>\n",
       "      <td>-1.108514</td>\n",
       "      <td>2.036246</td>\n",
       "      <td>-0.897039</td>\n",
       "      <td>0.510048</td>\n",
       "    </tr>\n",
       "  </tbody>\n",
       "</table>\n",
       "</div>"
      ],
      "text/plain": [
       "                col1      col2      col4      col3\n",
       "2015-01-28  0.274226 -1.205027  0.208078 -0.397373\n",
       "2015-01-25  1.564875 -0.725519 -0.057454  1.354353\n",
       "2015-01-27  0.126515 -0.039990  0.980736 -0.024053\n",
       "2015-01-31  1.447753  0.678568  0.891840 -1.391308\n",
       "2015-01-26 -0.960898  1.079153 -0.604003 -0.374604\n",
       "2015-01-29 -0.656086  1.297950 -1.106321 -0.425682\n",
       "2015-01-30 -1.108514  2.036246 -0.897039  0.510048"
      ]
     },
     "execution_count": 95,
     "metadata": {
      "tags": []
     },
     "output_type": "execute_result"
    }
   ],
   "source": [
    "df.sort_values(by=['col2'])"
   ]
  },
  {
   "cell_type": "markdown",
   "metadata": {
    "colab_type": "text",
    "id": "B_0T4Ok4HHAy"
   },
   "source": [
    "We can also sort the rows (axis = 0) by their index values:"
   ]
  },
  {
   "cell_type": "code",
   "execution_count": null,
   "metadata": {
    "colab": {
     "base_uri": "https://localhost:8080/",
     "height": 266
    },
    "colab_type": "code",
    "executionInfo": {
     "elapsed": 1651,
     "status": "ok",
     "timestamp": 1598921450690,
     "user": {
      "displayName": "Matteo Althoen",
      "photoUrl": "https://lh3.googleusercontent.com/a-/AOh14GjPSPRSvtrouBaCYKVohr_lWlKVUrcrI9ppoapoQQ=s64",
      "userId": "08073588379347548325"
     },
     "user_tz": 240
    },
    "id": "WqP8nN7_HHAz",
    "outputId": "0389d3a1-8d55-441b-d22d-94f0f2cdf4cf"
   },
   "outputs": [
    {
     "data": {
      "text/html": [
       "<div>\n",
       "<style scoped>\n",
       "    .dataframe tbody tr th:only-of-type {\n",
       "        vertical-align: middle;\n",
       "    }\n",
       "\n",
       "    .dataframe tbody tr th {\n",
       "        vertical-align: top;\n",
       "    }\n",
       "\n",
       "    .dataframe thead th {\n",
       "        text-align: right;\n",
       "    }\n",
       "</style>\n",
       "<table border=\"1\" class=\"dataframe\">\n",
       "  <thead>\n",
       "    <tr style=\"text-align: right;\">\n",
       "      <th></th>\n",
       "      <th>col1</th>\n",
       "      <th>col2</th>\n",
       "      <th>col4</th>\n",
       "      <th>col3</th>\n",
       "    </tr>\n",
       "  </thead>\n",
       "  <tbody>\n",
       "    <tr>\n",
       "      <th>2015-01-31</th>\n",
       "      <td>1.447753</td>\n",
       "      <td>0.678568</td>\n",
       "      <td>0.891840</td>\n",
       "      <td>-1.391308</td>\n",
       "    </tr>\n",
       "    <tr>\n",
       "      <th>2015-01-30</th>\n",
       "      <td>-1.108514</td>\n",
       "      <td>2.036246</td>\n",
       "      <td>-0.897039</td>\n",
       "      <td>0.510048</td>\n",
       "    </tr>\n",
       "    <tr>\n",
       "      <th>2015-01-29</th>\n",
       "      <td>-0.656086</td>\n",
       "      <td>1.297950</td>\n",
       "      <td>-1.106321</td>\n",
       "      <td>-0.425682</td>\n",
       "    </tr>\n",
       "    <tr>\n",
       "      <th>2015-01-28</th>\n",
       "      <td>0.274226</td>\n",
       "      <td>-1.205027</td>\n",
       "      <td>0.208078</td>\n",
       "      <td>-0.397373</td>\n",
       "    </tr>\n",
       "    <tr>\n",
       "      <th>2015-01-27</th>\n",
       "      <td>0.126515</td>\n",
       "      <td>-0.039990</td>\n",
       "      <td>0.980736</td>\n",
       "      <td>-0.024053</td>\n",
       "    </tr>\n",
       "    <tr>\n",
       "      <th>2015-01-26</th>\n",
       "      <td>-0.960898</td>\n",
       "      <td>1.079153</td>\n",
       "      <td>-0.604003</td>\n",
       "      <td>-0.374604</td>\n",
       "    </tr>\n",
       "    <tr>\n",
       "      <th>2015-01-25</th>\n",
       "      <td>1.564875</td>\n",
       "      <td>-0.725519</td>\n",
       "      <td>-0.057454</td>\n",
       "      <td>1.354353</td>\n",
       "    </tr>\n",
       "  </tbody>\n",
       "</table>\n",
       "</div>"
      ],
      "text/plain": [
       "                col1      col2      col4      col3\n",
       "2015-01-31  1.447753  0.678568  0.891840 -1.391308\n",
       "2015-01-30 -1.108514  2.036246 -0.897039  0.510048\n",
       "2015-01-29 -0.656086  1.297950 -1.106321 -0.425682\n",
       "2015-01-28  0.274226 -1.205027  0.208078 -0.397373\n",
       "2015-01-27  0.126515 -0.039990  0.980736 -0.024053\n",
       "2015-01-26 -0.960898  1.079153 -0.604003 -0.374604\n",
       "2015-01-25  1.564875 -0.725519 -0.057454  1.354353"
      ]
     },
     "execution_count": 96,
     "metadata": {
      "tags": []
     },
     "output_type": "execute_result"
    }
   ],
   "source": [
    "df.sort_index(axis=0, ascending=False)"
   ]
  },
  {
   "cell_type": "markdown",
   "metadata": {
    "colab_type": "text",
    "id": "0gb7EG6hHHA0"
   },
   "source": [
    "<font color='red'>To-do:</font> Sort df according to column header values using df.sort_index."
   ]
  },
  {
   "cell_type": "code",
   "execution_count": null,
   "metadata": {
    "colab": {
     "base_uri": "https://localhost:8080/",
     "height": 266
    },
    "colab_type": "code",
    "executionInfo": {
     "elapsed": 1634,
     "status": "ok",
     "timestamp": 1598921450691,
     "user": {
      "displayName": "Matteo Althoen",
      "photoUrl": "https://lh3.googleusercontent.com/a-/AOh14GjPSPRSvtrouBaCYKVohr_lWlKVUrcrI9ppoapoQQ=s64",
      "userId": "08073588379347548325"
     },
     "user_tz": 240
    },
    "id": "ECfV26-5HHA1",
    "outputId": "6ed62a9c-b250-4e8a-c589-b0499dc513ca"
   },
   "outputs": [
    {
     "data": {
      "text/html": [
       "<div>\n",
       "<style scoped>\n",
       "    .dataframe tbody tr th:only-of-type {\n",
       "        vertical-align: middle;\n",
       "    }\n",
       "\n",
       "    .dataframe tbody tr th {\n",
       "        vertical-align: top;\n",
       "    }\n",
       "\n",
       "    .dataframe thead th {\n",
       "        text-align: right;\n",
       "    }\n",
       "</style>\n",
       "<table border=\"1\" class=\"dataframe\">\n",
       "  <thead>\n",
       "    <tr style=\"text-align: right;\">\n",
       "      <th></th>\n",
       "      <th>col1</th>\n",
       "      <th>col2</th>\n",
       "      <th>col3</th>\n",
       "      <th>col4</th>\n",
       "    </tr>\n",
       "  </thead>\n",
       "  <tbody>\n",
       "    <tr>\n",
       "      <th>2015-01-25</th>\n",
       "      <td>1.564875</td>\n",
       "      <td>-0.725519</td>\n",
       "      <td>1.354353</td>\n",
       "      <td>-0.057454</td>\n",
       "    </tr>\n",
       "    <tr>\n",
       "      <th>2015-01-26</th>\n",
       "      <td>-0.960898</td>\n",
       "      <td>1.079153</td>\n",
       "      <td>-0.374604</td>\n",
       "      <td>-0.604003</td>\n",
       "    </tr>\n",
       "    <tr>\n",
       "      <th>2015-01-27</th>\n",
       "      <td>0.126515</td>\n",
       "      <td>-0.039990</td>\n",
       "      <td>-0.024053</td>\n",
       "      <td>0.980736</td>\n",
       "    </tr>\n",
       "    <tr>\n",
       "      <th>2015-01-28</th>\n",
       "      <td>0.274226</td>\n",
       "      <td>-1.205027</td>\n",
       "      <td>-0.397373</td>\n",
       "      <td>0.208078</td>\n",
       "    </tr>\n",
       "    <tr>\n",
       "      <th>2015-01-29</th>\n",
       "      <td>-0.656086</td>\n",
       "      <td>1.297950</td>\n",
       "      <td>-0.425682</td>\n",
       "      <td>-1.106321</td>\n",
       "    </tr>\n",
       "    <tr>\n",
       "      <th>2015-01-30</th>\n",
       "      <td>-1.108514</td>\n",
       "      <td>2.036246</td>\n",
       "      <td>0.510048</td>\n",
       "      <td>-0.897039</td>\n",
       "    </tr>\n",
       "    <tr>\n",
       "      <th>2015-01-31</th>\n",
       "      <td>1.447753</td>\n",
       "      <td>0.678568</td>\n",
       "      <td>-1.391308</td>\n",
       "      <td>0.891840</td>\n",
       "    </tr>\n",
       "  </tbody>\n",
       "</table>\n",
       "</div>"
      ],
      "text/plain": [
       "                col1      col2      col3      col4\n",
       "2015-01-25  1.564875 -0.725519  1.354353 -0.057454\n",
       "2015-01-26 -0.960898  1.079153 -0.374604 -0.604003\n",
       "2015-01-27  0.126515 -0.039990 -0.024053  0.980736\n",
       "2015-01-28  0.274226 -1.205027 -0.397373  0.208078\n",
       "2015-01-29 -0.656086  1.297950 -0.425682 -1.106321\n",
       "2015-01-30 -1.108514  2.036246  0.510048 -0.897039\n",
       "2015-01-31  1.447753  0.678568 -1.391308  0.891840"
      ]
     },
     "execution_count": 97,
     "metadata": {
      "tags": []
     },
     "output_type": "execute_result"
    }
   ],
   "source": [
    "df.sort_index(1, ascending=True)\n"
   ]
  },
  {
   "cell_type": "markdown",
   "metadata": {
    "colab_type": "text",
    "id": "LVdBWp1gHHA2"
   },
   "source": [
    "### Selection\n",
    "To select only only the first few rows of a DataFrame, use the .head() function, or tail to get the last few rows. These functions by default return 5 rows but you can change that."
   ]
  },
  {
   "cell_type": "code",
   "execution_count": null,
   "metadata": {
    "colab": {
     "base_uri": "https://localhost:8080/",
     "height": 204
    },
    "colab_type": "code",
    "executionInfo": {
     "elapsed": 1615,
     "status": "ok",
     "timestamp": 1598921450691,
     "user": {
      "displayName": "Matteo Althoen",
      "photoUrl": "https://lh3.googleusercontent.com/a-/AOh14GjPSPRSvtrouBaCYKVohr_lWlKVUrcrI9ppoapoQQ=s64",
      "userId": "08073588379347548325"
     },
     "user_tz": 240
    },
    "id": "R9kmWDYdHHA3",
    "outputId": "6b446b4c-724e-47cd-80ff-b0849f6b9b2b"
   },
   "outputs": [
    {
     "data": {
      "text/html": [
       "<div>\n",
       "<style scoped>\n",
       "    .dataframe tbody tr th:only-of-type {\n",
       "        vertical-align: middle;\n",
       "    }\n",
       "\n",
       "    .dataframe tbody tr th {\n",
       "        vertical-align: top;\n",
       "    }\n",
       "\n",
       "    .dataframe thead th {\n",
       "        text-align: right;\n",
       "    }\n",
       "</style>\n",
       "<table border=\"1\" class=\"dataframe\">\n",
       "  <thead>\n",
       "    <tr style=\"text-align: right;\">\n",
       "      <th></th>\n",
       "      <th>col1</th>\n",
       "      <th>col2</th>\n",
       "      <th>col4</th>\n",
       "      <th>col3</th>\n",
       "    </tr>\n",
       "  </thead>\n",
       "  <tbody>\n",
       "    <tr>\n",
       "      <th>2015-01-25</th>\n",
       "      <td>1.564875</td>\n",
       "      <td>-0.725519</td>\n",
       "      <td>-0.057454</td>\n",
       "      <td>1.354353</td>\n",
       "    </tr>\n",
       "    <tr>\n",
       "      <th>2015-01-26</th>\n",
       "      <td>-0.960898</td>\n",
       "      <td>1.079153</td>\n",
       "      <td>-0.604003</td>\n",
       "      <td>-0.374604</td>\n",
       "    </tr>\n",
       "    <tr>\n",
       "      <th>2015-01-27</th>\n",
       "      <td>0.126515</td>\n",
       "      <td>-0.039990</td>\n",
       "      <td>0.980736</td>\n",
       "      <td>-0.024053</td>\n",
       "    </tr>\n",
       "    <tr>\n",
       "      <th>2015-01-28</th>\n",
       "      <td>0.274226</td>\n",
       "      <td>-1.205027</td>\n",
       "      <td>0.208078</td>\n",
       "      <td>-0.397373</td>\n",
       "    </tr>\n",
       "    <tr>\n",
       "      <th>2015-01-29</th>\n",
       "      <td>-0.656086</td>\n",
       "      <td>1.297950</td>\n",
       "      <td>-1.106321</td>\n",
       "      <td>-0.425682</td>\n",
       "    </tr>\n",
       "  </tbody>\n",
       "</table>\n",
       "</div>"
      ],
      "text/plain": [
       "                col1      col2      col4      col3\n",
       "2015-01-25  1.564875 -0.725519 -0.057454  1.354353\n",
       "2015-01-26 -0.960898  1.079153 -0.604003 -0.374604\n",
       "2015-01-27  0.126515 -0.039990  0.980736 -0.024053\n",
       "2015-01-28  0.274226 -1.205027  0.208078 -0.397373\n",
       "2015-01-29 -0.656086  1.297950 -1.106321 -0.425682"
      ]
     },
     "execution_count": 98,
     "metadata": {
      "tags": []
     },
     "output_type": "execute_result"
    }
   ],
   "source": [
    "df.head()"
   ]
  },
  {
   "cell_type": "markdown",
   "metadata": {
    "colab_type": "text",
    "id": "5IL5xxUYHHA5"
   },
   "source": [
    "<font color='red'>To-do:</font> Get the last 2 rows in df."
   ]
  },
  {
   "cell_type": "code",
   "execution_count": null,
   "metadata": {
    "colab": {
     "base_uri": "https://localhost:8080/",
     "height": 111
    },
    "colab_type": "code",
    "executionInfo": {
     "elapsed": 1594,
     "status": "ok",
     "timestamp": 1598921450692,
     "user": {
      "displayName": "Matteo Althoen",
      "photoUrl": "https://lh3.googleusercontent.com/a-/AOh14GjPSPRSvtrouBaCYKVohr_lWlKVUrcrI9ppoapoQQ=s64",
      "userId": "08073588379347548325"
     },
     "user_tz": 240
    },
    "id": "-g89CZo8HHA5",
    "outputId": "e56ef6bc-c0d9-4343-d94e-3e5722a98c27"
   },
   "outputs": [
    {
     "data": {
      "text/html": [
       "<div>\n",
       "<style scoped>\n",
       "    .dataframe tbody tr th:only-of-type {\n",
       "        vertical-align: middle;\n",
       "    }\n",
       "\n",
       "    .dataframe tbody tr th {\n",
       "        vertical-align: top;\n",
       "    }\n",
       "\n",
       "    .dataframe thead th {\n",
       "        text-align: right;\n",
       "    }\n",
       "</style>\n",
       "<table border=\"1\" class=\"dataframe\">\n",
       "  <thead>\n",
       "    <tr style=\"text-align: right;\">\n",
       "      <th></th>\n",
       "      <th>col1</th>\n",
       "      <th>col2</th>\n",
       "      <th>col4</th>\n",
       "      <th>col3</th>\n",
       "    </tr>\n",
       "  </thead>\n",
       "  <tbody>\n",
       "    <tr>\n",
       "      <th>2015-01-30</th>\n",
       "      <td>-1.108514</td>\n",
       "      <td>2.036246</td>\n",
       "      <td>-0.897039</td>\n",
       "      <td>0.510048</td>\n",
       "    </tr>\n",
       "    <tr>\n",
       "      <th>2015-01-31</th>\n",
       "      <td>1.447753</td>\n",
       "      <td>0.678568</td>\n",
       "      <td>0.891840</td>\n",
       "      <td>-1.391308</td>\n",
       "    </tr>\n",
       "  </tbody>\n",
       "</table>\n",
       "</div>"
      ],
      "text/plain": [
       "                col1      col2      col4      col3\n",
       "2015-01-30 -1.108514  2.036246 -0.897039  0.510048\n",
       "2015-01-31  1.447753  0.678568  0.891840 -1.391308"
      ]
     },
     "execution_count": 99,
     "metadata": {
      "tags": []
     },
     "output_type": "execute_result"
    }
   ],
   "source": [
    "df.tail(n=2)"
   ]
  },
  {
   "cell_type": "markdown",
   "metadata": {
    "colab_type": "text",
    "id": "SWXlNsy3HHA8"
   },
   "source": [
    "Selecting a single column yields a Series, equivalent to df.col1:"
   ]
  },
  {
   "cell_type": "code",
   "execution_count": null,
   "metadata": {
    "colab": {
     "base_uri": "https://localhost:8080/",
     "height": 153
    },
    "colab_type": "code",
    "executionInfo": {
     "elapsed": 1580,
     "status": "ok",
     "timestamp": 1598921450693,
     "user": {
      "displayName": "Matteo Althoen",
      "photoUrl": "https://lh3.googleusercontent.com/a-/AOh14GjPSPRSvtrouBaCYKVohr_lWlKVUrcrI9ppoapoQQ=s64",
      "userId": "08073588379347548325"
     },
     "user_tz": 240
    },
    "id": "3kNgIBojHHA8",
    "outputId": "506c931f-6d7a-4587-a067-b95d6bce4584"
   },
   "outputs": [
    {
     "data": {
      "text/plain": [
       "2015-01-25    1.564875\n",
       "2015-01-26   -0.960898\n",
       "2015-01-27    0.126515\n",
       "2015-01-28    0.274226\n",
       "2015-01-29   -0.656086\n",
       "2015-01-30   -1.108514\n",
       "2015-01-31    1.447753\n",
       "Freq: D, Name: col1, dtype: float64"
      ]
     },
     "execution_count": 100,
     "metadata": {
      "tags": []
     },
     "output_type": "execute_result"
    }
   ],
   "source": [
    "df['col1']"
   ]
  },
  {
   "cell_type": "markdown",
   "metadata": {
    "colab_type": "text",
    "id": "PVRf0HhWHHA-"
   },
   "source": [
    "We can also select a subset of the rows using slicing. You can select either by integer indexing or by value:"
   ]
  },
  {
   "cell_type": "code",
   "execution_count": null,
   "metadata": {
    "colab": {
     "base_uri": "https://localhost:8080/",
     "height": 111
    },
    "colab_type": "code",
    "executionInfo": {
     "elapsed": 1847,
     "status": "ok",
     "timestamp": 1598921450975,
     "user": {
      "displayName": "Matteo Althoen",
      "photoUrl": "https://lh3.googleusercontent.com/a-/AOh14GjPSPRSvtrouBaCYKVohr_lWlKVUrcrI9ppoapoQQ=s64",
      "userId": "08073588379347548325"
     },
     "user_tz": 240
    },
    "id": "Bd0k5p9SHHA-",
    "outputId": "5035101d-b8b7-4fe6-b94a-3a2236bfd1b2"
   },
   "outputs": [
    {
     "data": {
      "text/html": [
       "<div>\n",
       "<style scoped>\n",
       "    .dataframe tbody tr th:only-of-type {\n",
       "        vertical-align: middle;\n",
       "    }\n",
       "\n",
       "    .dataframe tbody tr th {\n",
       "        vertical-align: top;\n",
       "    }\n",
       "\n",
       "    .dataframe thead th {\n",
       "        text-align: right;\n",
       "    }\n",
       "</style>\n",
       "<table border=\"1\" class=\"dataframe\">\n",
       "  <thead>\n",
       "    <tr style=\"text-align: right;\">\n",
       "      <th></th>\n",
       "      <th>col1</th>\n",
       "      <th>col2</th>\n",
       "      <th>col4</th>\n",
       "      <th>col3</th>\n",
       "    </tr>\n",
       "  </thead>\n",
       "  <tbody>\n",
       "    <tr>\n",
       "      <th>2015-01-26</th>\n",
       "      <td>-0.960898</td>\n",
       "      <td>1.079153</td>\n",
       "      <td>-0.604003</td>\n",
       "      <td>-0.374604</td>\n",
       "    </tr>\n",
       "    <tr>\n",
       "      <th>2015-01-27</th>\n",
       "      <td>0.126515</td>\n",
       "      <td>-0.039990</td>\n",
       "      <td>0.980736</td>\n",
       "      <td>-0.024053</td>\n",
       "    </tr>\n",
       "  </tbody>\n",
       "</table>\n",
       "</div>"
      ],
      "text/plain": [
       "                col1      col2      col4      col3\n",
       "2015-01-26 -0.960898  1.079153 -0.604003 -0.374604\n",
       "2015-01-27  0.126515 -0.039990  0.980736 -0.024053"
      ]
     },
     "execution_count": 101,
     "metadata": {
      "tags": []
     },
     "output_type": "execute_result"
    }
   ],
   "source": [
    "df[1:3]"
   ]
  },
  {
   "cell_type": "code",
   "execution_count": null,
   "metadata": {
    "colab": {
     "base_uri": "https://localhost:8080/",
     "height": 173
    },
    "colab_type": "code",
    "executionInfo": {
     "elapsed": 1832,
     "status": "ok",
     "timestamp": 1598921450977,
     "user": {
      "displayName": "Matteo Althoen",
      "photoUrl": "https://lh3.googleusercontent.com/a-/AOh14GjPSPRSvtrouBaCYKVohr_lWlKVUrcrI9ppoapoQQ=s64",
      "userId": "08073588379347548325"
     },
     "user_tz": 240
    },
    "id": "MSLNeSCzHHBB",
    "outputId": "6e2f1969-802e-4d1f-b27d-cce9fa3e820c"
   },
   "outputs": [
    {
     "data": {
      "text/html": [
       "<div>\n",
       "<style scoped>\n",
       "    .dataframe tbody tr th:only-of-type {\n",
       "        vertical-align: middle;\n",
       "    }\n",
       "\n",
       "    .dataframe tbody tr th {\n",
       "        vertical-align: top;\n",
       "    }\n",
       "\n",
       "    .dataframe thead th {\n",
       "        text-align: right;\n",
       "    }\n",
       "</style>\n",
       "<table border=\"1\" class=\"dataframe\">\n",
       "  <thead>\n",
       "    <tr style=\"text-align: right;\">\n",
       "      <th></th>\n",
       "      <th>col1</th>\n",
       "      <th>col2</th>\n",
       "      <th>col4</th>\n",
       "      <th>col3</th>\n",
       "    </tr>\n",
       "  </thead>\n",
       "  <tbody>\n",
       "    <tr>\n",
       "      <th>2015-01-27</th>\n",
       "      <td>0.126515</td>\n",
       "      <td>-0.039990</td>\n",
       "      <td>0.980736</td>\n",
       "      <td>-0.024053</td>\n",
       "    </tr>\n",
       "    <tr>\n",
       "      <th>2015-01-28</th>\n",
       "      <td>0.274226</td>\n",
       "      <td>-1.205027</td>\n",
       "      <td>0.208078</td>\n",
       "      <td>-0.397373</td>\n",
       "    </tr>\n",
       "    <tr>\n",
       "      <th>2015-01-29</th>\n",
       "      <td>-0.656086</td>\n",
       "      <td>1.297950</td>\n",
       "      <td>-1.106321</td>\n",
       "      <td>-0.425682</td>\n",
       "    </tr>\n",
       "    <tr>\n",
       "      <th>2015-01-30</th>\n",
       "      <td>-1.108514</td>\n",
       "      <td>2.036246</td>\n",
       "      <td>-0.897039</td>\n",
       "      <td>0.510048</td>\n",
       "    </tr>\n",
       "  </tbody>\n",
       "</table>\n",
       "</div>"
      ],
      "text/plain": [
       "                col1      col2      col4      col3\n",
       "2015-01-27  0.126515 -0.039990  0.980736 -0.024053\n",
       "2015-01-28  0.274226 -1.205027  0.208078 -0.397373\n",
       "2015-01-29 -0.656086  1.297950 -1.106321 -0.425682\n",
       "2015-01-30 -1.108514  2.036246 -0.897039  0.510048"
      ]
     },
     "execution_count": 102,
     "metadata": {
      "tags": []
     },
     "output_type": "execute_result"
    }
   ],
   "source": [
    "df['20150127':'20150130']"
   ]
  },
  {
   "cell_type": "markdown",
   "metadata": {
    "colab_type": "text",
    "id": "TtnVrvMyHHBC"
   },
   "source": [
    "To select more than one column at a time, try .loc[]):"
   ]
  },
  {
   "cell_type": "code",
   "execution_count": null,
   "metadata": {
    "colab": {
     "base_uri": "https://localhost:8080/",
     "height": 266
    },
    "colab_type": "code",
    "executionInfo": {
     "elapsed": 1815,
     "status": "ok",
     "timestamp": 1598921450978,
     "user": {
      "displayName": "Matteo Althoen",
      "photoUrl": "https://lh3.googleusercontent.com/a-/AOh14GjPSPRSvtrouBaCYKVohr_lWlKVUrcrI9ppoapoQQ=s64",
      "userId": "08073588379347548325"
     },
     "user_tz": 240
    },
    "id": "agH8HN2jHHBD",
    "outputId": "13b278fa-5a36-4133-c511-b6354a847ba8"
   },
   "outputs": [
    {
     "data": {
      "text/html": [
       "<div>\n",
       "<style scoped>\n",
       "    .dataframe tbody tr th:only-of-type {\n",
       "        vertical-align: middle;\n",
       "    }\n",
       "\n",
       "    .dataframe tbody tr th {\n",
       "        vertical-align: top;\n",
       "    }\n",
       "\n",
       "    .dataframe thead th {\n",
       "        text-align: right;\n",
       "    }\n",
       "</style>\n",
       "<table border=\"1\" class=\"dataframe\">\n",
       "  <thead>\n",
       "    <tr style=\"text-align: right;\">\n",
       "      <th></th>\n",
       "      <th>col2</th>\n",
       "      <th>col4</th>\n",
       "    </tr>\n",
       "  </thead>\n",
       "  <tbody>\n",
       "    <tr>\n",
       "      <th>2015-01-25</th>\n",
       "      <td>-0.725519</td>\n",
       "      <td>-0.057454</td>\n",
       "    </tr>\n",
       "    <tr>\n",
       "      <th>2015-01-26</th>\n",
       "      <td>1.079153</td>\n",
       "      <td>-0.604003</td>\n",
       "    </tr>\n",
       "    <tr>\n",
       "      <th>2015-01-27</th>\n",
       "      <td>-0.039990</td>\n",
       "      <td>0.980736</td>\n",
       "    </tr>\n",
       "    <tr>\n",
       "      <th>2015-01-28</th>\n",
       "      <td>-1.205027</td>\n",
       "      <td>0.208078</td>\n",
       "    </tr>\n",
       "    <tr>\n",
       "      <th>2015-01-29</th>\n",
       "      <td>1.297950</td>\n",
       "      <td>-1.106321</td>\n",
       "    </tr>\n",
       "    <tr>\n",
       "      <th>2015-01-30</th>\n",
       "      <td>2.036246</td>\n",
       "      <td>-0.897039</td>\n",
       "    </tr>\n",
       "    <tr>\n",
       "      <th>2015-01-31</th>\n",
       "      <td>0.678568</td>\n",
       "      <td>0.891840</td>\n",
       "    </tr>\n",
       "  </tbody>\n",
       "</table>\n",
       "</div>"
      ],
      "text/plain": [
       "                col2      col4\n",
       "2015-01-25 -0.725519 -0.057454\n",
       "2015-01-26  1.079153 -0.604003\n",
       "2015-01-27 -0.039990  0.980736\n",
       "2015-01-28 -1.205027  0.208078\n",
       "2015-01-29  1.297950 -1.106321\n",
       "2015-01-30  2.036246 -0.897039\n",
       "2015-01-31  0.678568  0.891840"
      ]
     },
     "execution_count": 103,
     "metadata": {
      "tags": []
     },
     "output_type": "execute_result"
    }
   ],
   "source": [
    "df.loc[:,['col2','col4']]"
   ]
  },
  {
   "cell_type": "markdown",
   "metadata": {
    "colab_type": "text",
    "id": "3DZ6lhpyHHBE"
   },
   "source": [
    "You can select on rows and columns at the same time:"
   ]
  },
  {
   "cell_type": "markdown",
   "metadata": {
    "colab_type": "text",
    "id": "ciPpCKP9HHBF"
   },
   "source": [
    "<font color='red'>To-do:</font> You can select on rows and columns at the same time. Select rows from '20150125' through '20150127' and columns col2, col3, and col4."
   ]
  },
  {
   "cell_type": "code",
   "execution_count": null,
   "metadata": {
    "colab": {
     "base_uri": "https://localhost:8080/",
     "height": 142
    },
    "colab_type": "code",
    "executionInfo": {
     "elapsed": 1803,
     "status": "ok",
     "timestamp": 1598921450979,
     "user": {
      "displayName": "Matteo Althoen",
      "photoUrl": "https://lh3.googleusercontent.com/a-/AOh14GjPSPRSvtrouBaCYKVohr_lWlKVUrcrI9ppoapoQQ=s64",
      "userId": "08073588379347548325"
     },
     "user_tz": 240
    },
    "id": "K0MYYCH2HHBF",
    "outputId": "54d5b58a-dafb-4d77-83ec-a2b33a698ac7"
   },
   "outputs": [
    {
     "data": {
      "text/html": [
       "<div>\n",
       "<style scoped>\n",
       "    .dataframe tbody tr th:only-of-type {\n",
       "        vertical-align: middle;\n",
       "    }\n",
       "\n",
       "    .dataframe tbody tr th {\n",
       "        vertical-align: top;\n",
       "    }\n",
       "\n",
       "    .dataframe thead th {\n",
       "        text-align: right;\n",
       "    }\n",
       "</style>\n",
       "<table border=\"1\" class=\"dataframe\">\n",
       "  <thead>\n",
       "    <tr style=\"text-align: right;\">\n",
       "      <th></th>\n",
       "      <th>col2</th>\n",
       "      <th>col3</th>\n",
       "      <th>col4</th>\n",
       "    </tr>\n",
       "  </thead>\n",
       "  <tbody>\n",
       "    <tr>\n",
       "      <th>2015-01-25</th>\n",
       "      <td>-0.725519</td>\n",
       "      <td>1.354353</td>\n",
       "      <td>-0.057454</td>\n",
       "    </tr>\n",
       "    <tr>\n",
       "      <th>2015-01-26</th>\n",
       "      <td>1.079153</td>\n",
       "      <td>-0.374604</td>\n",
       "      <td>-0.604003</td>\n",
       "    </tr>\n",
       "    <tr>\n",
       "      <th>2015-01-27</th>\n",
       "      <td>-0.039990</td>\n",
       "      <td>-0.024053</td>\n",
       "      <td>0.980736</td>\n",
       "    </tr>\n",
       "  </tbody>\n",
       "</table>\n",
       "</div>"
      ],
      "text/plain": [
       "                col2      col3      col4\n",
       "2015-01-25 -0.725519  1.354353 -0.057454\n",
       "2015-01-26  1.079153 -0.374604 -0.604003\n",
       "2015-01-27 -0.039990 -0.024053  0.980736"
      ]
     },
     "execution_count": 104,
     "metadata": {
      "tags": []
     },
     "output_type": "execute_result"
    }
   ],
   "source": [
    "df['20150125':'20150127'].loc[:,['col2', 'col3', 'col4']]\n"
   ]
  },
  {
   "cell_type": "markdown",
   "metadata": {
    "colab_type": "text",
    "id": "US3lDBrhHHBH"
   },
   "source": [
    "You can also use boolean indexing to select subset of a dataframe that satisfies a requirement"
   ]
  },
  {
   "cell_type": "code",
   "execution_count": null,
   "metadata": {
    "colab": {
     "base_uri": "https://localhost:8080/",
     "height": 173
    },
    "colab_type": "code",
    "executionInfo": {
     "elapsed": 1793,
     "status": "ok",
     "timestamp": 1598921450981,
     "user": {
      "displayName": "Matteo Althoen",
      "photoUrl": "https://lh3.googleusercontent.com/a-/AOh14GjPSPRSvtrouBaCYKVohr_lWlKVUrcrI9ppoapoQQ=s64",
      "userId": "08073588379347548325"
     },
     "user_tz": 240
    },
    "id": "7M48fVvKHHBI",
    "outputId": "2c170dee-b41e-4531-9e88-0d109233079b"
   },
   "outputs": [
    {
     "data": {
      "text/html": [
       "<div>\n",
       "<style scoped>\n",
       "    .dataframe tbody tr th:only-of-type {\n",
       "        vertical-align: middle;\n",
       "    }\n",
       "\n",
       "    .dataframe tbody tr th {\n",
       "        vertical-align: top;\n",
       "    }\n",
       "\n",
       "    .dataframe thead th {\n",
       "        text-align: right;\n",
       "    }\n",
       "</style>\n",
       "<table border=\"1\" class=\"dataframe\">\n",
       "  <thead>\n",
       "    <tr style=\"text-align: right;\">\n",
       "      <th></th>\n",
       "      <th>col1</th>\n",
       "      <th>col2</th>\n",
       "      <th>col4</th>\n",
       "      <th>col3</th>\n",
       "    </tr>\n",
       "  </thead>\n",
       "  <tbody>\n",
       "    <tr>\n",
       "      <th>2015-01-25</th>\n",
       "      <td>1.564875</td>\n",
       "      <td>-0.725519</td>\n",
       "      <td>-0.057454</td>\n",
       "      <td>1.354353</td>\n",
       "    </tr>\n",
       "    <tr>\n",
       "      <th>2015-01-27</th>\n",
       "      <td>0.126515</td>\n",
       "      <td>-0.039990</td>\n",
       "      <td>0.980736</td>\n",
       "      <td>-0.024053</td>\n",
       "    </tr>\n",
       "    <tr>\n",
       "      <th>2015-01-28</th>\n",
       "      <td>0.274226</td>\n",
       "      <td>-1.205027</td>\n",
       "      <td>0.208078</td>\n",
       "      <td>-0.397373</td>\n",
       "    </tr>\n",
       "    <tr>\n",
       "      <th>2015-01-31</th>\n",
       "      <td>1.447753</td>\n",
       "      <td>0.678568</td>\n",
       "      <td>0.891840</td>\n",
       "      <td>-1.391308</td>\n",
       "    </tr>\n",
       "  </tbody>\n",
       "</table>\n",
       "</div>"
      ],
      "text/plain": [
       "                col1      col2      col4      col3\n",
       "2015-01-25  1.564875 -0.725519 -0.057454  1.354353\n",
       "2015-01-27  0.126515 -0.039990  0.980736 -0.024053\n",
       "2015-01-28  0.274226 -1.205027  0.208078 -0.397373\n",
       "2015-01-31  1.447753  0.678568  0.891840 -1.391308"
      ]
     },
     "execution_count": 105,
     "metadata": {
      "tags": []
     },
     "output_type": "execute_result"
    }
   ],
   "source": [
    "df[df['col1'] > 0]"
   ]
  },
  {
   "cell_type": "markdown",
   "metadata": {
    "colab_type": "text",
    "id": "Jc6StviHHHBK"
   },
   "source": [
    "<font color='red'>To-do:</font> Now select the rows where both col2 and col3 are greater than zero."
   ]
  },
  {
   "cell_type": "code",
   "execution_count": null,
   "metadata": {
    "colab": {
     "base_uri": "https://localhost:8080/",
     "height": 266
    },
    "colab_type": "code",
    "executionInfo": {
     "elapsed": 302,
     "status": "ok",
     "timestamp": 1598921540596,
     "user": {
      "displayName": "Matteo Althoen",
      "photoUrl": "https://lh3.googleusercontent.com/a-/AOh14GjPSPRSvtrouBaCYKVohr_lWlKVUrcrI9ppoapoQQ=s64",
      "userId": "08073588379347548325"
     },
     "user_tz": 240
    },
    "id": "lt3MEFBwHHBK",
    "outputId": "1510b6c6-5e72-4713-826a-3ae87e835474"
   },
   "outputs": [
    {
     "data": {
      "text/html": [
       "<div>\n",
       "<style scoped>\n",
       "    .dataframe tbody tr th:only-of-type {\n",
       "        vertical-align: middle;\n",
       "    }\n",
       "\n",
       "    .dataframe tbody tr th {\n",
       "        vertical-align: top;\n",
       "    }\n",
       "\n",
       "    .dataframe thead th {\n",
       "        text-align: right;\n",
       "    }\n",
       "</style>\n",
       "<table border=\"1\" class=\"dataframe\">\n",
       "  <thead>\n",
       "    <tr style=\"text-align: right;\">\n",
       "      <th></th>\n",
       "      <th>col2</th>\n",
       "      <th>col3</th>\n",
       "    </tr>\n",
       "  </thead>\n",
       "  <tbody>\n",
       "    <tr>\n",
       "      <th>2015-01-25</th>\n",
       "      <td>NaN</td>\n",
       "      <td>1.354353</td>\n",
       "    </tr>\n",
       "    <tr>\n",
       "      <th>2015-01-26</th>\n",
       "      <td>1.079153</td>\n",
       "      <td>NaN</td>\n",
       "    </tr>\n",
       "    <tr>\n",
       "      <th>2015-01-27</th>\n",
       "      <td>NaN</td>\n",
       "      <td>NaN</td>\n",
       "    </tr>\n",
       "    <tr>\n",
       "      <th>2015-01-28</th>\n",
       "      <td>NaN</td>\n",
       "      <td>NaN</td>\n",
       "    </tr>\n",
       "    <tr>\n",
       "      <th>2015-01-29</th>\n",
       "      <td>1.297950</td>\n",
       "      <td>NaN</td>\n",
       "    </tr>\n",
       "    <tr>\n",
       "      <th>2015-01-30</th>\n",
       "      <td>2.036246</td>\n",
       "      <td>0.510048</td>\n",
       "    </tr>\n",
       "    <tr>\n",
       "      <th>2015-01-31</th>\n",
       "      <td>0.678568</td>\n",
       "      <td>NaN</td>\n",
       "    </tr>\n",
       "  </tbody>\n",
       "</table>\n",
       "</div>"
      ],
      "text/plain": [
       "                col2      col3\n",
       "2015-01-25       NaN  1.354353\n",
       "2015-01-26  1.079153       NaN\n",
       "2015-01-27       NaN       NaN\n",
       "2015-01-28       NaN       NaN\n",
       "2015-01-29  1.297950       NaN\n",
       "2015-01-30  2.036246  0.510048\n",
       "2015-01-31  0.678568       NaN"
      ]
     },
     "execution_count": 129,
     "metadata": {
      "tags": []
     },
     "output_type": "execute_result"
    }
   ],
   "source": [
    "df[df > 0].loc[:,['col2','col3']]"
   ]
  },
  {
   "cell_type": "code",
   "execution_count": null,
   "metadata": {
    "colab": {},
    "colab_type": "code",
    "id": "zjSR6A1AHHBM"
   },
   "outputs": [],
   "source": [
    "nonneg_only = df[df > 0]"
   ]
  },
  {
   "cell_type": "code",
   "execution_count": null,
   "metadata": {
    "colab": {
     "base_uri": "https://localhost:8080/",
     "height": 266
    },
    "colab_type": "code",
    "executionInfo": {
     "elapsed": 1758,
     "status": "ok",
     "timestamp": 1598921450984,
     "user": {
      "displayName": "Matteo Althoen",
      "photoUrl": "https://lh3.googleusercontent.com/a-/AOh14GjPSPRSvtrouBaCYKVohr_lWlKVUrcrI9ppoapoQQ=s64",
      "userId": "08073588379347548325"
     },
     "user_tz": 240
    },
    "id": "226qDtgfHHBO",
    "outputId": "3f5c3a0f-7946-4828-886b-8c50e7281967"
   },
   "outputs": [
    {
     "data": {
      "text/html": [
       "<div>\n",
       "<style scoped>\n",
       "    .dataframe tbody tr th:only-of-type {\n",
       "        vertical-align: middle;\n",
       "    }\n",
       "\n",
       "    .dataframe tbody tr th {\n",
       "        vertical-align: top;\n",
       "    }\n",
       "\n",
       "    .dataframe thead th {\n",
       "        text-align: right;\n",
       "    }\n",
       "</style>\n",
       "<table border=\"1\" class=\"dataframe\">\n",
       "  <thead>\n",
       "    <tr style=\"text-align: right;\">\n",
       "      <th></th>\n",
       "      <th>col1</th>\n",
       "      <th>col2</th>\n",
       "      <th>col4</th>\n",
       "      <th>col3</th>\n",
       "    </tr>\n",
       "  </thead>\n",
       "  <tbody>\n",
       "    <tr>\n",
       "      <th>2015-01-25</th>\n",
       "      <td>1.564875</td>\n",
       "      <td>NaN</td>\n",
       "      <td>NaN</td>\n",
       "      <td>1.354353</td>\n",
       "    </tr>\n",
       "    <tr>\n",
       "      <th>2015-01-26</th>\n",
       "      <td>NaN</td>\n",
       "      <td>1.079153</td>\n",
       "      <td>NaN</td>\n",
       "      <td>NaN</td>\n",
       "    </tr>\n",
       "    <tr>\n",
       "      <th>2015-01-27</th>\n",
       "      <td>0.126515</td>\n",
       "      <td>NaN</td>\n",
       "      <td>0.980736</td>\n",
       "      <td>NaN</td>\n",
       "    </tr>\n",
       "    <tr>\n",
       "      <th>2015-01-28</th>\n",
       "      <td>0.274226</td>\n",
       "      <td>NaN</td>\n",
       "      <td>0.208078</td>\n",
       "      <td>NaN</td>\n",
       "    </tr>\n",
       "    <tr>\n",
       "      <th>2015-01-29</th>\n",
       "      <td>NaN</td>\n",
       "      <td>1.297950</td>\n",
       "      <td>NaN</td>\n",
       "      <td>NaN</td>\n",
       "    </tr>\n",
       "    <tr>\n",
       "      <th>2015-01-30</th>\n",
       "      <td>NaN</td>\n",
       "      <td>2.036246</td>\n",
       "      <td>NaN</td>\n",
       "      <td>0.510048</td>\n",
       "    </tr>\n",
       "    <tr>\n",
       "      <th>2015-01-31</th>\n",
       "      <td>1.447753</td>\n",
       "      <td>0.678568</td>\n",
       "      <td>0.891840</td>\n",
       "      <td>NaN</td>\n",
       "    </tr>\n",
       "  </tbody>\n",
       "</table>\n",
       "</div>"
      ],
      "text/plain": [
       "                col1      col2      col4      col3\n",
       "2015-01-25  1.564875       NaN       NaN  1.354353\n",
       "2015-01-26       NaN  1.079153       NaN       NaN\n",
       "2015-01-27  0.126515       NaN  0.980736       NaN\n",
       "2015-01-28  0.274226       NaN  0.208078       NaN\n",
       "2015-01-29       NaN  1.297950       NaN       NaN\n",
       "2015-01-30       NaN  2.036246       NaN  0.510048\n",
       "2015-01-31  1.447753  0.678568  0.891840       NaN"
      ]
     },
     "execution_count": 108,
     "metadata": {
      "tags": []
     },
     "output_type": "execute_result"
    }
   ],
   "source": [
    "nonneg_only"
   ]
  },
  {
   "cell_type": "markdown",
   "metadata": {
    "colab_type": "text",
    "id": "39MDJ0STHHBQ"
   },
   "source": [
    "You can drop rows with missing values as such:"
   ]
  },
  {
   "cell_type": "code",
   "execution_count": null,
   "metadata": {
    "colab": {
     "base_uri": "https://localhost:8080/",
     "height": 49
    },
    "colab_type": "code",
    "executionInfo": {
     "elapsed": 1741,
     "status": "ok",
     "timestamp": 1598921450986,
     "user": {
      "displayName": "Matteo Althoen",
      "photoUrl": "https://lh3.googleusercontent.com/a-/AOh14GjPSPRSvtrouBaCYKVohr_lWlKVUrcrI9ppoapoQQ=s64",
      "userId": "08073588379347548325"
     },
     "user_tz": 240
    },
    "id": "DJzd_hSoHHBQ",
    "outputId": "c2a5d9bb-a6a7-4b44-a99d-8be61c8dbd7b"
   },
   "outputs": [
    {
     "data": {
      "text/html": [
       "<div>\n",
       "<style scoped>\n",
       "    .dataframe tbody tr th:only-of-type {\n",
       "        vertical-align: middle;\n",
       "    }\n",
       "\n",
       "    .dataframe tbody tr th {\n",
       "        vertical-align: top;\n",
       "    }\n",
       "\n",
       "    .dataframe thead th {\n",
       "        text-align: right;\n",
       "    }\n",
       "</style>\n",
       "<table border=\"1\" class=\"dataframe\">\n",
       "  <thead>\n",
       "    <tr style=\"text-align: right;\">\n",
       "      <th></th>\n",
       "      <th>col1</th>\n",
       "      <th>col2</th>\n",
       "      <th>col4</th>\n",
       "      <th>col3</th>\n",
       "    </tr>\n",
       "  </thead>\n",
       "  <tbody>\n",
       "  </tbody>\n",
       "</table>\n",
       "</div>"
      ],
      "text/plain": [
       "Empty DataFrame\n",
       "Columns: [col1, col2, col4, col3]\n",
       "Index: []"
      ]
     },
     "execution_count": 109,
     "metadata": {
      "tags": []
     },
     "output_type": "execute_result"
    }
   ],
   "source": [
    "nonneg_only.dropna()"
   ]
  },
  {
   "cell_type": "markdown",
   "metadata": {
    "colab_type": "text",
    "id": "PkU96VGxHHBS"
   },
   "source": [
    "There were no rows with no missing values (most likely, these are random numbers after all...) and therefore the result is an empty dataframe. You can instead assign a default value (here, 0) to the NaN values"
   ]
  },
  {
   "cell_type": "code",
   "execution_count": null,
   "metadata": {
    "colab": {
     "base_uri": "https://localhost:8080/",
     "height": 266
    },
    "colab_type": "code",
    "executionInfo": {
     "elapsed": 1724,
     "status": "ok",
     "timestamp": 1598921450987,
     "user": {
      "displayName": "Matteo Althoen",
      "photoUrl": "https://lh3.googleusercontent.com/a-/AOh14GjPSPRSvtrouBaCYKVohr_lWlKVUrcrI9ppoapoQQ=s64",
      "userId": "08073588379347548325"
     },
     "user_tz": 240
    },
    "id": "DbOfTN5XHHBS",
    "outputId": "f84fb00b-2e88-4b2b-f3ac-5b6270117cfa"
   },
   "outputs": [
    {
     "data": {
      "text/html": [
       "<div>\n",
       "<style scoped>\n",
       "    .dataframe tbody tr th:only-of-type {\n",
       "        vertical-align: middle;\n",
       "    }\n",
       "\n",
       "    .dataframe tbody tr th {\n",
       "        vertical-align: top;\n",
       "    }\n",
       "\n",
       "    .dataframe thead th {\n",
       "        text-align: right;\n",
       "    }\n",
       "</style>\n",
       "<table border=\"1\" class=\"dataframe\">\n",
       "  <thead>\n",
       "    <tr style=\"text-align: right;\">\n",
       "      <th></th>\n",
       "      <th>col1</th>\n",
       "      <th>col2</th>\n",
       "      <th>col4</th>\n",
       "      <th>col3</th>\n",
       "    </tr>\n",
       "  </thead>\n",
       "  <tbody>\n",
       "    <tr>\n",
       "      <th>2015-01-25</th>\n",
       "      <td>1.564875</td>\n",
       "      <td>0.000000</td>\n",
       "      <td>0.000000</td>\n",
       "      <td>1.354353</td>\n",
       "    </tr>\n",
       "    <tr>\n",
       "      <th>2015-01-26</th>\n",
       "      <td>0.000000</td>\n",
       "      <td>1.079153</td>\n",
       "      <td>0.000000</td>\n",
       "      <td>0.000000</td>\n",
       "    </tr>\n",
       "    <tr>\n",
       "      <th>2015-01-27</th>\n",
       "      <td>0.126515</td>\n",
       "      <td>0.000000</td>\n",
       "      <td>0.980736</td>\n",
       "      <td>0.000000</td>\n",
       "    </tr>\n",
       "    <tr>\n",
       "      <th>2015-01-28</th>\n",
       "      <td>0.274226</td>\n",
       "      <td>0.000000</td>\n",
       "      <td>0.208078</td>\n",
       "      <td>0.000000</td>\n",
       "    </tr>\n",
       "    <tr>\n",
       "      <th>2015-01-29</th>\n",
       "      <td>0.000000</td>\n",
       "      <td>1.297950</td>\n",
       "      <td>0.000000</td>\n",
       "      <td>0.000000</td>\n",
       "    </tr>\n",
       "    <tr>\n",
       "      <th>2015-01-30</th>\n",
       "      <td>0.000000</td>\n",
       "      <td>2.036246</td>\n",
       "      <td>0.000000</td>\n",
       "      <td>0.510048</td>\n",
       "    </tr>\n",
       "    <tr>\n",
       "      <th>2015-01-31</th>\n",
       "      <td>1.447753</td>\n",
       "      <td>0.678568</td>\n",
       "      <td>0.891840</td>\n",
       "      <td>0.000000</td>\n",
       "    </tr>\n",
       "  </tbody>\n",
       "</table>\n",
       "</div>"
      ],
      "text/plain": [
       "                col1      col2      col4      col3\n",
       "2015-01-25  1.564875  0.000000  0.000000  1.354353\n",
       "2015-01-26  0.000000  1.079153  0.000000  0.000000\n",
       "2015-01-27  0.126515  0.000000  0.980736  0.000000\n",
       "2015-01-28  0.274226  0.000000  0.208078  0.000000\n",
       "2015-01-29  0.000000  1.297950  0.000000  0.000000\n",
       "2015-01-30  0.000000  2.036246  0.000000  0.510048\n",
       "2015-01-31  1.447753  0.678568  0.891840  0.000000"
      ]
     },
     "execution_count": 110,
     "metadata": {
      "tags": []
     },
     "output_type": "execute_result"
    }
   ],
   "source": [
    "nonneg_only.fillna(value=0)"
   ]
  },
  {
   "cell_type": "markdown",
   "metadata": {
    "colab_type": "text",
    "id": "bNdngGqNHHBU"
   },
   "source": [
    "You can also do filtering using non-numeric values:"
   ]
  },
  {
   "cell_type": "code",
   "execution_count": null,
   "metadata": {
    "colab": {
     "base_uri": "https://localhost:8080/",
     "height": 266
    },
    "colab_type": "code",
    "executionInfo": {
     "elapsed": 1984,
     "status": "ok",
     "timestamp": 1598921451259,
     "user": {
      "displayName": "Matteo Althoen",
      "photoUrl": "https://lh3.googleusercontent.com/a-/AOh14GjPSPRSvtrouBaCYKVohr_lWlKVUrcrI9ppoapoQQ=s64",
      "userId": "08073588379347548325"
     },
     "user_tz": 240
    },
    "id": "46zRyU79HHBU",
    "outputId": "fffd07ae-7897-493d-986b-89ed20c6f4df"
   },
   "outputs": [
    {
     "data": {
      "text/html": [
       "<div>\n",
       "<style scoped>\n",
       "    .dataframe tbody tr th:only-of-type {\n",
       "        vertical-align: middle;\n",
       "    }\n",
       "\n",
       "    .dataframe tbody tr th {\n",
       "        vertical-align: top;\n",
       "    }\n",
       "\n",
       "    .dataframe thead th {\n",
       "        text-align: right;\n",
       "    }\n",
       "</style>\n",
       "<table border=\"1\" class=\"dataframe\">\n",
       "  <thead>\n",
       "    <tr style=\"text-align: right;\">\n",
       "      <th></th>\n",
       "      <th>col1</th>\n",
       "      <th>col2</th>\n",
       "      <th>col4</th>\n",
       "      <th>col3</th>\n",
       "      <th>color</th>\n",
       "    </tr>\n",
       "  </thead>\n",
       "  <tbody>\n",
       "    <tr>\n",
       "      <th>2015-01-25</th>\n",
       "      <td>1.564875</td>\n",
       "      <td>-0.725519</td>\n",
       "      <td>-0.057454</td>\n",
       "      <td>1.354353</td>\n",
       "      <td>red</td>\n",
       "    </tr>\n",
       "    <tr>\n",
       "      <th>2015-01-26</th>\n",
       "      <td>-0.960898</td>\n",
       "      <td>1.079153</td>\n",
       "      <td>-0.604003</td>\n",
       "      <td>-0.374604</td>\n",
       "      <td>blue</td>\n",
       "    </tr>\n",
       "    <tr>\n",
       "      <th>2015-01-27</th>\n",
       "      <td>0.126515</td>\n",
       "      <td>-0.039990</td>\n",
       "      <td>0.980736</td>\n",
       "      <td>-0.024053</td>\n",
       "      <td>red</td>\n",
       "    </tr>\n",
       "    <tr>\n",
       "      <th>2015-01-28</th>\n",
       "      <td>0.274226</td>\n",
       "      <td>-1.205027</td>\n",
       "      <td>0.208078</td>\n",
       "      <td>-0.397373</td>\n",
       "      <td>red</td>\n",
       "    </tr>\n",
       "    <tr>\n",
       "      <th>2015-01-29</th>\n",
       "      <td>-0.656086</td>\n",
       "      <td>1.297950</td>\n",
       "      <td>-1.106321</td>\n",
       "      <td>-0.425682</td>\n",
       "      <td>blue</td>\n",
       "    </tr>\n",
       "    <tr>\n",
       "      <th>2015-01-30</th>\n",
       "      <td>-1.108514</td>\n",
       "      <td>2.036246</td>\n",
       "      <td>-0.897039</td>\n",
       "      <td>0.510048</td>\n",
       "      <td>green</td>\n",
       "    </tr>\n",
       "    <tr>\n",
       "      <th>2015-01-31</th>\n",
       "      <td>1.447753</td>\n",
       "      <td>0.678568</td>\n",
       "      <td>0.891840</td>\n",
       "      <td>-1.391308</td>\n",
       "      <td>green</td>\n",
       "    </tr>\n",
       "  </tbody>\n",
       "</table>\n",
       "</div>"
      ],
      "text/plain": [
       "                col1      col2      col4      col3  color\n",
       "2015-01-25  1.564875 -0.725519 -0.057454  1.354353    red\n",
       "2015-01-26 -0.960898  1.079153 -0.604003 -0.374604   blue\n",
       "2015-01-27  0.126515 -0.039990  0.980736 -0.024053    red\n",
       "2015-01-28  0.274226 -1.205027  0.208078 -0.397373    red\n",
       "2015-01-29 -0.656086  1.297950 -1.106321 -0.425682   blue\n",
       "2015-01-30 -1.108514  2.036246 -0.897039  0.510048  green\n",
       "2015-01-31  1.447753  0.678568  0.891840 -1.391308  green"
      ]
     },
     "execution_count": 111,
     "metadata": {
      "tags": []
     },
     "output_type": "execute_result"
    }
   ],
   "source": [
    "df_c = df.copy()\n",
    "df_c['color'] = ['red', 'blue', 'red', 'red', 'blue', 'green', 'green' ]\n",
    "df_c"
   ]
  },
  {
   "cell_type": "code",
   "execution_count": null,
   "metadata": {
    "colab": {
     "base_uri": "https://localhost:8080/",
     "height": 204
    },
    "colab_type": "code",
    "executionInfo": {
     "elapsed": 1972,
     "status": "ok",
     "timestamp": 1598921451260,
     "user": {
      "displayName": "Matteo Althoen",
      "photoUrl": "https://lh3.googleusercontent.com/a-/AOh14GjPSPRSvtrouBaCYKVohr_lWlKVUrcrI9ppoapoQQ=s64",
      "userId": "08073588379347548325"
     },
     "user_tz": 240
    },
    "id": "jM-LyZt_HHBW",
    "outputId": "a33ee2ca-57af-4b21-f03e-5cf798dc16b2"
   },
   "outputs": [
    {
     "data": {
      "text/html": [
       "<div>\n",
       "<style scoped>\n",
       "    .dataframe tbody tr th:only-of-type {\n",
       "        vertical-align: middle;\n",
       "    }\n",
       "\n",
       "    .dataframe tbody tr th {\n",
       "        vertical-align: top;\n",
       "    }\n",
       "\n",
       "    .dataframe thead th {\n",
       "        text-align: right;\n",
       "    }\n",
       "</style>\n",
       "<table border=\"1\" class=\"dataframe\">\n",
       "  <thead>\n",
       "    <tr style=\"text-align: right;\">\n",
       "      <th></th>\n",
       "      <th>col1</th>\n",
       "      <th>col2</th>\n",
       "      <th>col4</th>\n",
       "      <th>col3</th>\n",
       "      <th>color</th>\n",
       "    </tr>\n",
       "  </thead>\n",
       "  <tbody>\n",
       "    <tr>\n",
       "      <th>2015-01-25</th>\n",
       "      <td>1.564875</td>\n",
       "      <td>-0.725519</td>\n",
       "      <td>-0.057454</td>\n",
       "      <td>1.354353</td>\n",
       "      <td>red</td>\n",
       "    </tr>\n",
       "    <tr>\n",
       "      <th>2015-01-26</th>\n",
       "      <td>-0.960898</td>\n",
       "      <td>1.079153</td>\n",
       "      <td>-0.604003</td>\n",
       "      <td>-0.374604</td>\n",
       "      <td>blue</td>\n",
       "    </tr>\n",
       "    <tr>\n",
       "      <th>2015-01-27</th>\n",
       "      <td>0.126515</td>\n",
       "      <td>-0.039990</td>\n",
       "      <td>0.980736</td>\n",
       "      <td>-0.024053</td>\n",
       "      <td>red</td>\n",
       "    </tr>\n",
       "    <tr>\n",
       "      <th>2015-01-28</th>\n",
       "      <td>0.274226</td>\n",
       "      <td>-1.205027</td>\n",
       "      <td>0.208078</td>\n",
       "      <td>-0.397373</td>\n",
       "      <td>red</td>\n",
       "    </tr>\n",
       "    <tr>\n",
       "      <th>2015-01-29</th>\n",
       "      <td>-0.656086</td>\n",
       "      <td>1.297950</td>\n",
       "      <td>-1.106321</td>\n",
       "      <td>-0.425682</td>\n",
       "      <td>blue</td>\n",
       "    </tr>\n",
       "  </tbody>\n",
       "</table>\n",
       "</div>"
      ],
      "text/plain": [
       "                col1      col2      col4      col3 color\n",
       "2015-01-25  1.564875 -0.725519 -0.057454  1.354353   red\n",
       "2015-01-26 -0.960898  1.079153 -0.604003 -0.374604  blue\n",
       "2015-01-27  0.126515 -0.039990  0.980736 -0.024053   red\n",
       "2015-01-28  0.274226 -1.205027  0.208078 -0.397373   red\n",
       "2015-01-29 -0.656086  1.297950 -1.106321 -0.425682  blue"
      ]
     },
     "execution_count": 112,
     "metadata": {
      "tags": []
     },
     "output_type": "execute_result"
    }
   ],
   "source": [
    "df_c[df_c['color'].isin(['red','blue'])]"
   ]
  },
  {
   "cell_type": "markdown",
   "metadata": {
    "colab_type": "text",
    "id": "NzZKRK51HHBX"
   },
   "source": [
    "### Combining DataFrames\n",
    "You can combine DataFrame objects using simple concatenation (provided they have the same columns):"
   ]
  },
  {
   "cell_type": "code",
   "execution_count": null,
   "metadata": {
    "colab": {
     "base_uri": "https://localhost:8080/",
     "height": 204
    },
    "colab_type": "code",
    "executionInfo": {
     "elapsed": 1960,
     "status": "ok",
     "timestamp": 1598921451261,
     "user": {
      "displayName": "Matteo Althoen",
      "photoUrl": "https://lh3.googleusercontent.com/a-/AOh14GjPSPRSvtrouBaCYKVohr_lWlKVUrcrI9ppoapoQQ=s64",
      "userId": "08073588379347548325"
     },
     "user_tz": 240
    },
    "id": "vbKejz08HHBY",
    "outputId": "a78ca76b-e947-4866-8d65-d82c667b438d"
   },
   "outputs": [
    {
     "data": {
      "text/html": [
       "<div>\n",
       "<style scoped>\n",
       "    .dataframe tbody tr th:only-of-type {\n",
       "        vertical-align: middle;\n",
       "    }\n",
       "\n",
       "    .dataframe tbody tr th {\n",
       "        vertical-align: top;\n",
       "    }\n",
       "\n",
       "    .dataframe thead th {\n",
       "        text-align: right;\n",
       "    }\n",
       "</style>\n",
       "<table border=\"1\" class=\"dataframe\">\n",
       "  <thead>\n",
       "    <tr style=\"text-align: right;\">\n",
       "      <th></th>\n",
       "      <th>0</th>\n",
       "      <th>1</th>\n",
       "      <th>2</th>\n",
       "      <th>3</th>\n",
       "    </tr>\n",
       "  </thead>\n",
       "  <tbody>\n",
       "    <tr>\n",
       "      <th>0</th>\n",
       "      <td>0.998476</td>\n",
       "      <td>-0.908846</td>\n",
       "      <td>-1.096042</td>\n",
       "      <td>-0.500010</td>\n",
       "    </tr>\n",
       "    <tr>\n",
       "      <th>1</th>\n",
       "      <td>1.794099</td>\n",
       "      <td>0.549975</td>\n",
       "      <td>0.468057</td>\n",
       "      <td>0.588933</td>\n",
       "    </tr>\n",
       "    <tr>\n",
       "      <th>2</th>\n",
       "      <td>-0.553925</td>\n",
       "      <td>0.495150</td>\n",
       "      <td>0.733065</td>\n",
       "      <td>0.200128</td>\n",
       "    </tr>\n",
       "    <tr>\n",
       "      <th>3</th>\n",
       "      <td>-1.075808</td>\n",
       "      <td>0.579653</td>\n",
       "      <td>1.872075</td>\n",
       "      <td>1.630708</td>\n",
       "    </tr>\n",
       "    <tr>\n",
       "      <th>4</th>\n",
       "      <td>-2.525866</td>\n",
       "      <td>-0.079282</td>\n",
       "      <td>-1.797402</td>\n",
       "      <td>1.182997</td>\n",
       "    </tr>\n",
       "  </tbody>\n",
       "</table>\n",
       "</div>"
      ],
      "text/plain": [
       "          0         1         2         3\n",
       "0  0.998476 -0.908846 -1.096042 -0.500010\n",
       "1  1.794099  0.549975  0.468057  0.588933\n",
       "2 -0.553925  0.495150  0.733065  0.200128\n",
       "3 -1.075808  0.579653  1.872075  1.630708\n",
       "4 -2.525866 -0.079282 -1.797402  1.182997"
      ]
     },
     "execution_count": 113,
     "metadata": {
      "tags": []
     },
     "output_type": "execute_result"
    }
   ],
   "source": [
    "frame_one = pd.DataFrame(np.random.randn(5, 4))\n",
    "frame_one"
   ]
  },
  {
   "cell_type": "code",
   "execution_count": null,
   "metadata": {
    "colab": {
     "base_uri": "https://localhost:8080/",
     "height": 204
    },
    "colab_type": "code",
    "executionInfo": {
     "elapsed": 1949,
     "status": "ok",
     "timestamp": 1598921451262,
     "user": {
      "displayName": "Matteo Althoen",
      "photoUrl": "https://lh3.googleusercontent.com/a-/AOh14GjPSPRSvtrouBaCYKVohr_lWlKVUrcrI9ppoapoQQ=s64",
      "userId": "08073588379347548325"
     },
     "user_tz": 240
    },
    "id": "e_nh6EXrHHBa",
    "outputId": "c9f9fb7e-8edc-4aa9-9323-d41a9d16f909"
   },
   "outputs": [
    {
     "data": {
      "text/html": [
       "<div>\n",
       "<style scoped>\n",
       "    .dataframe tbody tr th:only-of-type {\n",
       "        vertical-align: middle;\n",
       "    }\n",
       "\n",
       "    .dataframe tbody tr th {\n",
       "        vertical-align: top;\n",
       "    }\n",
       "\n",
       "    .dataframe thead th {\n",
       "        text-align: right;\n",
       "    }\n",
       "</style>\n",
       "<table border=\"1\" class=\"dataframe\">\n",
       "  <thead>\n",
       "    <tr style=\"text-align: right;\">\n",
       "      <th></th>\n",
       "      <th>0</th>\n",
       "      <th>1</th>\n",
       "      <th>2</th>\n",
       "      <th>3</th>\n",
       "    </tr>\n",
       "  </thead>\n",
       "  <tbody>\n",
       "    <tr>\n",
       "      <th>0</th>\n",
       "      <td>-0.157326</td>\n",
       "      <td>1.565873</td>\n",
       "      <td>-2.449857</td>\n",
       "      <td>-0.497764</td>\n",
       "    </tr>\n",
       "    <tr>\n",
       "      <th>1</th>\n",
       "      <td>0.649710</td>\n",
       "      <td>-2.276906</td>\n",
       "      <td>0.208842</td>\n",
       "      <td>-1.239984</td>\n",
       "    </tr>\n",
       "    <tr>\n",
       "      <th>2</th>\n",
       "      <td>-0.001026</td>\n",
       "      <td>-0.012283</td>\n",
       "      <td>0.079018</td>\n",
       "      <td>-0.679580</td>\n",
       "    </tr>\n",
       "    <tr>\n",
       "      <th>3</th>\n",
       "      <td>1.518198</td>\n",
       "      <td>0.206262</td>\n",
       "      <td>1.818150</td>\n",
       "      <td>0.411334</td>\n",
       "    </tr>\n",
       "    <tr>\n",
       "      <th>4</th>\n",
       "      <td>-1.464069</td>\n",
       "      <td>-1.111499</td>\n",
       "      <td>1.084301</td>\n",
       "      <td>-1.150738</td>\n",
       "    </tr>\n",
       "  </tbody>\n",
       "</table>\n",
       "</div>"
      ],
      "text/plain": [
       "          0         1         2         3\n",
       "0 -0.157326  1.565873 -2.449857 -0.497764\n",
       "1  0.649710 -2.276906  0.208842 -1.239984\n",
       "2 -0.001026 -0.012283  0.079018 -0.679580\n",
       "3  1.518198  0.206262  1.818150  0.411334\n",
       "4 -1.464069 -1.111499  1.084301 -1.150738"
      ]
     },
     "execution_count": 114,
     "metadata": {
      "tags": []
     },
     "output_type": "execute_result"
    }
   ],
   "source": [
    "frame_two = pd.DataFrame(np.random.randn(5, 4))\n",
    "frame_two"
   ]
  },
  {
   "cell_type": "code",
   "execution_count": null,
   "metadata": {
    "colab": {
     "base_uri": "https://localhost:8080/",
     "height": 359
    },
    "colab_type": "code",
    "executionInfo": {
     "elapsed": 1937,
     "status": "ok",
     "timestamp": 1598921451262,
     "user": {
      "displayName": "Matteo Althoen",
      "photoUrl": "https://lh3.googleusercontent.com/a-/AOh14GjPSPRSvtrouBaCYKVohr_lWlKVUrcrI9ppoapoQQ=s64",
      "userId": "08073588379347548325"
     },
     "user_tz": 240
    },
    "id": "PRa25ftkHHBd",
    "outputId": "5aa90f8e-5715-45ca-ad0c-8a89a6954e9c"
   },
   "outputs": [
    {
     "data": {
      "text/html": [
       "<div>\n",
       "<style scoped>\n",
       "    .dataframe tbody tr th:only-of-type {\n",
       "        vertical-align: middle;\n",
       "    }\n",
       "\n",
       "    .dataframe tbody tr th {\n",
       "        vertical-align: top;\n",
       "    }\n",
       "\n",
       "    .dataframe thead th {\n",
       "        text-align: right;\n",
       "    }\n",
       "</style>\n",
       "<table border=\"1\" class=\"dataframe\">\n",
       "  <thead>\n",
       "    <tr style=\"text-align: right;\">\n",
       "      <th></th>\n",
       "      <th>0</th>\n",
       "      <th>1</th>\n",
       "      <th>2</th>\n",
       "      <th>3</th>\n",
       "    </tr>\n",
       "  </thead>\n",
       "  <tbody>\n",
       "    <tr>\n",
       "      <th>0</th>\n",
       "      <td>0.998476</td>\n",
       "      <td>-0.908846</td>\n",
       "      <td>-1.096042</td>\n",
       "      <td>-0.500010</td>\n",
       "    </tr>\n",
       "    <tr>\n",
       "      <th>1</th>\n",
       "      <td>1.794099</td>\n",
       "      <td>0.549975</td>\n",
       "      <td>0.468057</td>\n",
       "      <td>0.588933</td>\n",
       "    </tr>\n",
       "    <tr>\n",
       "      <th>2</th>\n",
       "      <td>-0.553925</td>\n",
       "      <td>0.495150</td>\n",
       "      <td>0.733065</td>\n",
       "      <td>0.200128</td>\n",
       "    </tr>\n",
       "    <tr>\n",
       "      <th>3</th>\n",
       "      <td>-1.075808</td>\n",
       "      <td>0.579653</td>\n",
       "      <td>1.872075</td>\n",
       "      <td>1.630708</td>\n",
       "    </tr>\n",
       "    <tr>\n",
       "      <th>4</th>\n",
       "      <td>-2.525866</td>\n",
       "      <td>-0.079282</td>\n",
       "      <td>-1.797402</td>\n",
       "      <td>1.182997</td>\n",
       "    </tr>\n",
       "    <tr>\n",
       "      <th>0</th>\n",
       "      <td>-0.157326</td>\n",
       "      <td>1.565873</td>\n",
       "      <td>-2.449857</td>\n",
       "      <td>-0.497764</td>\n",
       "    </tr>\n",
       "    <tr>\n",
       "      <th>1</th>\n",
       "      <td>0.649710</td>\n",
       "      <td>-2.276906</td>\n",
       "      <td>0.208842</td>\n",
       "      <td>-1.239984</td>\n",
       "    </tr>\n",
       "    <tr>\n",
       "      <th>2</th>\n",
       "      <td>-0.001026</td>\n",
       "      <td>-0.012283</td>\n",
       "      <td>0.079018</td>\n",
       "      <td>-0.679580</td>\n",
       "    </tr>\n",
       "    <tr>\n",
       "      <th>3</th>\n",
       "      <td>1.518198</td>\n",
       "      <td>0.206262</td>\n",
       "      <td>1.818150</td>\n",
       "      <td>0.411334</td>\n",
       "    </tr>\n",
       "    <tr>\n",
       "      <th>4</th>\n",
       "      <td>-1.464069</td>\n",
       "      <td>-1.111499</td>\n",
       "      <td>1.084301</td>\n",
       "      <td>-1.150738</td>\n",
       "    </tr>\n",
       "  </tbody>\n",
       "</table>\n",
       "</div>"
      ],
      "text/plain": [
       "          0         1         2         3\n",
       "0  0.998476 -0.908846 -1.096042 -0.500010\n",
       "1  1.794099  0.549975  0.468057  0.588933\n",
       "2 -0.553925  0.495150  0.733065  0.200128\n",
       "3 -1.075808  0.579653  1.872075  1.630708\n",
       "4 -2.525866 -0.079282 -1.797402  1.182997\n",
       "0 -0.157326  1.565873 -2.449857 -0.497764\n",
       "1  0.649710 -2.276906  0.208842 -1.239984\n",
       "2 -0.001026 -0.012283  0.079018 -0.679580\n",
       "3  1.518198  0.206262  1.818150  0.411334\n",
       "4 -1.464069 -1.111499  1.084301 -1.150738"
      ]
     },
     "execution_count": 115,
     "metadata": {
      "tags": []
     },
     "output_type": "execute_result"
    }
   ],
   "source": [
    "pd.concat([frame_one, frame_two])"
   ]
  },
  {
   "cell_type": "markdown",
   "metadata": {
    "colab_type": "text",
    "id": "87_G0AnHHHBg"
   },
   "source": [
    "<font color='red'>To-do:</font> Now concatenate along the other axis."
   ]
  },
  {
   "cell_type": "code",
   "execution_count": 135,
   "metadata": {
    "colab": {
     "base_uri": "https://localhost:8080/",
     "height": 204
    },
    "colab_type": "code",
    "executionInfo": {
     "elapsed": 298,
     "status": "ok",
     "timestamp": 1598923202589,
     "user": {
      "displayName": "Matteo Althoen",
      "photoUrl": "https://lh3.googleusercontent.com/a-/AOh14GjPSPRSvtrouBaCYKVohr_lWlKVUrcrI9ppoapoQQ=s64",
      "userId": "08073588379347548325"
     },
     "user_tz": 240
    },
    "id": "nMgQLoenHHBg",
    "outputId": "0de913ba-5ad9-437f-fd20-53fb45d88244"
   },
   "outputs": [
    {
     "data": {
      "text/html": [
       "<div>\n",
       "<style scoped>\n",
       "    .dataframe tbody tr th:only-of-type {\n",
       "        vertical-align: middle;\n",
       "    }\n",
       "\n",
       "    .dataframe tbody tr th {\n",
       "        vertical-align: top;\n",
       "    }\n",
       "\n",
       "    .dataframe thead th {\n",
       "        text-align: right;\n",
       "    }\n",
       "</style>\n",
       "<table border=\"1\" class=\"dataframe\">\n",
       "  <thead>\n",
       "    <tr style=\"text-align: right;\">\n",
       "      <th></th>\n",
       "      <th>0</th>\n",
       "      <th>1</th>\n",
       "      <th>2</th>\n",
       "      <th>3</th>\n",
       "      <th>0</th>\n",
       "      <th>1</th>\n",
       "      <th>2</th>\n",
       "      <th>3</th>\n",
       "    </tr>\n",
       "  </thead>\n",
       "  <tbody>\n",
       "    <tr>\n",
       "      <th>0</th>\n",
       "      <td>0.998476</td>\n",
       "      <td>-0.908846</td>\n",
       "      <td>-1.096042</td>\n",
       "      <td>-0.500010</td>\n",
       "      <td>-0.157326</td>\n",
       "      <td>1.565873</td>\n",
       "      <td>-2.449857</td>\n",
       "      <td>-0.497764</td>\n",
       "    </tr>\n",
       "    <tr>\n",
       "      <th>1</th>\n",
       "      <td>1.794099</td>\n",
       "      <td>0.549975</td>\n",
       "      <td>0.468057</td>\n",
       "      <td>0.588933</td>\n",
       "      <td>0.649710</td>\n",
       "      <td>-2.276906</td>\n",
       "      <td>0.208842</td>\n",
       "      <td>-1.239984</td>\n",
       "    </tr>\n",
       "    <tr>\n",
       "      <th>2</th>\n",
       "      <td>-0.553925</td>\n",
       "      <td>0.495150</td>\n",
       "      <td>0.733065</td>\n",
       "      <td>0.200128</td>\n",
       "      <td>-0.001026</td>\n",
       "      <td>-0.012283</td>\n",
       "      <td>0.079018</td>\n",
       "      <td>-0.679580</td>\n",
       "    </tr>\n",
       "    <tr>\n",
       "      <th>3</th>\n",
       "      <td>-1.075808</td>\n",
       "      <td>0.579653</td>\n",
       "      <td>1.872075</td>\n",
       "      <td>1.630708</td>\n",
       "      <td>1.518198</td>\n",
       "      <td>0.206262</td>\n",
       "      <td>1.818150</td>\n",
       "      <td>0.411334</td>\n",
       "    </tr>\n",
       "    <tr>\n",
       "      <th>4</th>\n",
       "      <td>-2.525866</td>\n",
       "      <td>-0.079282</td>\n",
       "      <td>-1.797402</td>\n",
       "      <td>1.182997</td>\n",
       "      <td>-1.464069</td>\n",
       "      <td>-1.111499</td>\n",
       "      <td>1.084301</td>\n",
       "      <td>-1.150738</td>\n",
       "    </tr>\n",
       "  </tbody>\n",
       "</table>\n",
       "</div>"
      ],
      "text/plain": [
       "          0         1         2  ...         1         2         3\n",
       "0  0.998476 -0.908846 -1.096042  ...  1.565873 -2.449857 -0.497764\n",
       "1  1.794099  0.549975  0.468057  ... -2.276906  0.208842 -1.239984\n",
       "2 -0.553925  0.495150  0.733065  ... -0.012283  0.079018 -0.679580\n",
       "3 -1.075808  0.579653  1.872075  ...  0.206262  1.818150  0.411334\n",
       "4 -2.525866 -0.079282 -1.797402  ... -1.111499  1.084301 -1.150738\n",
       "\n",
       "[5 rows x 8 columns]"
      ]
     },
     "execution_count": 135,
     "metadata": {
      "tags": []
     },
     "output_type": "execute_result"
    }
   ],
   "source": [
    "pd.concat([frame_one, frame_two], axis=1)"
   ]
  },
  {
   "cell_type": "markdown",
   "metadata": {
    "colab_type": "text",
    "id": "jqIYzwulHHBi"
   },
   "source": [
    "<font color='red'>To-do:</font> Do you see an issue here? What do you think we need to do to avoid this problem?"
   ]
  },
  {
   "cell_type": "markdown",
   "metadata": {
    "colab_type": "text",
    "id": "dUnkXHj5MPcF"
   },
   "source": [
    "Issue: The numeric row names repeat themselves, need to ignore index\n",
    "\n",
    "\n",
    "\n",
    "\n"
   ]
  },
  {
   "cell_type": "code",
   "execution_count": 136,
   "metadata": {
    "colab": {
     "base_uri": "https://localhost:8080/",
     "height": 204
    },
    "colab_type": "code",
    "executionInfo": {
     "elapsed": 329,
     "status": "ok",
     "timestamp": 1598923222566,
     "user": {
      "displayName": "Matteo Althoen",
      "photoUrl": "https://lh3.googleusercontent.com/a-/AOh14GjPSPRSvtrouBaCYKVohr_lWlKVUrcrI9ppoapoQQ=s64",
      "userId": "08073588379347548325"
     },
     "user_tz": 240
    },
    "id": "gJ2gjqWBHHBj",
    "outputId": "3fa71d40-4472-4a8e-ab1c-896f5420bae5"
   },
   "outputs": [
    {
     "data": {
      "text/html": [
       "<div>\n",
       "<style scoped>\n",
       "    .dataframe tbody tr th:only-of-type {\n",
       "        vertical-align: middle;\n",
       "    }\n",
       "\n",
       "    .dataframe tbody tr th {\n",
       "        vertical-align: top;\n",
       "    }\n",
       "\n",
       "    .dataframe thead th {\n",
       "        text-align: right;\n",
       "    }\n",
       "</style>\n",
       "<table border=\"1\" class=\"dataframe\">\n",
       "  <thead>\n",
       "    <tr style=\"text-align: right;\">\n",
       "      <th></th>\n",
       "      <th>0</th>\n",
       "      <th>1</th>\n",
       "      <th>2</th>\n",
       "      <th>3</th>\n",
       "      <th>4</th>\n",
       "      <th>5</th>\n",
       "      <th>6</th>\n",
       "      <th>7</th>\n",
       "    </tr>\n",
       "  </thead>\n",
       "  <tbody>\n",
       "    <tr>\n",
       "      <th>0</th>\n",
       "      <td>0.998476</td>\n",
       "      <td>-0.908846</td>\n",
       "      <td>-1.096042</td>\n",
       "      <td>-0.500010</td>\n",
       "      <td>-0.157326</td>\n",
       "      <td>1.565873</td>\n",
       "      <td>-2.449857</td>\n",
       "      <td>-0.497764</td>\n",
       "    </tr>\n",
       "    <tr>\n",
       "      <th>1</th>\n",
       "      <td>1.794099</td>\n",
       "      <td>0.549975</td>\n",
       "      <td>0.468057</td>\n",
       "      <td>0.588933</td>\n",
       "      <td>0.649710</td>\n",
       "      <td>-2.276906</td>\n",
       "      <td>0.208842</td>\n",
       "      <td>-1.239984</td>\n",
       "    </tr>\n",
       "    <tr>\n",
       "      <th>2</th>\n",
       "      <td>-0.553925</td>\n",
       "      <td>0.495150</td>\n",
       "      <td>0.733065</td>\n",
       "      <td>0.200128</td>\n",
       "      <td>-0.001026</td>\n",
       "      <td>-0.012283</td>\n",
       "      <td>0.079018</td>\n",
       "      <td>-0.679580</td>\n",
       "    </tr>\n",
       "    <tr>\n",
       "      <th>3</th>\n",
       "      <td>-1.075808</td>\n",
       "      <td>0.579653</td>\n",
       "      <td>1.872075</td>\n",
       "      <td>1.630708</td>\n",
       "      <td>1.518198</td>\n",
       "      <td>0.206262</td>\n",
       "      <td>1.818150</td>\n",
       "      <td>0.411334</td>\n",
       "    </tr>\n",
       "    <tr>\n",
       "      <th>4</th>\n",
       "      <td>-2.525866</td>\n",
       "      <td>-0.079282</td>\n",
       "      <td>-1.797402</td>\n",
       "      <td>1.182997</td>\n",
       "      <td>-1.464069</td>\n",
       "      <td>-1.111499</td>\n",
       "      <td>1.084301</td>\n",
       "      <td>-1.150738</td>\n",
       "    </tr>\n",
       "  </tbody>\n",
       "</table>\n",
       "</div>"
      ],
      "text/plain": [
       "          0         1         2  ...         5         6         7\n",
       "0  0.998476 -0.908846 -1.096042  ...  1.565873 -2.449857 -0.497764\n",
       "1  1.794099  0.549975  0.468057  ... -2.276906  0.208842 -1.239984\n",
       "2 -0.553925  0.495150  0.733065  ... -0.012283  0.079018 -0.679580\n",
       "3 -1.075808  0.579653  1.872075  ...  0.206262  1.818150  0.411334\n",
       "4 -2.525866 -0.079282 -1.797402  ... -1.111499  1.084301 -1.150738\n",
       "\n",
       "[5 rows x 8 columns]"
      ]
     },
     "execution_count": 136,
     "metadata": {
      "tags": []
     },
     "output_type": "execute_result"
    }
   ],
   "source": [
    "pd.concat([frame_one, frame_two], axis=1, ignore_index=True)"
   ]
  },
  {
   "cell_type": "markdown",
   "metadata": {
    "colab_type": "text",
    "id": "xyYl5_QPHHBk"
   },
   "source": [
    "You can also perform SQL-like merge operations"
   ]
  },
  {
   "cell_type": "code",
   "execution_count": null,
   "metadata": {
    "colab": {
     "base_uri": "https://localhost:8080/",
     "height": 111
    },
    "colab_type": "code",
    "executionInfo": {
     "elapsed": 1923,
     "status": "ok",
     "timestamp": 1598921451264,
     "user": {
      "displayName": "Matteo Althoen",
      "photoUrl": "https://lh3.googleusercontent.com/a-/AOh14GjPSPRSvtrouBaCYKVohr_lWlKVUrcrI9ppoapoQQ=s64",
      "userId": "08073588379347548325"
     },
     "user_tz": 240
    },
    "id": "f36cuxibHHBl",
    "outputId": "329b507b-3138-4492-ebde-7bf168268931"
   },
   "outputs": [
    {
     "data": {
      "text/html": [
       "<div>\n",
       "<style scoped>\n",
       "    .dataframe tbody tr th:only-of-type {\n",
       "        vertical-align: middle;\n",
       "    }\n",
       "\n",
       "    .dataframe tbody tr th {\n",
       "        vertical-align: top;\n",
       "    }\n",
       "\n",
       "    .dataframe thead th {\n",
       "        text-align: right;\n",
       "    }\n",
       "</style>\n",
       "<table border=\"1\" class=\"dataframe\">\n",
       "  <thead>\n",
       "    <tr style=\"text-align: right;\">\n",
       "      <th></th>\n",
       "      <th>key</th>\n",
       "      <th>lval</th>\n",
       "    </tr>\n",
       "  </thead>\n",
       "  <tbody>\n",
       "    <tr>\n",
       "      <th>0</th>\n",
       "      <td>foo</td>\n",
       "      <td>1</td>\n",
       "    </tr>\n",
       "    <tr>\n",
       "      <th>1</th>\n",
       "      <td>bar</td>\n",
       "      <td>2</td>\n",
       "    </tr>\n",
       "  </tbody>\n",
       "</table>\n",
       "</div>"
      ],
      "text/plain": [
       "   key  lval\n",
       "0  foo     1\n",
       "1  bar     2"
      ]
     },
     "execution_count": 116,
     "metadata": {
      "tags": []
     },
     "output_type": "execute_result"
    }
   ],
   "source": [
    "left = pd.DataFrame({'key': ['foo', 'bar'], 'lval': [1, 2]})\n",
    "left"
   ]
  },
  {
   "cell_type": "code",
   "execution_count": null,
   "metadata": {
    "colab": {
     "base_uri": "https://localhost:8080/",
     "height": 142
    },
    "colab_type": "code",
    "executionInfo": {
     "elapsed": 1907,
     "status": "ok",
     "timestamp": 1598921451264,
     "user": {
      "displayName": "Matteo Althoen",
      "photoUrl": "https://lh3.googleusercontent.com/a-/AOh14GjPSPRSvtrouBaCYKVohr_lWlKVUrcrI9ppoapoQQ=s64",
      "userId": "08073588379347548325"
     },
     "user_tz": 240
    },
    "id": "yngHF153HHBn",
    "outputId": "9e3adefc-01d2-430d-b57a-d38e933ee22a"
   },
   "outputs": [
    {
     "data": {
      "text/html": [
       "<div>\n",
       "<style scoped>\n",
       "    .dataframe tbody tr th:only-of-type {\n",
       "        vertical-align: middle;\n",
       "    }\n",
       "\n",
       "    .dataframe tbody tr th {\n",
       "        vertical-align: top;\n",
       "    }\n",
       "\n",
       "    .dataframe thead th {\n",
       "        text-align: right;\n",
       "    }\n",
       "</style>\n",
       "<table border=\"1\" class=\"dataframe\">\n",
       "  <thead>\n",
       "    <tr style=\"text-align: right;\">\n",
       "      <th></th>\n",
       "      <th>key</th>\n",
       "      <th>rval</th>\n",
       "    </tr>\n",
       "  </thead>\n",
       "  <tbody>\n",
       "    <tr>\n",
       "      <th>0</th>\n",
       "      <td>foo</td>\n",
       "      <td>3</td>\n",
       "    </tr>\n",
       "    <tr>\n",
       "      <th>1</th>\n",
       "      <td>foo</td>\n",
       "      <td>4</td>\n",
       "    </tr>\n",
       "    <tr>\n",
       "      <th>2</th>\n",
       "      <td>bar</td>\n",
       "      <td>5</td>\n",
       "    </tr>\n",
       "  </tbody>\n",
       "</table>\n",
       "</div>"
      ],
      "text/plain": [
       "   key  rval\n",
       "0  foo     3\n",
       "1  foo     4\n",
       "2  bar     5"
      ]
     },
     "execution_count": 117,
     "metadata": {
      "tags": []
     },
     "output_type": "execute_result"
    }
   ],
   "source": [
    "right = pd.DataFrame({'key': ['foo', 'foo', 'bar'], 'rval': [3, 4, 5]}) \n",
    "right"
   ]
  },
  {
   "cell_type": "code",
   "execution_count": null,
   "metadata": {
    "colab": {
     "base_uri": "https://localhost:8080/",
     "height": 142
    },
    "colab_type": "code",
    "executionInfo": {
     "elapsed": 1895,
     "status": "ok",
     "timestamp": 1598921451265,
     "user": {
      "displayName": "Matteo Althoen",
      "photoUrl": "https://lh3.googleusercontent.com/a-/AOh14GjPSPRSvtrouBaCYKVohr_lWlKVUrcrI9ppoapoQQ=s64",
      "userId": "08073588379347548325"
     },
     "user_tz": 240
    },
    "id": "_uz8e877HHBo",
    "outputId": "ae5763c1-c0d9-4ff5-9326-8a9490403388"
   },
   "outputs": [
    {
     "data": {
      "text/html": [
       "<div>\n",
       "<style scoped>\n",
       "    .dataframe tbody tr th:only-of-type {\n",
       "        vertical-align: middle;\n",
       "    }\n",
       "\n",
       "    .dataframe tbody tr th {\n",
       "        vertical-align: top;\n",
       "    }\n",
       "\n",
       "    .dataframe thead th {\n",
       "        text-align: right;\n",
       "    }\n",
       "</style>\n",
       "<table border=\"1\" class=\"dataframe\">\n",
       "  <thead>\n",
       "    <tr style=\"text-align: right;\">\n",
       "      <th></th>\n",
       "      <th>key</th>\n",
       "      <th>lval</th>\n",
       "      <th>rval</th>\n",
       "    </tr>\n",
       "  </thead>\n",
       "  <tbody>\n",
       "    <tr>\n",
       "      <th>0</th>\n",
       "      <td>foo</td>\n",
       "      <td>1</td>\n",
       "      <td>3</td>\n",
       "    </tr>\n",
       "    <tr>\n",
       "      <th>1</th>\n",
       "      <td>foo</td>\n",
       "      <td>1</td>\n",
       "      <td>4</td>\n",
       "    </tr>\n",
       "    <tr>\n",
       "      <th>2</th>\n",
       "      <td>bar</td>\n",
       "      <td>2</td>\n",
       "      <td>5</td>\n",
       "    </tr>\n",
       "  </tbody>\n",
       "</table>\n",
       "</div>"
      ],
      "text/plain": [
       "   key  lval  rval\n",
       "0  foo     1     3\n",
       "1  foo     1     4\n",
       "2  bar     2     5"
      ]
     },
     "execution_count": 118,
     "metadata": {
      "tags": []
     },
     "output_type": "execute_result"
    }
   ],
   "source": [
    "pd.merge(left, right, on='key')"
   ]
  },
  {
   "cell_type": "markdown",
   "metadata": {
    "colab_type": "text",
    "id": "UnWyHv8MHHBq"
   },
   "source": [
    "### Grouping\n",
    "Sometimes you will want to group and summarize a DataFrame for a more efficient computation. This is one of the strengths of pandas and DataFrames."
   ]
  },
  {
   "cell_type": "code",
   "execution_count": null,
   "metadata": {
    "colab": {
     "base_uri": "https://localhost:8080/",
     "height": 297
    },
    "colab_type": "code",
    "executionInfo": {
     "elapsed": 1884,
     "status": "ok",
     "timestamp": 1598921451266,
     "user": {
      "displayName": "Matteo Althoen",
      "photoUrl": "https://lh3.googleusercontent.com/a-/AOh14GjPSPRSvtrouBaCYKVohr_lWlKVUrcrI9ppoapoQQ=s64",
      "userId": "08073588379347548325"
     },
     "user_tz": 240
    },
    "id": "yNQvjylqHHBr",
    "outputId": "5595bb52-1a05-4096-a2f4-ca62d34ec531"
   },
   "outputs": [
    {
     "data": {
      "text/html": [
       "<div>\n",
       "<style scoped>\n",
       "    .dataframe tbody tr th:only-of-type {\n",
       "        vertical-align: middle;\n",
       "    }\n",
       "\n",
       "    .dataframe tbody tr th {\n",
       "        vertical-align: top;\n",
       "    }\n",
       "\n",
       "    .dataframe thead th {\n",
       "        text-align: right;\n",
       "    }\n",
       "</style>\n",
       "<table border=\"1\" class=\"dataframe\">\n",
       "  <thead>\n",
       "    <tr style=\"text-align: right;\">\n",
       "      <th></th>\n",
       "      <th>A</th>\n",
       "      <th>B</th>\n",
       "      <th>C</th>\n",
       "      <th>D</th>\n",
       "    </tr>\n",
       "  </thead>\n",
       "  <tbody>\n",
       "    <tr>\n",
       "      <th>0</th>\n",
       "      <td>foo</td>\n",
       "      <td>one</td>\n",
       "      <td>1.129071</td>\n",
       "      <td>-0.008190</td>\n",
       "    </tr>\n",
       "    <tr>\n",
       "      <th>1</th>\n",
       "      <td>bar</td>\n",
       "      <td>one</td>\n",
       "      <td>0.945881</td>\n",
       "      <td>-0.492358</td>\n",
       "    </tr>\n",
       "    <tr>\n",
       "      <th>2</th>\n",
       "      <td>foo</td>\n",
       "      <td>two</td>\n",
       "      <td>-0.570459</td>\n",
       "      <td>0.504724</td>\n",
       "    </tr>\n",
       "    <tr>\n",
       "      <th>3</th>\n",
       "      <td>bar</td>\n",
       "      <td>three</td>\n",
       "      <td>-0.691665</td>\n",
       "      <td>-0.543786</td>\n",
       "    </tr>\n",
       "    <tr>\n",
       "      <th>4</th>\n",
       "      <td>foo</td>\n",
       "      <td>two</td>\n",
       "      <td>-0.307166</td>\n",
       "      <td>0.691543</td>\n",
       "    </tr>\n",
       "    <tr>\n",
       "      <th>5</th>\n",
       "      <td>bar</td>\n",
       "      <td>two</td>\n",
       "      <td>1.494821</td>\n",
       "      <td>-1.891736</td>\n",
       "    </tr>\n",
       "    <tr>\n",
       "      <th>6</th>\n",
       "      <td>foo</td>\n",
       "      <td>one</td>\n",
       "      <td>-1.132897</td>\n",
       "      <td>0.239728</td>\n",
       "    </tr>\n",
       "    <tr>\n",
       "      <th>7</th>\n",
       "      <td>foo</td>\n",
       "      <td>three</td>\n",
       "      <td>2.097200</td>\n",
       "      <td>-1.513888</td>\n",
       "    </tr>\n",
       "  </tbody>\n",
       "</table>\n",
       "</div>"
      ],
      "text/plain": [
       "     A      B         C         D\n",
       "0  foo    one  1.129071 -0.008190\n",
       "1  bar    one  0.945881 -0.492358\n",
       "2  foo    two -0.570459  0.504724\n",
       "3  bar  three -0.691665 -0.543786\n",
       "4  foo    two -0.307166  0.691543\n",
       "5  bar    two  1.494821 -1.891736\n",
       "6  foo    one -1.132897  0.239728\n",
       "7  foo  three  2.097200 -1.513888"
      ]
     },
     "execution_count": 119,
     "metadata": {
      "tags": []
     },
     "output_type": "execute_result"
    }
   ],
   "source": [
    "foo_bar = pd.DataFrame({'A' : ['foo', 'bar', 'foo', 'bar','foo', 'bar', 'foo', 'foo'],\n",
    "                                   'B' : ['one', 'one', 'two', 'three', 'two', 'two', 'one', 'three'],\n",
    "                                   'C' : np.random.randn(8),\n",
    "                                   'D' : np.random.randn(8)})\n",
    "foo_bar"
   ]
  },
  {
   "cell_type": "code",
   "execution_count": 138,
   "metadata": {
    "colab": {
     "base_uri": "https://localhost:8080/",
     "height": 142
    },
    "colab_type": "code",
    "executionInfo": {
     "elapsed": 279,
     "status": "ok",
     "timestamp": 1598923770692,
     "user": {
      "displayName": "Matteo Althoen",
      "photoUrl": "https://lh3.googleusercontent.com/a-/AOh14GjPSPRSvtrouBaCYKVohr_lWlKVUrcrI9ppoapoQQ=s64",
      "userId": "08073588379347548325"
     },
     "user_tz": 240
    },
    "id": "7TAP_WjBHHBt",
    "outputId": "0255ae15-0b84-4e26-f4fc-fbd4f322c47c"
   },
   "outputs": [
    {
     "data": {
      "text/html": [
       "<div>\n",
       "<style scoped>\n",
       "    .dataframe tbody tr th:only-of-type {\n",
       "        vertical-align: middle;\n",
       "    }\n",
       "\n",
       "    .dataframe tbody tr th {\n",
       "        vertical-align: top;\n",
       "    }\n",
       "\n",
       "    .dataframe thead th {\n",
       "        text-align: right;\n",
       "    }\n",
       "</style>\n",
       "<table border=\"1\" class=\"dataframe\">\n",
       "  <thead>\n",
       "    <tr style=\"text-align: right;\">\n",
       "      <th></th>\n",
       "      <th>C</th>\n",
       "      <th>D</th>\n",
       "    </tr>\n",
       "    <tr>\n",
       "      <th>A</th>\n",
       "      <th></th>\n",
       "      <th></th>\n",
       "    </tr>\n",
       "  </thead>\n",
       "  <tbody>\n",
       "    <tr>\n",
       "      <th>bar</th>\n",
       "      <td>1.749037</td>\n",
       "      <td>-2.927880</td>\n",
       "    </tr>\n",
       "    <tr>\n",
       "      <th>foo</th>\n",
       "      <td>1.215750</td>\n",
       "      <td>-0.086083</td>\n",
       "    </tr>\n",
       "  </tbody>\n",
       "</table>\n",
       "</div>"
      ],
      "text/plain": [
       "            C         D\n",
       "A                      \n",
       "bar  1.749037 -2.927880\n",
       "foo  1.215750 -0.086083"
      ]
     },
     "execution_count": 138,
     "metadata": {
      "tags": []
     },
     "output_type": "execute_result"
    }
   ],
   "source": [
    "grouped = foo_bar.groupby('A').sum()\n",
    "grouped"
   ]
  },
  {
   "cell_type": "markdown",
   "metadata": {
    "colab_type": "text",
    "id": "XdVjCstAHHBx"
   },
   "source": [
    "<font color='red'>To-do:</font> What happened to column B? Because sum oepration cannot be applied to datatype string, the column was dropped here. Now use both columns to perform the operation for each possible A, B pair. Assin this to \"grouped\" and display it."
   ]
  },
  {
   "cell_type": "code",
   "execution_count": 141,
   "metadata": {
    "colab": {
     "base_uri": "https://localhost:8080/",
     "height": 266
    },
    "colab_type": "code",
    "executionInfo": {
     "elapsed": 274,
     "status": "ok",
     "timestamp": 1598924187710,
     "user": {
      "displayName": "Matteo Althoen",
      "photoUrl": "https://lh3.googleusercontent.com/a-/AOh14GjPSPRSvtrouBaCYKVohr_lWlKVUrcrI9ppoapoQQ=s64",
      "userId": "08073588379347548325"
     },
     "user_tz": 240
    },
    "id": "3TGPfdBfHHBx",
    "outputId": "4cf69a44-50a3-4cb7-8bfa-f0e3e3a2592e"
   },
   "outputs": [
    {
     "data": {
      "text/html": [
       "<div>\n",
       "<style scoped>\n",
       "    .dataframe tbody tr th:only-of-type {\n",
       "        vertical-align: middle;\n",
       "    }\n",
       "\n",
       "    .dataframe tbody tr th {\n",
       "        vertical-align: top;\n",
       "    }\n",
       "\n",
       "    .dataframe thead th {\n",
       "        text-align: right;\n",
       "    }\n",
       "</style>\n",
       "<table border=\"1\" class=\"dataframe\">\n",
       "  <thead>\n",
       "    <tr style=\"text-align: right;\">\n",
       "      <th></th>\n",
       "      <th></th>\n",
       "      <th>C</th>\n",
       "      <th>D</th>\n",
       "    </tr>\n",
       "    <tr>\n",
       "      <th>A</th>\n",
       "      <th>B</th>\n",
       "      <th></th>\n",
       "      <th></th>\n",
       "    </tr>\n",
       "  </thead>\n",
       "  <tbody>\n",
       "    <tr>\n",
       "      <th rowspan=\"3\" valign=\"top\">bar</th>\n",
       "      <th>one</th>\n",
       "      <td>0.945881</td>\n",
       "      <td>-0.492358</td>\n",
       "    </tr>\n",
       "    <tr>\n",
       "      <th>three</th>\n",
       "      <td>-0.691665</td>\n",
       "      <td>-0.543786</td>\n",
       "    </tr>\n",
       "    <tr>\n",
       "      <th>two</th>\n",
       "      <td>1.494821</td>\n",
       "      <td>-1.891736</td>\n",
       "    </tr>\n",
       "    <tr>\n",
       "      <th rowspan=\"3\" valign=\"top\">foo</th>\n",
       "      <th>one</th>\n",
       "      <td>-0.003826</td>\n",
       "      <td>0.231538</td>\n",
       "    </tr>\n",
       "    <tr>\n",
       "      <th>three</th>\n",
       "      <td>2.097200</td>\n",
       "      <td>-1.513888</td>\n",
       "    </tr>\n",
       "    <tr>\n",
       "      <th>two</th>\n",
       "      <td>-0.877625</td>\n",
       "      <td>1.196267</td>\n",
       "    </tr>\n",
       "  </tbody>\n",
       "</table>\n",
       "</div>"
      ],
      "text/plain": [
       "                  C         D\n",
       "A   B                        \n",
       "bar one    0.945881 -0.492358\n",
       "    three -0.691665 -0.543786\n",
       "    two    1.494821 -1.891736\n",
       "foo one   -0.003826  0.231538\n",
       "    three  2.097200 -1.513888\n",
       "    two   -0.877625  1.196267"
      ]
     },
     "execution_count": 141,
     "metadata": {
      "tags": []
     },
     "output_type": "execute_result"
    }
   ],
   "source": [
    "grouped = foo_bar.groupby(['A','B']).sum()\n",
    "grouped"
   ]
  },
  {
   "cell_type": "markdown",
   "metadata": {
    "colab_type": "text",
    "id": "UjXcI_dsHHBz"
   },
   "source": [
    "The .stack() function can be used to compress a level in the DataFrame’s columns:"
   ]
  },
  {
   "cell_type": "code",
   "execution_count": null,
   "metadata": {
    "colab": {
     "base_uri": "https://localhost:8080/",
     "height": 119
    },
    "colab_type": "code",
    "executionInfo": {
     "elapsed": 2141,
     "status": "ok",
     "timestamp": 1598921451541,
     "user": {
      "displayName": "Matteo Althoen",
      "photoUrl": "https://lh3.googleusercontent.com/a-/AOh14GjPSPRSvtrouBaCYKVohr_lWlKVUrcrI9ppoapoQQ=s64",
      "userId": "08073588379347548325"
     },
     "user_tz": 240
    },
    "id": "XIxqhS8xHHBz",
    "outputId": "d450ff94-9bb8-42e4-8cf4-9b84f949d1d1"
   },
   "outputs": [
    {
     "data": {
      "text/plain": [
       "A     \n",
       "bar  C    1.749037\n",
       "     D   -2.927880\n",
       "foo  C    1.215750\n",
       "     D   -0.086083\n",
       "dtype: float64"
      ]
     },
     "execution_count": 121,
     "metadata": {
      "tags": []
     },
     "output_type": "execute_result"
    }
   ],
   "source": [
    "stacked = grouped.stack()\n",
    "stacked"
   ]
  },
  {
   "cell_type": "code",
   "execution_count": null,
   "metadata": {
    "colab": {
     "base_uri": "https://localhost:8080/",
     "height": 142
    },
    "colab_type": "code",
    "executionInfo": {
     "elapsed": 2128,
     "status": "ok",
     "timestamp": 1598921451542,
     "user": {
      "displayName": "Matteo Althoen",
      "photoUrl": "https://lh3.googleusercontent.com/a-/AOh14GjPSPRSvtrouBaCYKVohr_lWlKVUrcrI9ppoapoQQ=s64",
      "userId": "08073588379347548325"
     },
     "user_tz": 240
    },
    "id": "myz4X-wMHHB3",
    "outputId": "4f199c4f-c055-4673-af13-55ef313a5eb9"
   },
   "outputs": [
    {
     "data": {
      "text/html": [
       "<div>\n",
       "<style scoped>\n",
       "    .dataframe tbody tr th:only-of-type {\n",
       "        vertical-align: middle;\n",
       "    }\n",
       "\n",
       "    .dataframe tbody tr th {\n",
       "        vertical-align: top;\n",
       "    }\n",
       "\n",
       "    .dataframe thead th {\n",
       "        text-align: right;\n",
       "    }\n",
       "</style>\n",
       "<table border=\"1\" class=\"dataframe\">\n",
       "  <thead>\n",
       "    <tr style=\"text-align: right;\">\n",
       "      <th></th>\n",
       "      <th>C</th>\n",
       "      <th>D</th>\n",
       "    </tr>\n",
       "    <tr>\n",
       "      <th>A</th>\n",
       "      <th></th>\n",
       "      <th></th>\n",
       "    </tr>\n",
       "  </thead>\n",
       "  <tbody>\n",
       "    <tr>\n",
       "      <th>bar</th>\n",
       "      <td>1.749037</td>\n",
       "      <td>-2.927880</td>\n",
       "    </tr>\n",
       "    <tr>\n",
       "      <th>foo</th>\n",
       "      <td>1.215750</td>\n",
       "      <td>-0.086083</td>\n",
       "    </tr>\n",
       "  </tbody>\n",
       "</table>\n",
       "</div>"
      ],
      "text/plain": [
       "            C         D\n",
       "A                      \n",
       "bar  1.749037 -2.927880\n",
       "foo  1.215750 -0.086083"
      ]
     },
     "execution_count": 122,
     "metadata": {
      "tags": []
     },
     "output_type": "execute_result"
    }
   ],
   "source": [
    "stacked.unstack()"
   ]
  },
  {
   "cell_type": "markdown",
   "metadata": {
    "colab_type": "text",
    "id": "TvydXdleHHB4"
   },
   "source": [
    "## Reading from/Writing to files\n",
    "You can write a dataframe to file as follows:"
   ]
  },
  {
   "cell_type": "code",
   "execution_count": 142,
   "metadata": {
    "colab": {},
    "colab_type": "code",
    "executionInfo": {
     "elapsed": 317,
     "status": "ok",
     "timestamp": 1598924279842,
     "user": {
      "displayName": "Matteo Althoen",
      "photoUrl": "https://lh3.googleusercontent.com/a-/AOh14GjPSPRSvtrouBaCYKVohr_lWlKVUrcrI9ppoapoQQ=s64",
      "userId": "08073588379347548325"
     },
     "user_tz": 240
    },
    "id": "bBsM5pvGHHB4"
   },
   "outputs": [],
   "source": [
    "grouped.to_csv('grouped.csv')"
   ]
  },
  {
   "cell_type": "markdown",
   "metadata": {
    "colab_type": "text",
    "id": "Tl5FKshRHHB6"
   },
   "source": [
    "<font color='red'>To-do:</font> Now write this same DataFrame to a JSON file."
   ]
  },
  {
   "cell_type": "code",
   "execution_count": null,
   "metadata": {
    "colab": {},
    "colab_type": "code",
    "id": "wqt4Fps7HHB6"
   },
   "outputs": [],
   "source": [
    "grouped.to_json('grouped.json')"
   ]
  },
  {
   "cell_type": "markdown",
   "metadata": {
    "colab_type": "text",
    "id": "E9x210mrHHB8"
   },
   "source": [
    "And you can read as follows:"
   ]
  },
  {
   "cell_type": "code",
   "execution_count": 144,
   "metadata": {
    "colab": {},
    "colab_type": "code",
    "executionInfo": {
     "elapsed": 258,
     "status": "ok",
     "timestamp": 1598924337074,
     "user": {
      "displayName": "Matteo Althoen",
      "photoUrl": "https://lh3.googleusercontent.com/a-/AOh14GjPSPRSvtrouBaCYKVohr_lWlKVUrcrI9ppoapoQQ=s64",
      "userId": "08073588379347548325"
     },
     "user_tz": 240
    },
    "id": "KAaO3uM5HHB8"
   },
   "outputs": [],
   "source": [
    "new_frame = pd.read_csv('grouped.csv')\n"
   ]
  },
  {
   "cell_type": "code",
   "execution_count": null,
   "metadata": {
    "colab": {
     "base_uri": "https://localhost:8080/",
     "height": 111
    },
    "colab_type": "code",
    "executionInfo": {
     "elapsed": 2412,
     "status": "ok",
     "timestamp": 1598921451844,
     "user": {
      "displayName": "Matteo Althoen",
      "photoUrl": "https://lh3.googleusercontent.com/a-/AOh14GjPSPRSvtrouBaCYKVohr_lWlKVUrcrI9ppoapoQQ=s64",
      "userId": "08073588379347548325"
     },
     "user_tz": 240
    },
    "id": "nHCA7EIkHHB9",
    "outputId": "ce987108-bcd2-4031-f5b3-a1399afc9dfb"
   },
   "outputs": [
    {
     "data": {
      "text/html": [
       "<div>\n",
       "<style scoped>\n",
       "    .dataframe tbody tr th:only-of-type {\n",
       "        vertical-align: middle;\n",
       "    }\n",
       "\n",
       "    .dataframe tbody tr th {\n",
       "        vertical-align: top;\n",
       "    }\n",
       "\n",
       "    .dataframe thead th {\n",
       "        text-align: right;\n",
       "    }\n",
       "</style>\n",
       "<table border=\"1\" class=\"dataframe\">\n",
       "  <thead>\n",
       "    <tr style=\"text-align: right;\">\n",
       "      <th></th>\n",
       "      <th>A</th>\n",
       "      <th>C</th>\n",
       "      <th>D</th>\n",
       "    </tr>\n",
       "  </thead>\n",
       "  <tbody>\n",
       "    <tr>\n",
       "      <th>0</th>\n",
       "      <td>bar</td>\n",
       "      <td>1.749037</td>\n",
       "      <td>-2.927880</td>\n",
       "    </tr>\n",
       "    <tr>\n",
       "      <th>1</th>\n",
       "      <td>foo</td>\n",
       "      <td>1.215750</td>\n",
       "      <td>-0.086083</td>\n",
       "    </tr>\n",
       "  </tbody>\n",
       "</table>\n",
       "</div>"
      ],
      "text/plain": [
       "     A         C         D\n",
       "0  bar  1.749037 -2.927880\n",
       "1  foo  1.215750 -0.086083"
      ]
     },
     "execution_count": 126,
     "metadata": {
      "tags": []
     },
     "output_type": "execute_result"
    }
   ],
   "source": [
    "new_frame.head()"
   ]
  },
  {
   "cell_type": "markdown",
   "metadata": {
    "colab_type": "text",
    "id": "6NIZjgmDHHB-"
   },
   "source": [
    "Let's now work with a relatively more complex and bigger file"
   ]
  },
  {
   "cell_type": "code",
   "execution_count": null,
   "metadata": {
    "colab": {
     "base_uri": "https://localhost:8080/",
     "height": 419
    },
    "colab_type": "code",
    "executionInfo": {
     "elapsed": 2399,
     "status": "ok",
     "timestamp": 1598921451845,
     "user": {
      "displayName": "Matteo Althoen",
      "photoUrl": "https://lh3.googleusercontent.com/a-/AOh14GjPSPRSvtrouBaCYKVohr_lWlKVUrcrI9ppoapoQQ=s64",
      "userId": "08073588379347548325"
     },
     "user_tz": 240
    },
    "id": "vSDS4cq9HHB_",
    "outputId": "05ce574a-4b3d-42b2-b9ae-ea9ef2cd3f8c"
   },
   "outputs": [
    {
     "data": {
      "text/html": [
       "<div>\n",
       "<style scoped>\n",
       "    .dataframe tbody tr th:only-of-type {\n",
       "        vertical-align: middle;\n",
       "    }\n",
       "\n",
       "    .dataframe tbody tr th {\n",
       "        vertical-align: top;\n",
       "    }\n",
       "\n",
       "    .dataframe thead th {\n",
       "        text-align: right;\n",
       "    }\n",
       "</style>\n",
       "<table border=\"1\" class=\"dataframe\">\n",
       "  <thead>\n",
       "    <tr style=\"text-align: right;\">\n",
       "      <th></th>\n",
       "      <th>id</th>\n",
       "      <th>publisher</th>\n",
       "      <th>name</th>\n",
       "      <th>Identity</th>\n",
       "      <th>align</th>\n",
       "      <th>eye</th>\n",
       "      <th>hair</th>\n",
       "      <th>sex</th>\n",
       "      <th>alive</th>\n",
       "      <th>appearances</th>\n",
       "      <th>first_appearance</th>\n",
       "      <th>month</th>\n",
       "      <th>year</th>\n",
       "      <th>date</th>\n",
       "    </tr>\n",
       "  </thead>\n",
       "  <tbody>\n",
       "    <tr>\n",
       "      <th>0</th>\n",
       "      <td>1</td>\n",
       "      <td>Marvel</td>\n",
       "      <td>Spider-Man (Peter Parker)</td>\n",
       "      <td>Secret Identity</td>\n",
       "      <td>Good Characters</td>\n",
       "      <td>Hazel Eyes</td>\n",
       "      <td>Brown Hair</td>\n",
       "      <td>Male Characters</td>\n",
       "      <td>Living Characters</td>\n",
       "      <td>4043.0</td>\n",
       "      <td>1962, August</td>\n",
       "      <td>August</td>\n",
       "      <td>1962.0</td>\n",
       "      <td>8/1/1962</td>\n",
       "    </tr>\n",
       "    <tr>\n",
       "      <th>1</th>\n",
       "      <td>2</td>\n",
       "      <td>Marvel</td>\n",
       "      <td>Captain America (Steven Rogers)</td>\n",
       "      <td>Public Identity</td>\n",
       "      <td>Good Characters</td>\n",
       "      <td>Blue Eyes</td>\n",
       "      <td>White Hair</td>\n",
       "      <td>Male Characters</td>\n",
       "      <td>Living Characters</td>\n",
       "      <td>3360.0</td>\n",
       "      <td>1941, March</td>\n",
       "      <td>March</td>\n",
       "      <td>1941.0</td>\n",
       "      <td>3/1/1941</td>\n",
       "    </tr>\n",
       "    <tr>\n",
       "      <th>2</th>\n",
       "      <td>3</td>\n",
       "      <td>Marvel</td>\n",
       "      <td>Wolverine (James \\\"Logan\\\" Howlett)</td>\n",
       "      <td>Public Identity</td>\n",
       "      <td>Neutral Characters</td>\n",
       "      <td>Blue Eyes</td>\n",
       "      <td>Black Hair</td>\n",
       "      <td>Male Characters</td>\n",
       "      <td>Living Characters</td>\n",
       "      <td>3061.0</td>\n",
       "      <td>1974, October</td>\n",
       "      <td>October</td>\n",
       "      <td>1974.0</td>\n",
       "      <td>10/1/1974</td>\n",
       "    </tr>\n",
       "    <tr>\n",
       "      <th>3</th>\n",
       "      <td>4</td>\n",
       "      <td>Marvel</td>\n",
       "      <td>Iron Man (Anthony \\\"Tony\\\" Stark)</td>\n",
       "      <td>Public Identity</td>\n",
       "      <td>Good Characters</td>\n",
       "      <td>Blue Eyes</td>\n",
       "      <td>Black Hair</td>\n",
       "      <td>Male Characters</td>\n",
       "      <td>Living Characters</td>\n",
       "      <td>2961.0</td>\n",
       "      <td>1963, March</td>\n",
       "      <td>March</td>\n",
       "      <td>1963.0</td>\n",
       "      <td>3/1/1963</td>\n",
       "    </tr>\n",
       "    <tr>\n",
       "      <th>4</th>\n",
       "      <td>5</td>\n",
       "      <td>Marvel</td>\n",
       "      <td>Thor (Thor Odinson)</td>\n",
       "      <td>No Dual Identity</td>\n",
       "      <td>Good Characters</td>\n",
       "      <td>Blue Eyes</td>\n",
       "      <td>Blond Hair</td>\n",
       "      <td>Male Characters</td>\n",
       "      <td>Living Characters</td>\n",
       "      <td>2258.0</td>\n",
       "      <td>1950, November</td>\n",
       "      <td>November</td>\n",
       "      <td>1950.0</td>\n",
       "      <td>11/1/1950</td>\n",
       "    </tr>\n",
       "    <tr>\n",
       "      <th>...</th>\n",
       "      <td>...</td>\n",
       "      <td>...</td>\n",
       "      <td>...</td>\n",
       "      <td>...</td>\n",
       "      <td>...</td>\n",
       "      <td>...</td>\n",
       "      <td>...</td>\n",
       "      <td>...</td>\n",
       "      <td>...</td>\n",
       "      <td>...</td>\n",
       "      <td>...</td>\n",
       "      <td>...</td>\n",
       "      <td>...</td>\n",
       "      <td>...</td>\n",
       "    </tr>\n",
       "    <tr>\n",
       "      <th>23267</th>\n",
       "      <td>23268</td>\n",
       "      <td>DC</td>\n",
       "      <td>Nadine West (New Earth)</td>\n",
       "      <td>Public Identity</td>\n",
       "      <td>Good Characters</td>\n",
       "      <td>NaN</td>\n",
       "      <td>NaN</td>\n",
       "      <td>Female Characters</td>\n",
       "      <td>Living Characters</td>\n",
       "      <td>NaN</td>\n",
       "      <td>NaN</td>\n",
       "      <td>1</td>\n",
       "      <td>NaN</td>\n",
       "      <td>NaN</td>\n",
       "    </tr>\n",
       "    <tr>\n",
       "      <th>23268</th>\n",
       "      <td>23269</td>\n",
       "      <td>DC</td>\n",
       "      <td>Warren Harding (New Earth)</td>\n",
       "      <td>Public Identity</td>\n",
       "      <td>Good Characters</td>\n",
       "      <td>NaN</td>\n",
       "      <td>NaN</td>\n",
       "      <td>Male Characters</td>\n",
       "      <td>Living Characters</td>\n",
       "      <td>NaN</td>\n",
       "      <td>NaN</td>\n",
       "      <td>1</td>\n",
       "      <td>NaN</td>\n",
       "      <td>NaN</td>\n",
       "    </tr>\n",
       "    <tr>\n",
       "      <th>23269</th>\n",
       "      <td>23270</td>\n",
       "      <td>DC</td>\n",
       "      <td>William Harrison (New Earth)</td>\n",
       "      <td>Public Identity</td>\n",
       "      <td>Good Characters</td>\n",
       "      <td>NaN</td>\n",
       "      <td>NaN</td>\n",
       "      <td>Male Characters</td>\n",
       "      <td>Living Characters</td>\n",
       "      <td>NaN</td>\n",
       "      <td>NaN</td>\n",
       "      <td>1</td>\n",
       "      <td>NaN</td>\n",
       "      <td>NaN</td>\n",
       "    </tr>\n",
       "    <tr>\n",
       "      <th>23270</th>\n",
       "      <td>23271</td>\n",
       "      <td>DC</td>\n",
       "      <td>William McKinley (New Earth)</td>\n",
       "      <td>Public Identity</td>\n",
       "      <td>Good Characters</td>\n",
       "      <td>NaN</td>\n",
       "      <td>NaN</td>\n",
       "      <td>Male Characters</td>\n",
       "      <td>Living Characters</td>\n",
       "      <td>NaN</td>\n",
       "      <td>NaN</td>\n",
       "      <td>1</td>\n",
       "      <td>NaN</td>\n",
       "      <td>NaN</td>\n",
       "    </tr>\n",
       "    <tr>\n",
       "      <th>23271</th>\n",
       "      <td>23272</td>\n",
       "      <td>DC</td>\n",
       "      <td>Mookie (New Earth)</td>\n",
       "      <td>Public Identity</td>\n",
       "      <td>Bad Characters</td>\n",
       "      <td>Blue Eyes</td>\n",
       "      <td>Blond Hair</td>\n",
       "      <td>Male Characters</td>\n",
       "      <td>Living Characters</td>\n",
       "      <td>NaN</td>\n",
       "      <td>NaN</td>\n",
       "      <td>1</td>\n",
       "      <td>NaN</td>\n",
       "      <td>NaN</td>\n",
       "    </tr>\n",
       "  </tbody>\n",
       "</table>\n",
       "<p>23272 rows × 14 columns</p>\n",
       "</div>"
      ],
      "text/plain": [
       "          id publisher  ...    year       date\n",
       "0          1    Marvel  ...  1962.0   8/1/1962\n",
       "1          2    Marvel  ...  1941.0   3/1/1941\n",
       "2          3    Marvel  ...  1974.0  10/1/1974\n",
       "3          4    Marvel  ...  1963.0   3/1/1963\n",
       "4          5    Marvel  ...  1950.0  11/1/1950\n",
       "...      ...       ...  ...     ...        ...\n",
       "23267  23268        DC  ...     NaN        NaN\n",
       "23268  23269        DC  ...     NaN        NaN\n",
       "23269  23270        DC  ...     NaN        NaN\n",
       "23270  23271        DC  ...     NaN        NaN\n",
       "23271  23272        DC  ...     NaN        NaN\n",
       "\n",
       "[23272 rows x 14 columns]"
      ]
     },
     "execution_count": 127,
     "metadata": {
      "tags": []
     },
     "output_type": "execute_result"
    }
   ],
   "source": [
    "comics_df = pd.read_csv('comic_characters.csv')\n",
    "comics_df"
   ]
  },
  {
   "cell_type": "code",
   "execution_count": null,
   "metadata": {
    "colab": {
     "base_uri": "https://localhost:8080/",
     "height": 450
    },
    "colab_type": "code",
    "executionInfo": {
     "elapsed": 2716,
     "status": "ok",
     "timestamp": 1598921452174,
     "user": {
      "displayName": "Matteo Althoen",
      "photoUrl": "https://lh3.googleusercontent.com/a-/AOh14GjPSPRSvtrouBaCYKVohr_lWlKVUrcrI9ppoapoQQ=s64",
      "userId": "08073588379347548325"
     },
     "user_tz": 240
    },
    "id": "8pG2DJ6fHHCB",
    "outputId": "b0cbfc37-5652-45f7-be53-bfca5ec57d3b"
   },
   "outputs": [
    {
     "data": {
      "text/html": [
       "<div>\n",
       "<style scoped>\n",
       "    .dataframe tbody tr th:only-of-type {\n",
       "        vertical-align: middle;\n",
       "    }\n",
       "\n",
       "    .dataframe tbody tr th {\n",
       "        vertical-align: top;\n",
       "    }\n",
       "\n",
       "    .dataframe thead th {\n",
       "        text-align: right;\n",
       "    }\n",
       "</style>\n",
       "<table border=\"1\" class=\"dataframe\">\n",
       "  <thead>\n",
       "    <tr style=\"text-align: right;\">\n",
       "      <th></th>\n",
       "      <th>publisher</th>\n",
       "      <th>name</th>\n",
       "      <th>Identity</th>\n",
       "      <th>align</th>\n",
       "      <th>eye</th>\n",
       "      <th>hair</th>\n",
       "      <th>sex</th>\n",
       "      <th>alive</th>\n",
       "      <th>appearances</th>\n",
       "      <th>first_appearance</th>\n",
       "      <th>month</th>\n",
       "      <th>year</th>\n",
       "      <th>date</th>\n",
       "    </tr>\n",
       "    <tr>\n",
       "      <th>id</th>\n",
       "      <th></th>\n",
       "      <th></th>\n",
       "      <th></th>\n",
       "      <th></th>\n",
       "      <th></th>\n",
       "      <th></th>\n",
       "      <th></th>\n",
       "      <th></th>\n",
       "      <th></th>\n",
       "      <th></th>\n",
       "      <th></th>\n",
       "      <th></th>\n",
       "      <th></th>\n",
       "    </tr>\n",
       "  </thead>\n",
       "  <tbody>\n",
       "    <tr>\n",
       "      <th>1</th>\n",
       "      <td>Marvel</td>\n",
       "      <td>Spider-Man (Peter Parker)</td>\n",
       "      <td>Secret Identity</td>\n",
       "      <td>Good Characters</td>\n",
       "      <td>Hazel Eyes</td>\n",
       "      <td>Brown Hair</td>\n",
       "      <td>Male Characters</td>\n",
       "      <td>Living Characters</td>\n",
       "      <td>4043.0</td>\n",
       "      <td>1962, August</td>\n",
       "      <td>August</td>\n",
       "      <td>1962.0</td>\n",
       "      <td>1962-08-01</td>\n",
       "    </tr>\n",
       "    <tr>\n",
       "      <th>2</th>\n",
       "      <td>Marvel</td>\n",
       "      <td>Captain America (Steven Rogers)</td>\n",
       "      <td>Public Identity</td>\n",
       "      <td>Good Characters</td>\n",
       "      <td>Blue Eyes</td>\n",
       "      <td>White Hair</td>\n",
       "      <td>Male Characters</td>\n",
       "      <td>Living Characters</td>\n",
       "      <td>3360.0</td>\n",
       "      <td>1941, March</td>\n",
       "      <td>March</td>\n",
       "      <td>1941.0</td>\n",
       "      <td>1941-03-01</td>\n",
       "    </tr>\n",
       "    <tr>\n",
       "      <th>3</th>\n",
       "      <td>Marvel</td>\n",
       "      <td>Wolverine (James \\\"Logan\\\" Howlett)</td>\n",
       "      <td>Public Identity</td>\n",
       "      <td>Neutral Characters</td>\n",
       "      <td>Blue Eyes</td>\n",
       "      <td>Black Hair</td>\n",
       "      <td>Male Characters</td>\n",
       "      <td>Living Characters</td>\n",
       "      <td>3061.0</td>\n",
       "      <td>1974, October</td>\n",
       "      <td>October</td>\n",
       "      <td>1974.0</td>\n",
       "      <td>1974-10-01</td>\n",
       "    </tr>\n",
       "    <tr>\n",
       "      <th>4</th>\n",
       "      <td>Marvel</td>\n",
       "      <td>Iron Man (Anthony \\\"Tony\\\" Stark)</td>\n",
       "      <td>Public Identity</td>\n",
       "      <td>Good Characters</td>\n",
       "      <td>Blue Eyes</td>\n",
       "      <td>Black Hair</td>\n",
       "      <td>Male Characters</td>\n",
       "      <td>Living Characters</td>\n",
       "      <td>2961.0</td>\n",
       "      <td>1963, March</td>\n",
       "      <td>March</td>\n",
       "      <td>1963.0</td>\n",
       "      <td>1963-03-01</td>\n",
       "    </tr>\n",
       "    <tr>\n",
       "      <th>5</th>\n",
       "      <td>Marvel</td>\n",
       "      <td>Thor (Thor Odinson)</td>\n",
       "      <td>No Dual Identity</td>\n",
       "      <td>Good Characters</td>\n",
       "      <td>Blue Eyes</td>\n",
       "      <td>Blond Hair</td>\n",
       "      <td>Male Characters</td>\n",
       "      <td>Living Characters</td>\n",
       "      <td>2258.0</td>\n",
       "      <td>1950, November</td>\n",
       "      <td>November</td>\n",
       "      <td>1950.0</td>\n",
       "      <td>1950-11-01</td>\n",
       "    </tr>\n",
       "    <tr>\n",
       "      <th>...</th>\n",
       "      <td>...</td>\n",
       "      <td>...</td>\n",
       "      <td>...</td>\n",
       "      <td>...</td>\n",
       "      <td>...</td>\n",
       "      <td>...</td>\n",
       "      <td>...</td>\n",
       "      <td>...</td>\n",
       "      <td>...</td>\n",
       "      <td>...</td>\n",
       "      <td>...</td>\n",
       "      <td>...</td>\n",
       "      <td>...</td>\n",
       "    </tr>\n",
       "    <tr>\n",
       "      <th>23268</th>\n",
       "      <td>DC</td>\n",
       "      <td>Nadine West (New Earth)</td>\n",
       "      <td>Public Identity</td>\n",
       "      <td>Good Characters</td>\n",
       "      <td>NaN</td>\n",
       "      <td>NaN</td>\n",
       "      <td>Female Characters</td>\n",
       "      <td>Living Characters</td>\n",
       "      <td>NaN</td>\n",
       "      <td>NaN</td>\n",
       "      <td>1</td>\n",
       "      <td>NaN</td>\n",
       "      <td>NaT</td>\n",
       "    </tr>\n",
       "    <tr>\n",
       "      <th>23269</th>\n",
       "      <td>DC</td>\n",
       "      <td>Warren Harding (New Earth)</td>\n",
       "      <td>Public Identity</td>\n",
       "      <td>Good Characters</td>\n",
       "      <td>NaN</td>\n",
       "      <td>NaN</td>\n",
       "      <td>Male Characters</td>\n",
       "      <td>Living Characters</td>\n",
       "      <td>NaN</td>\n",
       "      <td>NaN</td>\n",
       "      <td>1</td>\n",
       "      <td>NaN</td>\n",
       "      <td>NaT</td>\n",
       "    </tr>\n",
       "    <tr>\n",
       "      <th>23270</th>\n",
       "      <td>DC</td>\n",
       "      <td>William Harrison (New Earth)</td>\n",
       "      <td>Public Identity</td>\n",
       "      <td>Good Characters</td>\n",
       "      <td>NaN</td>\n",
       "      <td>NaN</td>\n",
       "      <td>Male Characters</td>\n",
       "      <td>Living Characters</td>\n",
       "      <td>NaN</td>\n",
       "      <td>NaN</td>\n",
       "      <td>1</td>\n",
       "      <td>NaN</td>\n",
       "      <td>NaT</td>\n",
       "    </tr>\n",
       "    <tr>\n",
       "      <th>23271</th>\n",
       "      <td>DC</td>\n",
       "      <td>William McKinley (New Earth)</td>\n",
       "      <td>Public Identity</td>\n",
       "      <td>Good Characters</td>\n",
       "      <td>NaN</td>\n",
       "      <td>NaN</td>\n",
       "      <td>Male Characters</td>\n",
       "      <td>Living Characters</td>\n",
       "      <td>NaN</td>\n",
       "      <td>NaN</td>\n",
       "      <td>1</td>\n",
       "      <td>NaN</td>\n",
       "      <td>NaT</td>\n",
       "    </tr>\n",
       "    <tr>\n",
       "      <th>23272</th>\n",
       "      <td>DC</td>\n",
       "      <td>Mookie (New Earth)</td>\n",
       "      <td>Public Identity</td>\n",
       "      <td>Bad Characters</td>\n",
       "      <td>Blue Eyes</td>\n",
       "      <td>Blond Hair</td>\n",
       "      <td>Male Characters</td>\n",
       "      <td>Living Characters</td>\n",
       "      <td>NaN</td>\n",
       "      <td>NaN</td>\n",
       "      <td>1</td>\n",
       "      <td>NaN</td>\n",
       "      <td>NaT</td>\n",
       "    </tr>\n",
       "  </tbody>\n",
       "</table>\n",
       "<p>23272 rows × 13 columns</p>\n",
       "</div>"
      ],
      "text/plain": [
       "      publisher                                 name  ...    year       date\n",
       "id                                                    ...                   \n",
       "1        Marvel            Spider-Man (Peter Parker)  ...  1962.0 1962-08-01\n",
       "2        Marvel      Captain America (Steven Rogers)  ...  1941.0 1941-03-01\n",
       "3        Marvel  Wolverine (James \\\"Logan\\\" Howlett)  ...  1974.0 1974-10-01\n",
       "4        Marvel    Iron Man (Anthony \\\"Tony\\\" Stark)  ...  1963.0 1963-03-01\n",
       "5        Marvel                  Thor (Thor Odinson)  ...  1950.0 1950-11-01\n",
       "...         ...                                  ...  ...     ...        ...\n",
       "23268        DC              Nadine West (New Earth)  ...     NaN        NaT\n",
       "23269        DC           Warren Harding (New Earth)  ...     NaN        NaT\n",
       "23270        DC         William Harrison (New Earth)  ...     NaN        NaT\n",
       "23271        DC         William McKinley (New Earth)  ...     NaN        NaT\n",
       "23272        DC                   Mookie (New Earth)  ...     NaN        NaT\n",
       "\n",
       "[23272 rows x 13 columns]"
      ]
     },
     "execution_count": 128,
     "metadata": {
      "tags": []
     },
     "output_type": "execute_result"
    }
   ],
   "source": [
    "comic_df = pd.read_csv('comic_characters.csv',\n",
    "parse_dates=['date'], dayfirst=False, index_col='id')\n",
    "comic_df"
   ]
  },
  {
   "cell_type": "markdown",
   "metadata": {
    "colab_type": "text",
    "id": "ZmmKoZMCHHCD"
   },
   "source": [
    "The goal of this lab was to provide a high level introduction to pandas. There is so much more to it. You can/should practice more. We will cover more in lecture #2."
   ]
  }
 ],
 "metadata": {
  "colab": {
   "collapsed_sections": [],
   "name": "SI618Lab1.ipynb",
   "provenance": []
  },
  "kernelspec": {
   "display_name": "Python 3",
   "language": "python",
   "name": "python3"
  },
  "language_info": {
   "codemirror_mode": {
    "name": "ipython",
    "version": 3
   },
   "file_extension": ".py",
   "mimetype": "text/x-python",
   "name": "python",
   "nbconvert_exporter": "python",
   "pygments_lexer": "ipython3",
   "version": "3.7.7"
  }
 },
 "nbformat": 4,
 "nbformat_minor": 1
}
